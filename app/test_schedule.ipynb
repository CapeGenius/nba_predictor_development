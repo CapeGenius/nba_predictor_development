{
 "cells": [
  {
   "cell_type": "code",
   "execution_count": 7,
   "metadata": {},
   "outputs": [],
   "source": [
    "from nba_api.library.http import NBAHTTP, NBAResponse\n",
    "import pandas as pd\n",
    "import requests\n",
    "from abc import ABC"
   ]
  },
  {
   "cell_type": "code",
   "execution_count": 86,
   "metadata": {},
   "outputs": [
    {
     "name": "stdout",
     "output_type": "stream",
     "text": [
      "{'gameID': '0042100303', 'vtCity': 'Miami', 'vtNickName': 'Heat', 'vtShortName': 'Miami', 'vtAbbreviation': 'MIA', 'htCity': 'Boston', 'htNickName': 'Celtics', 'htShortName': 'Boston', 'htAbbreviation': 'BOS', 'date': '05/21/2022', 'time': '08:30 PM', 'day': 'Sat', 'broadcastID': '1', 'broadcasterName': 'ABC', 'tapeDelayComments': ''}\n",
      "{'resource': 'internationalbroadcasterschedule', 'parameters': {'LeagueID': '00', 'Season': '2021', 'RegionID': 1, 'Date': '5/21/2022', 'EST': 'Y'}, 'resultSets': [{'NextGameList': []}, {'CompleteGameList': [{'gameID': '0042100303', 'vtCity': 'Miami', 'vtNickName': 'Heat', 'vtShortName': 'Miami', 'vtAbbreviation': 'MIA', 'htCity': 'Boston', 'htNickName': 'Celtics', 'htShortName': 'Boston', 'htAbbreviation': 'BOS', 'date': '05/21/2022', 'time': '08:30 PM', 'day': 'Sat', 'broadcastID': '1', 'broadcasterName': 'ABC', 'tapeDelayComments': ''}]}]}\n"
     ]
    }
   ],
   "source": [
    "# url = \"https://stats.nba.com/stats/internationalbroadcasterschedule?LeagueID=00&Season=2021&RegionID=1&Date=5/21/2022&EST=Y\"\n",
    "# r = requests.get(\n",
    "#     \"https://stats.nba.com/stats/internationalbroadcasterschedule?LeagueID=00&Season=2021&RegionID=1&Date=5/21/2022&EST=Y\"\n",
    "# )\n",
    "\n",
    "url = \"https://stats.nba.com/stats/internationalbroadcasterschedule?LeagueID=00&Season=2022&RegionID=1&Date=5/21/2022&EST=Y\"\n",
    "\n",
    "r = requests.get(\n",
    "    \"https://stats.nba.com/stats/internationalbroadcasterschedule?LeagueID=00&Season=2021&RegionID=1&Date=5/21/2022&EST=Y\"\n",
    ")\n",
    "\n",
    "data = r.json()\n",
    "\n",
    "\n",
    "# df = pd.DataFrame.from_dict(data[\"parameters\"])\n",
    "\n",
    "print(data[\"resultSets\"][1][\"CompleteGameList\"][0])\n",
    "df = pd.DataFrame.from_records(data[\"resultSets\"][1][\"CompleteGameList\"], index=range(len(data[\"resultSets\"][1][\"CompleteGameList\"])))\n",
    "print(data)"
   ]
  },
  {
   "cell_type": "code",
   "execution_count": 31,
   "metadata": {},
   "outputs": [
    {
     "data": {
      "text/plain": [
       "[{'NextGameList': []},\n",
       " {'CompleteGameList': [{'gameID': '0042100303',\n",
       "    'vtCity': 'Miami',\n",
       "    'vtNickName': 'Heat',\n",
       "    'vtShortName': 'Miami',\n",
       "    'vtAbbreviation': 'MIA',\n",
       "    'htCity': 'Boston',\n",
       "    'htNickName': 'Celtics',\n",
       "    'htShortName': 'Boston',\n",
       "    'htAbbreviation': 'BOS',\n",
       "    'date': '05/21/2022',\n",
       "    'time': '08:30 PM',\n",
       "    'day': 'Sat',\n",
       "    'broadcastID': '1',\n",
       "    'broadcasterName': 'ABC',\n",
       "    'tapeDelayComments': ''}]}]"
      ]
     },
     "execution_count": 31,
     "metadata": {},
     "output_type": "execute_result"
    }
   ],
   "source": [
    "data[\"resultSets\"]"
   ]
  },
  {
   "cell_type": "code",
   "execution_count": 66,
   "metadata": {},
   "outputs": [
    {
     "name": "stdout",
     "output_type": "stream",
     "text": [
      "0\n",
      "1\n",
      "2\n",
      "3\n",
      "4\n",
      "5\n",
      "6\n"
     ]
    },
    {
     "data": {
      "text/plain": [
       "datetime.datetime(2023, 3, 17, 0, 0)"
      ]
     },
     "execution_count": 66,
     "metadata": {},
     "output_type": "execute_result"
    }
   ],
   "source": [
    "import datetime\n",
    "from datetime import datetime\n",
    "from datetime import timedelta\n",
    "\n",
    "start_date = \"03/10/23\"\n",
    "\n",
    "delta = timedelta(days=7)\n",
    "\n",
    "date_1 = datetime.strptime(start_date, \"%m/%d/%y\")\n",
    "date_2 = date_1 + timedelta(days=7)\n",
    "\n",
    "delta = date_2 - date_1\n",
    "\n",
    "for i, date in enumerate(range(delta.days)):\n",
    "    day = date_1 + timedelta(days=i)\n",
    "    print(date)\n",
    "\n",
    "timedelta(days=7)\n",
    "date_2"
   ]
  },
  {
   "cell_type": "code",
   "execution_count": 88,
   "metadata": {},
   "outputs": [
    {
     "name": "stdout",
     "output_type": "stream",
     "text": [
      "https://stats.nba.com/stats/internationalbroadcasterschedule?LeagueID=00&Season=2021&RegionID=1&Date=5/21/2021&EST=Y\n",
      "https://stats.nba.com/stats/internationalbroadcasterschedule?LeagueID=00&Season=2021&RegionID=1&Date=5/21/2022&EST=Y\n"
     ]
    },
    {
     "data": {
      "text/plain": [
       "{'resource': 'internationalbroadcasterschedule',\n",
       " 'parameters': {'LeagueID': '00',\n",
       "  'Season': '2021',\n",
       "  'RegionID': 1,\n",
       "  'Date': '5/21/2022',\n",
       "  'EST': 'Y'},\n",
       " 'resultSets': [{'NextGameList': []},\n",
       "  {'CompleteGameList': [{'gameID': '0042100303',\n",
       "     'vtCity': 'Miami',\n",
       "     'vtNickName': 'Heat',\n",
       "     'vtShortName': 'Miami',\n",
       "     'vtAbbreviation': 'MIA',\n",
       "     'htCity': 'Boston',\n",
       "     'htNickName': 'Celtics',\n",
       "     'htShortName': 'Boston',\n",
       "     'htAbbreviation': 'BOS',\n",
       "     'date': '05/21/2022',\n",
       "     'time': '08:30 PM',\n",
       "     'day': 'Sat',\n",
       "     'broadcastID': '1',\n",
       "     'broadcasterName': 'ABC',\n",
       "     'tapeDelayComments': ''}]}]}"
      ]
     },
     "execution_count": 88,
     "metadata": {},
     "output_type": "execute_result"
    }
   ],
   "source": [
    "from generate_schedule import NBADaySchedule\n",
    "\n",
    "delta = timedelta(days=7)\n",
    "start_date = \"05/21/21\"\n",
    "date_1 = datetime.strptime(start_date, \"%m/%d/%y\")\n",
    "url = \"https://stats.nba.com/stats/internationalbroadcasterschedule?LeagueID=00&Season=2021&RegionID=1&Date=5/21/2022&EST=Y\"\n",
    "url2 = \"https://stats.nba.com/stats/internationalbroadcasterschedule?LeagueID=00&Season=2021&RegionID=1&Date=5/21/2022&EST=Y\"\n",
    "current_schedule = NBADaySchedule(date_1.month, date_1.day, date_1.year)\n",
    "\n",
    "# print(current_schedule)\n",
    "r = requests.get(\n",
    "    current_schedule._url\n",
    ")\n",
    "\n",
    "r2 = requests.get(\n",
    "    url\n",
    ")\n",
    "\n",
    "print(current_schedule._url)\n",
    "print(url)\n",
    "\n",
    "data = r.json()\n",
    "data2 = r2.json()\n",
    "data2"
   ]
  }
 ],
 "metadata": {
  "kernelspec": {
   "display_name": "Python 3",
   "language": "python",
   "name": "python3"
  },
  "language_info": {
   "codemirror_mode": {
    "name": "ipython",
    "version": 3
   },
   "file_extension": ".py",
   "mimetype": "text/x-python",
   "name": "python",
   "nbconvert_exporter": "python",
   "pygments_lexer": "ipython3",
   "version": "3.10.12"
  }
 },
 "nbformat": 4,
 "nbformat_minor": 2
}
