{
 "cells": [
  {
   "cell_type": "code",
   "execution_count": 1,
   "metadata": {},
   "outputs": [],
   "source": [
    "%load_ext autoreload\n",
    "%autoreload 2"
   ]
  },
  {
   "cell_type": "markdown",
   "metadata": {},
   "source": [
    "# Data Preparation"
   ]
  },
  {
   "cell_type": "code",
   "execution_count": 2,
   "metadata": {},
   "outputs": [],
   "source": [
    "# Data Preparation\n",
    "import pandas as pd\n",
    "\n",
    "all_players_df = pd.read_csv(\"data/all_players.csv\")\n",
    "all_games_df = pd.read_csv(\"data/all_games.csv\",encoding=\"utf-8\")\n",
    "all_games_df.dropna(inplace=True)\n",
    "columns = [\"FG_PCT\", \"FG3_PCT\", \"FTM\", \"OREB\", \"DREB\", \"REB\", \"AST\"]\n",
    "string_columns = [\"GAME_DATE\", \"GAME_ID\"]\n",
    "columns_a = [column + \"_A\" for column in columns]\n",
    "columns_b = [column + \"_B\" for column in columns]\n",
    "games_df = all_games_df[string_columns + columns_a + columns_b]\n",
    "all_players_df.drop(\n",
    "    columns=[\n",
    "        \"HomeTeamPlayer1_PLAYER_NAME\",\n",
    "        \"HomeTeamPlayer2_PLAYER_NAME\",\n",
    "        \"HomeTeamPlayer3_PLAYER_NAME\",\n",
    "        \"HomeTeamPlayer4_PLAYER_NAME\",\n",
    "        \"HomeTeamPlayer5_PLAYER_NAME\",\n",
    "        \"HomeTeamPlayer6_PLAYER_NAME\",\n",
    "    ], inplace=True\n",
    ")\n",
    "all_players_df.drop(\n",
    "    columns=[\n",
    "        \"AwayTeamPlayer1_PLAYER_NAME\",\n",
    "        \"AwayTeamPlayer2_PLAYER_NAME\",\n",
    "        \"AwayTeamPlayer3_PLAYER_NAME\",\n",
    "        \"AwayTeamPlayer4_PLAYER_NAME\",\n",
    "        \"AwayTeamPlayer5_PLAYER_NAME\",\n",
    "        \"AwayTeamPlayer6_PLAYER_NAME\",\n",
    "    ],\n",
    "    inplace=True,\n",
    ")\n",
    "## Gets Necessary Columns\n",
    "columns = list(all_players_df.columns)\n",
    "home_1 = columns.index(\"TEAM_ID_home\")\n",
    "home_2 = columns.index(\"TEAM_ID_away\")\n",
    "away_1 = columns.index(\"TEAM_ID_away\")\n",
    "home_columns = columns[home_1:home_2]\n",
    "away_columns = columns[away_1:]\n",
    "## Merges Last N Game Averages with Data on All Games\n",
    "from api_helpers.game_stats_helpers import load_player_n_games\n",
    "\n",
    "# gets the last n games for players\n",
    "players_n_df = load_player_n_games(\n",
    "    players_df=all_players_df, home_columns=home_columns, away_columns=away_columns, n=5\n",
    ")\n",
    "\n",
    "# merges data on the player's average for the past n games with all games\n",
    "merged_data = pd.merge(\n",
    "    players_n_df, games_df, on=[\"GAME_ID\", \"GAME_DATE\"]\n",
    ")"
   ]
  },
  {
   "cell_type": "code",
   "execution_count": 3,
   "metadata": {},
   "outputs": [],
   "source": [
    "X_columns = home_columns+away_columns\n",
    "X_columns.remove(\"TEAM_ID_home\")\n",
    "X_columns.remove(\"TEAM_ID_away\")\n",
    "X = merged_data[X_columns]"
   ]
  },
  {
   "cell_type": "code",
   "execution_count": 4,
   "metadata": {},
   "outputs": [],
   "source": [
    "columns_y = columns_a + columns_b\n",
    "y = merged_data[columns_y]"
   ]
  },
  {
   "cell_type": "markdown",
   "metadata": {},
   "source": [
    "## Test Train Split"
   ]
  },
  {
   "cell_type": "code",
   "execution_count": 5,
   "metadata": {},
   "outputs": [],
   "source": [
    "from sklearn.model_selection import train_test_split\n",
    "import numpy as np\n",
    "\n",
    "\n",
    "X_train, X_test, y_train, y_test = train_test_split(X, y, test_size=0.2, random_state=3)"
   ]
  },
  {
   "cell_type": "markdown",
   "metadata": {},
   "source": [
    "# Preloading Neural Network"
   ]
  },
  {
   "cell_type": "code",
   "execution_count": 6,
   "metadata": {},
   "outputs": [
    {
     "name": "stderr",
     "output_type": "stream",
     "text": [
      "2024-07-31 14:42:48.416104: I tensorflow/core/util/port.cc:153] oneDNN custom operations are on. You may see slightly different numerical results due to floating-point round-off errors from different computation orders. To turn them off, set the environment variable `TF_ENABLE_ONEDNN_OPTS=0`.\n",
      "2024-07-31 14:42:48.422929: E external/local_xla/xla/stream_executor/cuda/cuda_fft.cc:485] Unable to register cuFFT factory: Attempting to register factory for plugin cuFFT when one has already been registered\n",
      "2024-07-31 14:42:48.429980: E external/local_xla/xla/stream_executor/cuda/cuda_dnn.cc:8454] Unable to register cuDNN factory: Attempting to register factory for plugin cuDNN when one has already been registered\n",
      "2024-07-31 14:42:48.431990: E external/local_xla/xla/stream_executor/cuda/cuda_blas.cc:1452] Unable to register cuBLAS factory: Attempting to register factory for plugin cuBLAS when one has already been registered\n",
      "2024-07-31 14:42:48.437716: I tensorflow/core/platform/cpu_feature_guard.cc:210] This TensorFlow binary is optimized to use available CPU instructions in performance-critical operations.\n",
      "To enable the following instructions: AVX2 AVX_VNNI FMA, in other operations, rebuild TensorFlow with the appropriate compiler flags.\n",
      "2024-07-31 14:42:48.856406: W tensorflow/compiler/tf2tensorrt/utils/py_utils.cc:38] TF-TRT Warning: Could not find TensorRT\n"
     ]
    },
    {
     "name": "stdout",
     "output_type": "stream",
     "text": [
      "Loaded model from disk\n"
     ]
    },
    {
     "name": "stderr",
     "output_type": "stream",
     "text": [
      "2024-07-31 14:42:49.109744: E external/local_xla/xla/stream_executor/cuda/cuda_driver.cc:266] failed call to cuInit: CUDA_ERROR_UNKNOWN: unknown error\n",
      "2024-07-31 14:42:49.109758: I external/local_xla/xla/stream_executor/cuda/cuda_diagnostics.cc:135] retrieving CUDA diagnostic information for host: rohanbendapudi-Precision-3581\n",
      "2024-07-31 14:42:49.109761: I external/local_xla/xla/stream_executor/cuda/cuda_diagnostics.cc:142] hostname: rohanbendapudi-Precision-3581\n",
      "2024-07-31 14:42:49.109830: I external/local_xla/xla/stream_executor/cuda/cuda_diagnostics.cc:166] libcuda reported version is: 545.29.6\n",
      "2024-07-31 14:42:49.109839: I external/local_xla/xla/stream_executor/cuda/cuda_diagnostics.cc:170] kernel reported version is: 545.29.6\n",
      "2024-07-31 14:42:49.109840: I external/local_xla/xla/stream_executor/cuda/cuda_diagnostics.cc:249] kernel version seems to match DSO: 545.29.6\n"
     ]
    }
   ],
   "source": [
    "# Predicting Game Outcome\n",
    "from tensorflow.keras.models import model_from_json\n",
    "\n",
    "# load json and create model\n",
    "json_file = open(\"tuned_nn.json\", \"r\")\n",
    "loaded_model_json = json_file.read()\n",
    "json_file.close()\n",
    "loaded_model = model_from_json(loaded_model_json)\n",
    "# load weights into new model\n",
    "loaded_model.load_weights(\"tuned.weights.h5\")\n",
    "print(\"Loaded model from disk\")\n",
    "\n",
    "# evaluate loaded model on test data\n",
    "loaded_model.compile(\n",
    "    loss=\"categorical_crossentropy\", optimizer=\"adam\", metrics=[\"accuracy\"]\n",
    ")"
   ]
  },
  {
   "cell_type": "code",
   "execution_count": 7,
   "metadata": {},
   "outputs": [
    {
     "name": "stderr",
     "output_type": "stream",
     "text": [
      "/tmp/ipykernel_350210/1947466452.py:3: FutureWarning: Downcasting behavior in `replace` is deprecated and will be removed in a future version. To retain the old behavior, explicitly call `result.infer_objects(copy=False)`. To opt-in to the future behavior, set `pd.set_option('future.no_silent_downcasting', True)`\n",
      "  y_final_true.replace(\"L\",0,inplace=True)\n"
     ]
    }
   ],
   "source": [
    "y_final_true = all_games_df[\"WL_A\"].iloc[y_test.index].to_frame()\n",
    "y_final_true.replace(\"W\",1,inplace=True)\n",
    "y_final_true.replace(\"L\",0,inplace=True)\n",
    "y_final_true.replace(\" \",0,inplace=True)\n",
    "y_final_true = list(y_final_true[\"WL_A\"])"
   ]
  },
  {
   "cell_type": "markdown",
   "metadata": {},
   "source": [
    "# Building and Testing XGBoost"
   ]
  },
  {
   "cell_type": "markdown",
   "metadata": {},
   "source": [
    "## Hyperparameter Tuning"
   ]
  },
  {
   "cell_type": "code",
   "execution_count": 12,
   "metadata": {},
   "outputs": [
    {
     "name": "stderr",
     "output_type": "stream",
     "text": [
      "[I 2024-07-31 14:48:12,959] A new study created in memory with name: no-name-eb19e493-cdb0-4781-86b3-b32cd50f7190\n"
     ]
    },
    {
     "name": "stdout",
     "output_type": "stream",
     "text": [
      "\u001b[1m207/207\u001b[0m \u001b[32m━━━━━━━━━━━━━━━━━━━━\u001b[0m\u001b[37m\u001b[0m \u001b[1m2s\u001b[0m 8ms/step\n",
      "\u001b[1m207/207\u001b[0m \u001b[32m━━━━━━━━━━━━━━━━━━━━\u001b[0m\u001b[37m\u001b[0m \u001b[1m3s\u001b[0m 12ms/step\n",
      "\u001b[1m207/207\u001b[0m \u001b[32m━━━━━━━━━━━━━━━━━━━━\u001b[0m\u001b[37m\u001b[0m \u001b[1m3s\u001b[0m 12ms/step\n",
      "\u001b[1m207/207\u001b[0m \u001b[32m━━━━━━━━━━━━━━━━━━━━\u001b[0m\u001b[37m\u001b[0m \u001b[1m3s\u001b[0m 13ms/step\n",
      "\u001b[1m207/207\u001b[0m \u001b[32m━━━━━━━━━━━━━━━━━━━━\u001b[0m\u001b[37m\u001b[0m \u001b[1m3s\u001b[0m 14ms/step\n",
      "\u001b[1m207/207\u001b[0m \u001b[32m━━━━━━━━━━━━━━━━━━━━\u001b[0m\u001b[37m\u001b[0m \u001b[1m3s\u001b[0m 14ms/step\n",
      "\u001b[1m207/207\u001b[0m \u001b[32m━━━━━━━━━━━━━━━━━━━━\u001b[0m\u001b[37m\u001b[0m \u001b[1m3s\u001b[0m 13ms/step\n",
      "\u001b[1m207/207\u001b[0m \u001b[32m━━━━━━━━━━━━━━━━━━━━\u001b[0m\u001b[37m\u001b[0m \u001b[1m3s\u001b[0m 13ms/step\n",
      "\u001b[1m207/207\u001b[0m \u001b[32m━━━━━━━━━━━━━━━━━━━━\u001b[0m\u001b[37m\u001b[0m \u001b[1m3s\u001b[0m 13ms/step\n",
      "\u001b[1m207/207\u001b[0m \u001b[32m━━━━━━━━━━━━━━━━━━━━\u001b[0m\u001b[37m\u001b[0m \u001b[1m3s\u001b[0m 13ms/step\n"
     ]
    },
    {
     "name": "stderr",
     "output_type": "stream",
     "text": [
      "[I 2024-07-31 14:48:48,729] Trial 3 finished with value: 0.5967961311772707 and parameters: {'gamma': 21, 'learning_rate': 0.01, 'colsample_bytree': 0.3}. Best is trial 3 with value: 0.5967961311772707.\n",
      "[I 2024-07-31 14:48:49,201] Trial 8 finished with value: 0.5967961311772707 and parameters: {'gamma': 18, 'learning_rate': 0.018, 'colsample_bytree': 0.4}. Best is trial 3 with value: 0.5967961311772707.\n",
      "[I 2024-07-31 14:48:49,356] Trial 4 finished with value: 0.5967961311772707 and parameters: {'gamma': 24, 'learning_rate': 0.02, 'colsample_bytree': 0.6}. Best is trial 3 with value: 0.5967961311772707.\n",
      "[I 2024-07-31 14:48:49,477] Trial 5 finished with value: 0.5967961311772707 and parameters: {'gamma': 23, 'learning_rate': 0.014, 'colsample_bytree': 0.6}. Best is trial 3 with value: 0.5967961311772707.\n",
      "[I 2024-07-31 14:48:49,478] Trial 2 finished with value: 0.5967961311772707 and parameters: {'gamma': 25, 'learning_rate': 0.012, 'colsample_bytree': 1.0}. Best is trial 3 with value: 0.5967961311772707.\n",
      "[I 2024-07-31 14:48:49,481] Trial 6 finished with value: 0.5967961311772707 and parameters: {'gamma': 19, 'learning_rate': 0.008, 'colsample_bytree': 0.5}. Best is trial 3 with value: 0.5967961311772707.\n",
      "[I 2024-07-31 14:48:49,596] Trial 1 finished with value: 0.5967961311772707 and parameters: {'gamma': 21, 'learning_rate': 0.012, 'colsample_bytree': 1.0}. Best is trial 3 with value: 0.5967961311772707.\n",
      "[I 2024-07-31 14:48:49,598] Trial 7 finished with value: 0.5967961311772707 and parameters: {'gamma': 19, 'learning_rate': 0.016, 'colsample_bytree': 0.9}. Best is trial 3 with value: 0.5967961311772707.\n",
      "[I 2024-07-31 14:48:49,676] Trial 0 finished with value: 0.5967961311772707 and parameters: {'gamma': 23, 'learning_rate': 0.018, 'colsample_bytree': 0.9}. Best is trial 3 with value: 0.5967961311772707.\n",
      "[I 2024-07-31 14:48:49,696] Trial 9 finished with value: 0.5967961311772707 and parameters: {'gamma': 25, 'learning_rate': 0.012, 'colsample_bytree': 0.6}. Best is trial 3 with value: 0.5967961311772707.\n"
     ]
    },
    {
     "name": "stdout",
     "output_type": "stream",
     "text": [
      "\u001b[1m207/207\u001b[0m \u001b[32m━━━━━━━━━━━━━━━━━━━━\u001b[0m\u001b[37m\u001b[0m \u001b[1m0s\u001b[0m 1ms/step\n"
     ]
    },
    {
     "name": "stderr",
     "output_type": "stream",
     "text": [
      "[I 2024-07-31 14:49:23,859] Trial 10 finished with value: 0.5967961311772707 and parameters: {'gamma': 18, 'learning_rate': 0.014, 'colsample_bytree': 0.4}. Best is trial 3 with value: 0.5967961311772707.\n"
     ]
    },
    {
     "name": "stdout",
     "output_type": "stream",
     "text": [
      "\u001b[1m207/207\u001b[0m \u001b[32m━━━━━━━━━━━━━━━━━━━━\u001b[0m\u001b[37m\u001b[0m \u001b[1m1s\u001b[0m 7ms/step\n",
      "\u001b[1m207/207\u001b[0m \u001b[32m━━━━━━━━━━━━━━━━━━━━\u001b[0m\u001b[37m\u001b[0m \u001b[1m2s\u001b[0m 9ms/step\n",
      "\u001b[1m207/207\u001b[0m \u001b[32m━━━━━━━━━━━━━━━━━━━━\u001b[0m\u001b[37m\u001b[0m \u001b[1m2s\u001b[0m 9ms/step\n",
      "\u001b[1m207/207\u001b[0m \u001b[32m━━━━━━━━━━━━━━━━━━━━\u001b[0m\u001b[37m\u001b[0m \u001b[1m2s\u001b[0m 8ms/step\n",
      "\u001b[1m207/207\u001b[0m \u001b[32m━━━━━━━━━━━━━━━━━━━━\u001b[0m\u001b[37m\u001b[0m \u001b[1m2s\u001b[0m 9ms/step\n",
      "\u001b[1m207/207\u001b[0m \u001b[32m━━━━━━━━━━━━━━━━━━━━\u001b[0m\u001b[37m\u001b[0m \u001b[1m1s\u001b[0m 7ms/step\n",
      "\u001b[1m207/207\u001b[0m \u001b[32m━━━━━━━━━━━━━━━━━━━━\u001b[0m\u001b[37m\u001b[0m \u001b[1m2s\u001b[0m 7ms/step\n",
      "\u001b[1m207/207\u001b[0m \u001b[32m━━━━━━━━━━━━━━━━━━━━\u001b[0m\u001b[37m\u001b[0m \u001b[1m1s\u001b[0m 7ms/step\n",
      "\u001b[1m207/207\u001b[0m \u001b[32m━━━━━━━━━━━━━━━━━━━━\u001b[0m\u001b[37m\u001b[0m \u001b[1m1s\u001b[0m 7ms/step\n"
     ]
    },
    {
     "name": "stderr",
     "output_type": "stream",
     "text": [
      "[I 2024-07-31 14:49:27,656] Trial 11 finished with value: 0.5967961311772707 and parameters: {'gamma': 25, 'learning_rate': 0.01, 'colsample_bytree': 0.7}. Best is trial 3 with value: 0.5967961311772707.\n",
      "[I 2024-07-31 14:49:27,913] Trial 12 finished with value: 0.5967961311772707 and parameters: {'gamma': 24, 'learning_rate': 0.016, 'colsample_bytree': 0.7}. Best is trial 3 with value: 0.5967961311772707.\n",
      "[I 2024-07-31 14:49:27,948] Trial 14 finished with value: 0.5967961311772707 and parameters: {'gamma': 19, 'learning_rate': 0.008, 'colsample_bytree': 0.4}. Best is trial 3 with value: 0.5967961311772707.\n",
      "[I 2024-07-31 14:49:28,023] Trial 13 finished with value: 0.5967961311772707 and parameters: {'gamma': 23, 'learning_rate': 0.01, 'colsample_bytree': 0.5}. Best is trial 3 with value: 0.5967961311772707.\n",
      "[I 2024-07-31 14:49:28,111] Trial 17 finished with value: 0.5967961311772707 and parameters: {'gamma': 23, 'learning_rate': 0.012, 'colsample_bytree': 0.7}. Best is trial 3 with value: 0.5967961311772707.\n",
      "[I 2024-07-31 14:49:28,133] Trial 18 finished with value: 0.5967961311772707 and parameters: {'gamma': 23, 'learning_rate': 0.018, 'colsample_bytree': 0.9}. Best is trial 3 with value: 0.5967961311772707.\n",
      "[I 2024-07-31 14:49:28,134] Trial 16 finished with value: 0.5967961311772707 and parameters: {'gamma': 21, 'learning_rate': 0.016, 'colsample_bytree': 0.8}. Best is trial 3 with value: 0.5967961311772707.\n",
      "[I 2024-07-31 14:49:28,134] Trial 15 finished with value: 0.5967961311772707 and parameters: {'gamma': 18, 'learning_rate': 0.008, 'colsample_bytree': 1.0}. Best is trial 3 with value: 0.5967961311772707.\n",
      "[I 2024-07-31 14:49:28,270] Trial 19 finished with value: 0.5967961311772707 and parameters: {'gamma': 23, 'learning_rate': 0.018, 'colsample_bytree': 0.9}. Best is trial 3 with value: 0.5967961311772707.\n"
     ]
    },
    {
     "name": "stdout",
     "output_type": "stream",
     "text": [
      "\u001b[1m207/207\u001b[0m \u001b[32m━━━━━━━━━━━━━━━━━━━━\u001b[0m\u001b[37m\u001b[0m \u001b[1m0s\u001b[0m 1ms/step\n"
     ]
    },
    {
     "name": "stderr",
     "output_type": "stream",
     "text": [
      "[I 2024-07-31 14:49:54,876] Trial 20 finished with value: 0.5967961311772707 and parameters: {'gamma': 21, 'learning_rate': 0.018, 'colsample_bytree': 1.0}. Best is trial 3 with value: 0.5967961311772707.\n"
     ]
    },
    {
     "name": "stdout",
     "output_type": "stream",
     "text": [
      "\u001b[1m207/207\u001b[0m \u001b[32m━━━━━━━━━━━━━━━━━━━━\u001b[0m\u001b[37m\u001b[0m \u001b[1m0s\u001b[0m 1ms/step\n",
      "\u001b[1m 34/207\u001b[0m \u001b[32m━━━\u001b[0m\u001b[37m━━━━━━━━━━━━━━━━━\u001b[0m \u001b[1m2s\u001b[0m 13ms/step"
     ]
    },
    {
     "name": "stderr",
     "output_type": "stream",
     "text": [
      "[I 2024-07-31 14:50:04,880] Trial 21 finished with value: 0.5967961311772707 and parameters: {'gamma': 22, 'learning_rate': 0.018, 'colsample_bytree': 1.0}. Best is trial 3 with value: 0.5967961311772707.\n"
     ]
    },
    {
     "name": "stdout",
     "output_type": "stream",
     "text": [
      "\u001b[1m207/207\u001b[0m \u001b[32m━━━━━━━━━━━━━━━━━━━━\u001b[0m\u001b[37m\u001b[0m \u001b[1m2s\u001b[0m 7ms/step\n",
      "\u001b[1m207/207\u001b[0m \u001b[32m━━━━━━━━━━━━━━━━━━━━\u001b[0m\u001b[37m\u001b[0m \u001b[1m1s\u001b[0m 7ms/step\n",
      "\u001b[1m207/207\u001b[0m \u001b[32m━━━━━━━━━━━━━━━━━━━━\u001b[0m\u001b[37m\u001b[0m \u001b[1m1s\u001b[0m 6ms/step\n",
      "\u001b[1m207/207\u001b[0m \u001b[32m━━━━━━━━━━━━━━━━━━━━\u001b[0m\u001b[37m\u001b[0m \u001b[1m1s\u001b[0m 6ms/step\n",
      "\u001b[1m207/207\u001b[0m \u001b[32m━━━━━━━━━━━━━━━━━━━━\u001b[0m\u001b[37m\u001b[0m \u001b[1m1s\u001b[0m 6ms/step\n",
      "\u001b[1m207/207\u001b[0m \u001b[32m━━━━━━━━━━━━━━━━━━━━\u001b[0m\u001b[37m\u001b[0m \u001b[1m1s\u001b[0m 6ms/step\n",
      "\u001b[1m207/207\u001b[0m \u001b[32m━━━━━━━━━━━━━━━━━━━━\u001b[0m\u001b[37m\u001b[0m \u001b[1m1s\u001b[0m 6ms/step\n",
      "\u001b[1m207/207\u001b[0m \u001b[32m━━━━━━━━━━━━━━━━━━━━\u001b[0m\u001b[37m\u001b[0m \u001b[1m1s\u001b[0m 5ms/step\n"
     ]
    },
    {
     "name": "stderr",
     "output_type": "stream",
     "text": [
      "[I 2024-07-31 14:50:06,584] Trial 29 finished with value: 0.5967961311772707 and parameters: {'gamma': 22, 'learning_rate': 0.02, 'colsample_bytree': 1.0}. Best is trial 3 with value: 0.5967961311772707.\n",
      "[I 2024-07-31 14:50:06,592] Trial 25 finished with value: 0.5967961311772707 and parameters: {'gamma': 20, 'learning_rate': 0.018, 'colsample_bytree': 0.8}. Best is trial 3 with value: 0.5967961311772707.\n",
      "[I 2024-07-31 14:50:06,608] Trial 28 finished with value: 0.5967961311772707 and parameters: {'gamma': 22, 'learning_rate': 0.02, 'colsample_bytree': 1.0}. Best is trial 3 with value: 0.5967961311772707.\n",
      "[I 2024-07-31 14:50:06,660] Trial 24 finished with value: 0.5967961311772707 and parameters: {'gamma': 20, 'learning_rate': 0.018, 'colsample_bytree': 0.8}. Best is trial 3 with value: 0.5967961311772707.\n",
      "[I 2024-07-31 14:50:06,734] Trial 22 finished with value: 0.5967961311772707 and parameters: {'gamma': 23, 'learning_rate': 0.018, 'colsample_bytree': 0.9}. Best is trial 3 with value: 0.5967961311772707.\n",
      "[I 2024-07-31 14:50:06,873] Trial 26 finished with value: 0.5967961311772707 and parameters: {'gamma': 20, 'learning_rate': 0.018, 'colsample_bytree': 0.9}. Best is trial 3 with value: 0.5967961311772707.\n",
      "[I 2024-07-31 14:50:06,926] Trial 23 finished with value: 0.5967961311772707 and parameters: {'gamma': 23, 'learning_rate': 0.018, 'colsample_bytree': 1.0}. Best is trial 3 with value: 0.5967961311772707.\n",
      "[I 2024-07-31 14:50:06,959] Trial 27 finished with value: 0.5967961311772707 and parameters: {'gamma': 20, 'learning_rate': 0.018, 'colsample_bytree': 1.0}. Best is trial 3 with value: 0.5967961311772707.\n"
     ]
    },
    {
     "name": "stdout",
     "output_type": "stream",
     "text": [
      "\u001b[1m207/207\u001b[0m \u001b[32m━━━━━━━━━━━━━━━━━━━━\u001b[0m\u001b[37m\u001b[0m \u001b[1m0s\u001b[0m 1ms/step\n"
     ]
    },
    {
     "name": "stderr",
     "output_type": "stream",
     "text": [
      "[I 2024-07-31 14:50:26,422] Trial 30 finished with value: 0.5967961311772707 and parameters: {'gamma': 22, 'learning_rate': 0.012, 'colsample_bytree': 1.0}. Best is trial 3 with value: 0.5967961311772707.\n"
     ]
    },
    {
     "name": "stdout",
     "output_type": "stream",
     "text": [
      "\u001b[1m207/207\u001b[0m \u001b[32m━━━━━━━━━━━━━━━━━━━━\u001b[0m\u001b[37m\u001b[0m \u001b[1m0s\u001b[0m 1ms/step\n"
     ]
    },
    {
     "name": "stderr",
     "output_type": "stream",
     "text": [
      "[I 2024-07-31 14:50:39,693] Trial 31 finished with value: 0.5967961311772707 and parameters: {'gamma': 20, 'learning_rate': 0.012, 'colsample_bytree': 1.0}. Best is trial 3 with value: 0.5967961311772707.\n"
     ]
    },
    {
     "name": "stdout",
     "output_type": "stream",
     "text": [
      "\u001b[1m207/207\u001b[0m \u001b[32m━━━━━━━━━━━━━━━━━━━━\u001b[0m\u001b[37m\u001b[0m \u001b[1m1s\u001b[0m 5ms/step\n",
      "\u001b[1m207/207\u001b[0m \u001b[32m━━━━━━━━━━━━━━━━━━━━\u001b[0m\u001b[37m\u001b[0m \u001b[1m1s\u001b[0m 6ms/step\n",
      "\u001b[1m207/207\u001b[0m \u001b[32m━━━━━━━━━━━━━━━━━━━━\u001b[0m\u001b[37m\u001b[0m \u001b[1m1s\u001b[0m 6ms/step\n",
      "\u001b[1m207/207\u001b[0m \u001b[32m━━━━━━━━━━━━━━━━━━━━\u001b[0m\u001b[37m\u001b[0m \u001b[1m1s\u001b[0m 6ms/step\n",
      "\u001b[1m207/207\u001b[0m \u001b[32m━━━━━━━━━━━━━━━━━━━━\u001b[0m\u001b[37m\u001b[0m \u001b[1m1s\u001b[0m 5ms/step\n",
      "\u001b[1m207/207\u001b[0m \u001b[32m━━━━━━━━━━━━━━━━━━━━\u001b[0m\u001b[37m\u001b[0m \u001b[1m1s\u001b[0m 5ms/step\n",
      "\u001b[1m207/207\u001b[0m \u001b[32m━━━━━━━━━━━━━━━━━━━━\u001b[0m\u001b[37m\u001b[0m \u001b[1m1s\u001b[0m 5ms/step\n",
      "\u001b[1m203/207\u001b[0m \u001b[32m━━━━━━━━━━━━━━━━━━━\u001b[0m\u001b[37m━\u001b[0m \u001b[1m0s\u001b[0m 4ms/step"
     ]
    },
    {
     "name": "stderr",
     "output_type": "stream",
     "text": [
      "[I 2024-07-31 14:50:46,016] Trial 35 finished with value: 0.5967961311772707 and parameters: {'gamma': 25, 'learning_rate': 0.012, 'colsample_bytree': 0.3}. Best is trial 3 with value: 0.5967961311772707.\n"
     ]
    },
    {
     "name": "stdout",
     "output_type": "stream",
     "text": [
      "\u001b[1m207/207\u001b[0m \u001b[32m━━━━━━━━━━━━━━━━━━━━\u001b[0m\u001b[37m\u001b[0m \u001b[1m1s\u001b[0m 4ms/step\n"
     ]
    },
    {
     "name": "stderr",
     "output_type": "stream",
     "text": [
      "[I 2024-07-31 14:50:46,234] Trial 37 finished with value: 0.5967961311772707 and parameters: {'gamma': 25, 'learning_rate': 0.012, 'colsample_bytree': 0.3}. Best is trial 3 with value: 0.5967961311772707.\n",
      "[I 2024-07-31 14:50:46,378] Trial 38 finished with value: 0.5967961311772707 and parameters: {'gamma': 25, 'learning_rate': 0.012, 'colsample_bytree': 0.3}. Best is trial 3 with value: 0.5967961311772707.\n",
      "[I 2024-07-31 14:50:46,480] Trial 39 finished with value: 0.5967961311772707 and parameters: {'gamma': 25, 'learning_rate': 0.012, 'colsample_bytree': 0.3}. Best is trial 3 with value: 0.5967961311772707.\n",
      "[I 2024-07-31 14:50:46,508] Trial 36 finished with value: 0.5967961311772707 and parameters: {'gamma': 25, 'learning_rate': 0.012, 'colsample_bytree': 0.3}. Best is trial 3 with value: 0.5967961311772707.\n",
      "[I 2024-07-31 14:50:46,596] Trial 34 finished with value: 0.5967961311772707 and parameters: {'gamma': 25, 'learning_rate': 0.012, 'colsample_bytree': 0.3}. Best is trial 3 with value: 0.5967961311772707.\n",
      "[I 2024-07-31 14:50:47,587] Trial 33 finished with value: 0.5967961311772707 and parameters: {'gamma': 25, 'learning_rate': 0.012, 'colsample_bytree': 1.0}. Best is trial 3 with value: 0.5967961311772707.\n",
      "[I 2024-07-31 14:50:47,693] Trial 32 finished with value: 0.5967961311772707 and parameters: {'gamma': 20, 'learning_rate': 0.012, 'colsample_bytree': 1.0}. Best is trial 3 with value: 0.5967961311772707.\n"
     ]
    },
    {
     "name": "stdout",
     "output_type": "stream",
     "text": [
      "\u001b[1m207/207\u001b[0m \u001b[32m━━━━━━━━━━━━━━━━━━━━\u001b[0m\u001b[37m\u001b[0m \u001b[1m0s\u001b[0m 1ms/step\n"
     ]
    },
    {
     "name": "stderr",
     "output_type": "stream",
     "text": [
      "[I 2024-07-31 14:51:00,388] Trial 40 finished with value: 0.5967961311772707 and parameters: {'gamma': 21, 'learning_rate': 0.012, 'colsample_bytree': 0.3}. Best is trial 3 with value: 0.5967961311772707.\n"
     ]
    },
    {
     "name": "stdout",
     "output_type": "stream",
     "text": [
      "\u001b[1m207/207\u001b[0m \u001b[32m━━━━━━━━━━━━━━━━━━━━\u001b[0m\u001b[37m\u001b[0m \u001b[1m0s\u001b[0m 1ms/step\n"
     ]
    },
    {
     "name": "stderr",
     "output_type": "stream",
     "text": [
      "[I 2024-07-31 14:51:12,042] Trial 41 finished with value: 0.5967961311772707 and parameters: {'gamma': 21, 'learning_rate': 0.01, 'colsample_bytree': 0.3}. Best is trial 3 with value: 0.5967961311772707.\n"
     ]
    },
    {
     "name": "stdout",
     "output_type": "stream",
     "text": [
      "\u001b[1m207/207\u001b[0m \u001b[32m━━━━━━━━━━━━━━━━━━━━\u001b[0m\u001b[37m\u001b[0m \u001b[1m0s\u001b[0m 998us/step\n"
     ]
    },
    {
     "name": "stderr",
     "output_type": "stream",
     "text": [
      "[I 2024-07-31 14:51:20,815] Trial 42 finished with value: 0.5967961311772707 and parameters: {'gamma': 21, 'learning_rate': 0.01, 'colsample_bytree': 0.3}. Best is trial 3 with value: 0.5967961311772707.\n"
     ]
    },
    {
     "name": "stdout",
     "output_type": "stream",
     "text": [
      "\u001b[1m207/207\u001b[0m \u001b[32m━━━━━━━━━━━━━━━━━━━━\u001b[0m\u001b[37m\u001b[0m \u001b[1m0s\u001b[0m 1ms/step\n",
      "\u001b[1m207/207\u001b[0m \u001b[32m━━━━━━━━━━━━━━━━━━━━\u001b[0m\u001b[37m\u001b[0m \u001b[1m0s\u001b[0m 2ms/step\n",
      "\u001b[1m100/207\u001b[0m \u001b[32m━━━━━━━━━\u001b[0m\u001b[37m━━━━━━━━━━━\u001b[0m \u001b[1m0s\u001b[0m 4ms/step"
     ]
    },
    {
     "name": "stderr",
     "output_type": "stream",
     "text": [
      "[I 2024-07-31 14:51:22,041] Trial 43 finished with value: 0.5967961311772707 and parameters: {'gamma': 21, 'learning_rate': 0.01, 'colsample_bytree': 0.3}. Best is trial 3 with value: 0.5967961311772707.\n"
     ]
    },
    {
     "name": "stdout",
     "output_type": "stream",
     "text": [
      "\u001b[1m207/207\u001b[0m \u001b[32m━━━━━━━━━━━━━━━━━━━━\u001b[0m\u001b[37m\u001b[0m \u001b[1m1s\u001b[0m 4ms/step\n",
      "\u001b[1m207/207\u001b[0m \u001b[32m━━━━━━━━━━━━━━━━━━━━\u001b[0m\u001b[37m\u001b[0m \u001b[1m1s\u001b[0m 4ms/step\n"
     ]
    },
    {
     "name": "stderr",
     "output_type": "stream",
     "text": [
      "[I 2024-07-31 14:51:22,436] Trial 44 finished with value: 0.5967961311772707 and parameters: {'gamma': 21, 'learning_rate': 0.01, 'colsample_bytree': 0.3}. Best is trial 3 with value: 0.5967961311772707.\n"
     ]
    },
    {
     "name": "stdout",
     "output_type": "stream",
     "text": [
      "\u001b[1m207/207\u001b[0m \u001b[32m━━━━━━━━━━━━━━━━━━━━\u001b[0m\u001b[37m\u001b[0m \u001b[1m1s\u001b[0m 3ms/step\n",
      "\u001b[1m207/207\u001b[0m \u001b[32m━━━━━━━━━━━━━━━━━━━━\u001b[0m\u001b[37m\u001b[0m \u001b[1m1s\u001b[0m 3ms/step\n",
      "\u001b[1m207/207\u001b[0m \u001b[32m━━━━━━━━━━━━━━━━━━━━\u001b[0m\u001b[37m\u001b[0m \u001b[1m1s\u001b[0m 3ms/step\n"
     ]
    },
    {
     "name": "stderr",
     "output_type": "stream",
     "text": [
      "[I 2024-07-31 14:51:23,061] Trial 45 finished with value: 0.5967961311772707 and parameters: {'gamma': 21, 'learning_rate': 0.014, 'colsample_bytree': 0.6}. Best is trial 3 with value: 0.5967961311772707.\n",
      "[I 2024-07-31 14:51:23,073] Trial 46 finished with value: 0.5967961311772707 and parameters: {'gamma': 21, 'learning_rate': 0.01, 'colsample_bytree': 0.6}. Best is trial 3 with value: 0.5967961311772707.\n",
      "[I 2024-07-31 14:51:23,089] Trial 47 finished with value: 0.5967961311772707 and parameters: {'gamma': 21, 'learning_rate': 0.01, 'colsample_bytree': 0.6}. Best is trial 3 with value: 0.5967961311772707.\n",
      "[I 2024-07-31 14:51:23,128] Trial 49 finished with value: 0.5967961311772707 and parameters: {'gamma': 21, 'learning_rate': 0.01, 'colsample_bytree': 0.6}. Best is trial 3 with value: 0.5967961311772707.\n",
      "[I 2024-07-31 14:51:23,133] Trial 48 finished with value: 0.5967961311772707 and parameters: {'gamma': 21, 'learning_rate': 0.01, 'colsample_bytree': 0.6}. Best is trial 3 with value: 0.5967961311772707.\n"
     ]
    }
   ],
   "source": [
    "from sklearn.metrics import accuracy_score\n",
    "import sklearn\n",
    "import joblib\n",
    "import optuna\n",
    "from xgboost import XGBRegressor\n",
    "\n",
    "\n",
    "def objective(trial):\n",
    "    param = {\n",
    "        #     \"device\": \"cpu\",\n",
    "        \"gamma\": trial.suggest_categorical(\"gamma\", [18, 19, 20, 21, 22, 23, 24, 25]),\n",
    "        \"learning_rate\": trial.suggest_categorical(\n",
    "            \"learning_rate\", [0.008, 0.01, 0.012, 0.014, 0.016, 0.018, 0.02]\n",
    "        ),\n",
    "        \"colsample_bytree\": trial.suggest_categorical(\n",
    "            \"colsample_bytree\", [0.3, 0.4, 0.5, 0.6, 0.7, 0.8, 0.9, 1.0]\n",
    "        ),\n",
    "        #     \"colsample_bynode\": trial.suggest_categorical(\n",
    "        #         \"colsample_bynode\", [0.3, 0.4, 0.5, 0.6, 0.7, 0.8, 0.9, 1.0]\n",
    "        #     ),\n",
    "        \"n_estimators\": 129,\n",
    "        \"max_depth\": 3,\n",
    "        \"subsample\": 0.8,\n",
    "        #     \"random_state\": 42,\n",
    "    }\n",
    "\n",
    "    # param = {\n",
    "    #     \"device\": \"cuda\",\n",
    "    #     \"n_estimators\": 100,\n",
    "    #     \"max_depth\": 8,\n",
    "    #     \"eta\": 0.1,\n",
    "    #     \"subsample\": 0.4,\n",
    "    #     \"colsample_bytree\": 0.9,\n",
    "    #     \"random_state\": 42,\n",
    "    #     \"gamma\": trial.suggest_categorical(\"gamma\", [0, 1, 2, 3, 4, 5]),\n",
    "    #     \"learning_rate\": trial.suggest_categorical(\n",
    "    #         \"learning_rate\", [0.1, 0.2, 0.3, 0.4, 0.5]\n",
    "    #     ),\n",
    "    #     \"colsample_bynode\": trial.suggest_categorical(\n",
    "    #         \"colsample_bynode\", [0.3, 0.4, 0.5, 0.6, 0.7]\n",
    "    #     ),\n",
    "    # }\n",
    "\n",
    "    model = XGBRegressor(**param)\n",
    "\n",
    "    model.fit(X_train, y_train, verbose=False)\n",
    "\n",
    "    y_pred = model.predict(X_test)\n",
    "\n",
    "    scaler = joblib.load(\"scaler.bin\")\n",
    "\n",
    "    y_final_pred = loaded_model.predict(scaler.transform(y_pred))\n",
    "    y_pred_true = np.argmax(y_final_pred, axis=1)\n",
    "\n",
    "    y_pred_true = y_pred_true.tolist()\n",
    "\n",
    "    accuracy = accuracy_score(y_final_true, list(y_pred_true))\n",
    "\n",
    "    return accuracy\n",
    "\n",
    "\n",
    "study = optuna.create_study(direction=\"maximize\")\n",
    "study.optimize(objective, n_trials=50, timeout=600, n_jobs=10)"
   ]
  },
  {
   "cell_type": "code",
   "execution_count": 13,
   "metadata": {},
   "outputs": [
    {
     "name": "stdout",
     "output_type": "stream",
     "text": [
      "Number of finished trials:  50\n",
      "Best trial:\n",
      "  Value: 0.5967961311772707\n",
      "  Params: \n",
      "    gamma: 21\n",
      "    learning_rate: 0.01\n",
      "    colsample_bytree: 0.3\n"
     ]
    }
   ],
   "source": [
    "print(\"Number of finished trials: \", len(study.trials))\n",
    "print(\"Best trial:\")\n",
    "trial = study.best_trial\n",
    "\n",
    "print(\"  Value: {}\".format(trial.value))\n",
    "print(\"  Params: \")\n",
    "for key, value in trial.params.items():\n",
    "    print(\"    {}: {}\".format(key, value))"
   ]
  },
  {
   "cell_type": "code",
   "execution_count": 18,
   "metadata": {},
   "outputs": [
    {
     "name": "stdout",
     "output_type": "stream",
     "text": [
      "\u001b[1m207/207\u001b[0m \u001b[32m━━━━━━━━━━━━━━━━━━━━\u001b[0m\u001b[37m\u001b[0m \u001b[1m0s\u001b[0m 352us/step\n",
      "<class 'int'>\n",
      "True\n"
     ]
    }
   ],
   "source": [
    "from xgboost import XGBRegressor\n",
    "import xgboost as xgb\n",
    "from sklearn.metrics import accuracy_score, classification_report, confusion_matrix\n",
    "import matplotlib.pyplot as plt\n",
    "import seaborn as sns\n",
    "import joblib\n",
    "\n",
    "# create an xgboost regression model\n",
    "\n",
    "param = {\n",
    "    \"device\": \"cpu\",\n",
    "    \"n_estimators\": 129,\n",
    "    \"max_depth\": 3,\n",
    "    \"subsample\": 0.8,\n",
    "}\n",
    "\n",
    "\n",
    "model = XGBRegressor(**param)\n",
    "model.fit(X_train, y_train)\n",
    "y_pred = model.predict(X_test)\n",
    "\n",
    "scaler = joblib.load(\"scaler.bin\")\n",
    "\n",
    "y_final_pred = loaded_model.predict(scaler.transform(y_pred))\n",
    "y_pred_true = np.argmax(y_final_pred, axis=1)\n",
    "\n",
    "y_pred_true = y_pred_true.tolist()\n",
    "print(type(y_pred_true[0]))\n",
    "\n",
    "print(all(isinstance(x, int) for x in y_final_true))"
   ]
  },
  {
   "cell_type": "code",
   "execution_count": 19,
   "metadata": {},
   "outputs": [
    {
     "name": "stdout",
     "output_type": "stream",
     "text": [
      "Best Neural Network classification report:\n",
      "              precision    recall  f1-score   support\n",
      "\n",
      "           0       0.42      0.31      0.36      2668\n",
      "           1       0.61      0.72      0.66      3949\n",
      "\n",
      "    accuracy                           0.55      6617\n",
      "   macro avg       0.51      0.51      0.51      6617\n",
      "weighted avg       0.53      0.55      0.54      6617\n",
      "\n"
     ]
    },
    {
     "data": {
      "image/png": "[encoded data removed]",
      "text/plain": [
       "<Figure size 640x480 with 2 Axes>"
      ]
     },
     "metadata": {},
     "output_type": "display_data"
    }
   ],
   "source": [
    "# Evaluate the model\n",
    "print('Best Neural Network classification report:')\n",
    "print(classification_report(y_final_true, list(y_pred_true)))\n",
    "\n",
    "# Confusion matrix\n",
    "conf_matrix_nn = confusion_matrix(y_final_true, list(y_pred_true))\n",
    "sns.heatmap(conf_matrix_nn, annot=True, fmt='d', cmap='Blues')\n",
    "plt.xlabel('Predicted')\n",
    "plt.ylabel('Actual')\n",
    "plt.title('Confusion Matrix')\n",
    "plt.show()"
   ]
  }
 ],
 "metadata": {
  "kernelspec": {
   "display_name": "Python 3",
   "language": "python",
   "name": "python3"
  },
  "language_info": {
   "codemirror_mode": {
    "name": "ipython",
    "version": 3
   },
   "file_extension": ".py",
   "mimetype": "text/x-python",
   "name": "python",
   "nbconvert_exporter": "python",
   "pygments_lexer": "ipython3",
   "version": "3.10.12"
  }
 },
 "nbformat": 4,
 "nbformat_minor": 2
}
