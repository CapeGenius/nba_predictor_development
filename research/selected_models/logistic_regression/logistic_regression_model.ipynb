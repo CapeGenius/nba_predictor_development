{
 "cells": [
  {
   "cell_type": "code",
   "execution_count": 1,
   "metadata": {},
   "outputs": [],
   "source": [
    "import numpy as np\n",
    "import pandas as pd \n",
    "import os\n",
    "import sklearn.preprocessing as skp\n",
    "from sklearn.model_selection import train_test_split\n",
    "import sklearn.linear_model\n",
    "from sklearn.utils import resample\n",
    "import joblib\n",
    "\n",
    "from sklearn.model_selection import GridSearchCV\n",
    "from sklearn.ensemble import RandomForestClassifier, VotingClassifier\n",
    "from sklearn.utils.class_weight import compute_sample_weight\n",
    "\n",
    "import sklearn.metrics as metrics\n",
    "import matplotlib.pyplot as plt\n",
    "# change os directory up one level\n",
    "os.chdir(os.path.dirname(os.getcwd()))\n",
    "os.chdir(os.path.dirname(os.getcwd()))\n",
    "from api_helpers.game_stats_helpers import load_past_n_games\n",
    "# change os directory back \n",
    "os.chdir(os.path.join(os.getcwd(), 'selected_models'))\n",
    "\n",
    "#print directory\n"
   ]
  },
  {
   "cell_type": "markdown",
   "metadata": {},
   "source": [
    "## Data Preparation"
   ]
  },
  {
   "cell_type": "code",
   "execution_count": 2,
   "metadata": {},
   "outputs": [],
   "source": [
    "def get_data():\n",
    "    all_games_df = pd.read_csv(\"../data/all_games.csv\",encoding=\"utf-8\")\n",
    "    all_games_df.drop(\"Unnamed: 0\", axis=1,inplace=True)\n",
    "    all_games_df = all_games_df.dropna()\n",
    "    all_games_df = all_games_df[all_games_df['WL_A'] != ' ']\n",
    "    X = all_games_df.drop(columns=[\"WL_A\", \"WL_B\"])\n",
    "    y = all_games_df[\"WL_A\"]\n",
    "    le = skp.LabelEncoder()\n",
    "    y = le.fit_transform(y)\n",
    "    return all_games_df, X, y\n",
    "\n",
    "def data_prep(all_games_df, columns=[\"FG_PCT\",\"FT_PCT\", \"OREB\", \"TOV\", \"DREB\", \"AST\"]):\n",
    "    columns_a = [column + \"_A\" for column in columns]\n",
    "    columns_b = [column + \"_B\" for column in columns]\n",
    "\n",
    "    n_games_df = load_past_n_games(all_games_df=all_games_df, columns=columns, n=20)\n",
    "    n_games_df = n_games_df.dropna()\n",
    "\n",
    "    x_columns = columns_a + columns_b\n",
    "    y_column = \"WL_A\"\n",
    "\n",
    "    #normalize x_data\n",
    "    scaler = skp.StandardScaler()\n",
    "    n_games_df[x_columns] = scaler.fit_transform(n_games_df[x_columns])\n",
    "    # save scaler\n",
    "    # joblib.dump(scaler, 'lr_scaler.bin')\n",
    "\n",
    "    # Split the data into training and testing sets\n",
    "    X_train, X_test, y_train, y_test = train_test_split(n_games_df[x_columns], n_games_df[y_column], test_size=0.2, random_state=42)\n",
    "\n",
    "    return X_train, X_test, y_train, y_test"
   ]
  },
  {
   "cell_type": "code",
   "execution_count": 3,
   "metadata": {},
   "outputs": [
    {
     "name": "stdout",
     "output_type": "stream",
     "text": [
      "       SEASON_ID   TEAM_ID_A TEAM_ABBREVIATION_A        TEAM_NAME_A   GAME_ID  \\\n",
      "0          22023  1610612737                 ATL      Atlanta Hawks  22301159   \n",
      "1          22023  1610612737                 ATL      Atlanta Hawks  22301147   \n",
      "2          22023  1610612737                 ATL      Atlanta Hawks  22301104   \n",
      "3          22023  1610612737                 ATL      Atlanta Hawks  22301076   \n",
      "4          22023  1610612737                 ATL      Atlanta Hawks  22301060   \n",
      "...          ...         ...                 ...                ...       ...   \n",
      "52468      21996  1610612766                 CHH  Charlotte Hornets  29600141   \n",
      "52469      21996  1610612766                 CHH  Charlotte Hornets  29600107   \n",
      "52470      21996  1610612766                 CHH  Charlotte Hornets  29600064   \n",
      "52471      21996  1610612766                 CHH  Charlotte Hornets  29600044   \n",
      "52472      21996  1610612766                 CHH  Charlotte Hornets  29600016   \n",
      "\n",
      "        GAME_DATE    MATCHUP_A WL_A  MIN_A  PTS_A  ...  FT_PCT_B  OREB_B  \\\n",
      "0      2024-04-10  ATL vs. CHA    L    240    114  ...     0.955     5.0   \n",
      "1      2024-04-09  ATL vs. MIA    L    292    111  ...     0.714     5.0   \n",
      "2      2024-04-03  ATL vs. DET    W    240    121  ...     0.810     8.0   \n",
      "3      2024-03-30  ATL vs. MIL    L    239    113  ...     0.800     6.0   \n",
      "4      2024-03-28  ATL vs. BOS    W    265    123  ...     0.857     9.0   \n",
      "...           ...          ...  ...    ...    ...  ...       ...     ...   \n",
      "52468  1996-11-20  CHH vs. NYK    W    240     93  ...     0.778     8.0   \n",
      "52469  1996-11-15  CHH vs. CHI    L    240     87  ...     0.786    14.0   \n",
      "52470  1996-11-09  CHH vs. MIL    L    240     98  ...     0.727    10.0   \n",
      "52471  1996-11-06  CHH vs. LAL    W    239     88  ...     0.727     9.0   \n",
      "52472  1996-11-02  CHH vs. TOR    W    241    109  ...     0.667    10.0   \n",
      "\n",
      "       DREB_B  REB_B  AST_B  STL_B  BLK_B  TOV_B  PF_B  PLUS_MINUS_B  \n",
      "0        28.0   33.0     25   11.0      2     13    18           1.0  \n",
      "1        41.0   46.0     29    8.0      3     18    16           6.0  \n",
      "2        29.0   37.0     24   14.0      3     10    13          -8.0  \n",
      "3        34.0   40.0     27    7.0      5     10    18           9.0  \n",
      "4        34.0   43.0     28    7.0      6     12    15          -1.0  \n",
      "...       ...    ...    ...    ...    ...    ...   ...           ...  \n",
      "52468    29.0   37.0     14    4.0      5     20    31          -7.0  \n",
      "52469    31.0   45.0     29    9.0      3     20    16          23.0  \n",
      "52470    27.0   37.0     17    5.0      3     11    27           2.0  \n",
      "52471    31.0   40.0     22    1.0      7     16    19         -10.0  \n",
      "52472    24.0   34.0     17    5.0      5     11    29         -11.0  \n",
      "\n",
      "[37945 rows x 53 columns]\n"
     ]
    }
   ],
   "source": [
    "all_games_df, X,y = get_data()\n",
    "print(all_games_df)"
   ]
  },
  {
   "cell_type": "markdown",
   "metadata": {},
   "source": [
    "## Feature Selection"
   ]
  },
  {
   "cell_type": "code",
   "execution_count": 4,
   "metadata": {},
   "outputs": [
    {
     "ename": "ValueError",
     "evalue": "could not convert string to float: 'ATL'",
     "output_type": "error",
     "traceback": [
      "\u001b[0;31m---------------------------------------------------------------------------\u001b[0m",
      "\u001b[0;31mValueError\u001b[0m                                Traceback (most recent call last)",
      "\u001b[0;32m/var/folders/yg/86tk2sbj33q27k386pfvdp5m0000gn/T/ipykernel_97461/4291453274.py\u001b[0m in \u001b[0;36m?\u001b[0;34m()\u001b[0m\n\u001b[1;32m      5\u001b[0m \u001b[0;32mimport\u001b[0m \u001b[0msklearn\u001b[0m\u001b[0;34m.\u001b[0m\u001b[0mlinear_model\u001b[0m\u001b[0;34m\u001b[0m\u001b[0;34m\u001b[0m\u001b[0m\n\u001b[1;32m      6\u001b[0m \u001b[0;34m\u001b[0m\u001b[0m\n\u001b[1;32m      7\u001b[0m \u001b[0mestimator\u001b[0m \u001b[0;34m=\u001b[0m \u001b[0msklearn\u001b[0m\u001b[0;34m.\u001b[0m\u001b[0mensemble\u001b[0m\u001b[0;34m.\u001b[0m\u001b[0mRandomForestRegressor\u001b[0m\u001b[0;34m(\u001b[0m\u001b[0;34m)\u001b[0m \u001b[0;31m# using RandomForestRegressor is arbitrary, it worked better than logistic and linear\u001b[0m\u001b[0;34m\u001b[0m\u001b[0;34m\u001b[0m\u001b[0m\n\u001b[1;32m      8\u001b[0m \u001b[0mselector\u001b[0m \u001b[0;34m=\u001b[0m \u001b[0mRFE\u001b[0m\u001b[0;34m(\u001b[0m\u001b[0mestimator\u001b[0m\u001b[0;34m,\u001b[0m \u001b[0mn_features_to_select\u001b[0m\u001b[0;34m=\u001b[0m\u001b[0;36m6\u001b[0m\u001b[0;34m,\u001b[0m \u001b[0mstep\u001b[0m\u001b[0;34m=\u001b[0m\u001b[0;36m1\u001b[0m\u001b[0;34m)\u001b[0m\u001b[0;34m\u001b[0m\u001b[0;34m\u001b[0m\u001b[0m\n\u001b[0;32m----> 9\u001b[0;31m \u001b[0mselector\u001b[0m \u001b[0;34m=\u001b[0m \u001b[0mselector\u001b[0m\u001b[0;34m.\u001b[0m\u001b[0mfit\u001b[0m\u001b[0;34m(\u001b[0m\u001b[0mX\u001b[0m\u001b[0;34m,\u001b[0m \u001b[0my\u001b[0m\u001b[0;34m)\u001b[0m\u001b[0;34m\u001b[0m\u001b[0;34m\u001b[0m\u001b[0m\n\u001b[0m\u001b[1;32m     10\u001b[0m \u001b[0mselected_columns\u001b[0m \u001b[0;34m=\u001b[0m \u001b[0mX\u001b[0m\u001b[0;34m.\u001b[0m\u001b[0mcolumns\u001b[0m\u001b[0;34m[\u001b[0m\u001b[0mselector\u001b[0m\u001b[0;34m.\u001b[0m\u001b[0msupport_\u001b[0m\u001b[0;34m]\u001b[0m\u001b[0;34m\u001b[0m\u001b[0;34m\u001b[0m\u001b[0m\n\u001b[1;32m     11\u001b[0m \u001b[0mselected_columns\u001b[0m\u001b[0;34m\u001b[0m\u001b[0;34m\u001b[0m\u001b[0m\n",
      "\u001b[0;32m~/nba_predictor_development/nba_predictor_development/.conda/lib/python3.10/site-packages/sklearn/base.py\u001b[0m in \u001b[0;36m?\u001b[0;34m(estimator, *args, **kwargs)\u001b[0m\n\u001b[1;32m   1469\u001b[0m                 skip_parameter_validation=(\n\u001b[1;32m   1470\u001b[0m                     \u001b[0mprefer_skip_nested_validation\u001b[0m \u001b[0;32mor\u001b[0m \u001b[0mglobal_skip_validation\u001b[0m\u001b[0;34m\u001b[0m\u001b[0;34m\u001b[0m\u001b[0m\n\u001b[1;32m   1471\u001b[0m                 )\n\u001b[1;32m   1472\u001b[0m             ):\n\u001b[0;32m-> 1473\u001b[0;31m                 \u001b[0;32mreturn\u001b[0m \u001b[0mfit_method\u001b[0m\u001b[0;34m(\u001b[0m\u001b[0mestimator\u001b[0m\u001b[0;34m,\u001b[0m \u001b[0;34m*\u001b[0m\u001b[0margs\u001b[0m\u001b[0;34m,\u001b[0m \u001b[0;34m**\u001b[0m\u001b[0mkwargs\u001b[0m\u001b[0;34m)\u001b[0m\u001b[0;34m\u001b[0m\u001b[0;34m\u001b[0m\u001b[0m\n\u001b[0m",
      "\u001b[0;32m~/nba_predictor_development/nba_predictor_development/.conda/lib/python3.10/site-packages/sklearn/feature_selection/_rfe.py\u001b[0m in \u001b[0;36m?\u001b[0;34m(self, X, y, **fit_params)\u001b[0m\n\u001b[1;32m    264\u001b[0m         \u001b[0mself\u001b[0m \u001b[0;34m:\u001b[0m \u001b[0mobject\u001b[0m\u001b[0;34m\u001b[0m\u001b[0;34m\u001b[0m\u001b[0m\n\u001b[1;32m    265\u001b[0m             \u001b[0mFitted\u001b[0m \u001b[0mestimator\u001b[0m\u001b[0;34m.\u001b[0m\u001b[0;34m\u001b[0m\u001b[0;34m\u001b[0m\u001b[0m\n\u001b[1;32m    266\u001b[0m         \"\"\"\n\u001b[1;32m    267\u001b[0m         \u001b[0m_raise_for_unsupported_routing\u001b[0m\u001b[0;34m(\u001b[0m\u001b[0mself\u001b[0m\u001b[0;34m,\u001b[0m \u001b[0;34m\"fit\"\u001b[0m\u001b[0;34m,\u001b[0m \u001b[0;34m**\u001b[0m\u001b[0mfit_params\u001b[0m\u001b[0;34m)\u001b[0m\u001b[0;34m\u001b[0m\u001b[0;34m\u001b[0m\u001b[0m\n\u001b[0;32m--> 268\u001b[0;31m         \u001b[0;32mreturn\u001b[0m \u001b[0mself\u001b[0m\u001b[0;34m.\u001b[0m\u001b[0m_fit\u001b[0m\u001b[0;34m(\u001b[0m\u001b[0mX\u001b[0m\u001b[0;34m,\u001b[0m \u001b[0my\u001b[0m\u001b[0;34m,\u001b[0m \u001b[0;34m**\u001b[0m\u001b[0mfit_params\u001b[0m\u001b[0;34m)\u001b[0m\u001b[0;34m\u001b[0m\u001b[0;34m\u001b[0m\u001b[0m\n\u001b[0m",
      "\u001b[0;32m~/nba_predictor_development/nba_predictor_development/.conda/lib/python3.10/site-packages/sklearn/feature_selection/_rfe.py\u001b[0m in \u001b[0;36m?\u001b[0;34m(self, X, y, step_score, **fit_params)\u001b[0m\n\u001b[1;32m    271\u001b[0m         \u001b[0;31m# Parameter step_score controls the calculation of self.step_scores_\u001b[0m\u001b[0;34m\u001b[0m\u001b[0;34m\u001b[0m\u001b[0m\n\u001b[1;32m    272\u001b[0m         \u001b[0;31m# step_score is not exposed to users and is used when implementing RFECV\u001b[0m\u001b[0;34m\u001b[0m\u001b[0;34m\u001b[0m\u001b[0m\n\u001b[1;32m    273\u001b[0m         \u001b[0;31m# self.step_scores_ will not be calculated when calling _fit through fit\u001b[0m\u001b[0;34m\u001b[0m\u001b[0;34m\u001b[0m\u001b[0m\n\u001b[1;32m    274\u001b[0m \u001b[0;34m\u001b[0m\u001b[0m\n\u001b[0;32m--> 275\u001b[0;31m         X, y = self._validate_data(\n\u001b[0m\u001b[1;32m    276\u001b[0m             \u001b[0mX\u001b[0m\u001b[0;34m,\u001b[0m\u001b[0;34m\u001b[0m\u001b[0;34m\u001b[0m\u001b[0m\n\u001b[1;32m    277\u001b[0m             \u001b[0my\u001b[0m\u001b[0;34m,\u001b[0m\u001b[0;34m\u001b[0m\u001b[0;34m\u001b[0m\u001b[0m\n\u001b[1;32m    278\u001b[0m             \u001b[0maccept_sparse\u001b[0m\u001b[0;34m=\u001b[0m\u001b[0;34m\"csc\"\u001b[0m\u001b[0;34m,\u001b[0m\u001b[0;34m\u001b[0m\u001b[0;34m\u001b[0m\u001b[0m\n",
      "\u001b[0;32m~/nba_predictor_development/nba_predictor_development/.conda/lib/python3.10/site-packages/sklearn/base.py\u001b[0m in \u001b[0;36m?\u001b[0;34m(self, X, y, reset, validate_separately, cast_to_ndarray, **check_params)\u001b[0m\n\u001b[1;32m    646\u001b[0m                 \u001b[0;32mif\u001b[0m \u001b[0;34m\"estimator\"\u001b[0m \u001b[0;32mnot\u001b[0m \u001b[0;32min\u001b[0m \u001b[0mcheck_y_params\u001b[0m\u001b[0;34m:\u001b[0m\u001b[0;34m\u001b[0m\u001b[0;34m\u001b[0m\u001b[0m\n\u001b[1;32m    647\u001b[0m                     \u001b[0mcheck_y_params\u001b[0m \u001b[0;34m=\u001b[0m \u001b[0;34m{\u001b[0m\u001b[0;34m**\u001b[0m\u001b[0mdefault_check_params\u001b[0m\u001b[0;34m,\u001b[0m \u001b[0;34m**\u001b[0m\u001b[0mcheck_y_params\u001b[0m\u001b[0;34m}\u001b[0m\u001b[0;34m\u001b[0m\u001b[0;34m\u001b[0m\u001b[0m\n\u001b[1;32m    648\u001b[0m                 \u001b[0my\u001b[0m \u001b[0;34m=\u001b[0m \u001b[0mcheck_array\u001b[0m\u001b[0;34m(\u001b[0m\u001b[0my\u001b[0m\u001b[0;34m,\u001b[0m \u001b[0minput_name\u001b[0m\u001b[0;34m=\u001b[0m\u001b[0;34m\"y\"\u001b[0m\u001b[0;34m,\u001b[0m \u001b[0;34m**\u001b[0m\u001b[0mcheck_y_params\u001b[0m\u001b[0;34m)\u001b[0m\u001b[0;34m\u001b[0m\u001b[0;34m\u001b[0m\u001b[0m\n\u001b[1;32m    649\u001b[0m             \u001b[0;32melse\u001b[0m\u001b[0;34m:\u001b[0m\u001b[0;34m\u001b[0m\u001b[0;34m\u001b[0m\u001b[0m\n\u001b[0;32m--> 650\u001b[0;31m                 \u001b[0mX\u001b[0m\u001b[0;34m,\u001b[0m \u001b[0my\u001b[0m \u001b[0;34m=\u001b[0m \u001b[0mcheck_X_y\u001b[0m\u001b[0;34m(\u001b[0m\u001b[0mX\u001b[0m\u001b[0;34m,\u001b[0m \u001b[0my\u001b[0m\u001b[0;34m,\u001b[0m \u001b[0;34m**\u001b[0m\u001b[0mcheck_params\u001b[0m\u001b[0;34m)\u001b[0m\u001b[0;34m\u001b[0m\u001b[0;34m\u001b[0m\u001b[0m\n\u001b[0m\u001b[1;32m    651\u001b[0m             \u001b[0mout\u001b[0m \u001b[0;34m=\u001b[0m \u001b[0mX\u001b[0m\u001b[0;34m,\u001b[0m \u001b[0my\u001b[0m\u001b[0;34m\u001b[0m\u001b[0;34m\u001b[0m\u001b[0m\n\u001b[1;32m    652\u001b[0m \u001b[0;34m\u001b[0m\u001b[0m\n\u001b[1;32m    653\u001b[0m         \u001b[0;32mif\u001b[0m \u001b[0;32mnot\u001b[0m \u001b[0mno_val_X\u001b[0m \u001b[0;32mand\u001b[0m \u001b[0mcheck_params\u001b[0m\u001b[0;34m.\u001b[0m\u001b[0mget\u001b[0m\u001b[0;34m(\u001b[0m\u001b[0;34m\"ensure_2d\"\u001b[0m\u001b[0;34m,\u001b[0m \u001b[0;32mTrue\u001b[0m\u001b[0;34m)\u001b[0m\u001b[0;34m:\u001b[0m\u001b[0;34m\u001b[0m\u001b[0;34m\u001b[0m\u001b[0m\n",
      "\u001b[0;32m~/nba_predictor_development/nba_predictor_development/.conda/lib/python3.10/site-packages/sklearn/utils/validation.py\u001b[0m in \u001b[0;36m?\u001b[0;34m(X, y, accept_sparse, accept_large_sparse, dtype, order, copy, force_writeable, force_all_finite, ensure_2d, allow_nd, multi_output, ensure_min_samples, ensure_min_features, y_numeric, estimator)\u001b[0m\n\u001b[1;32m   1297\u001b[0m         raise ValueError(\n\u001b[1;32m   1298\u001b[0m             \u001b[0;34mf\"{estimator_name} requires y to be passed, but the target y is None\"\u001b[0m\u001b[0;34m\u001b[0m\u001b[0;34m\u001b[0m\u001b[0m\n\u001b[1;32m   1299\u001b[0m         )\n\u001b[1;32m   1300\u001b[0m \u001b[0;34m\u001b[0m\u001b[0m\n\u001b[0;32m-> 1301\u001b[0;31m     X = check_array(\n\u001b[0m\u001b[1;32m   1302\u001b[0m         \u001b[0mX\u001b[0m\u001b[0;34m,\u001b[0m\u001b[0;34m\u001b[0m\u001b[0;34m\u001b[0m\u001b[0m\n\u001b[1;32m   1303\u001b[0m         \u001b[0maccept_sparse\u001b[0m\u001b[0;34m=\u001b[0m\u001b[0maccept_sparse\u001b[0m\u001b[0;34m,\u001b[0m\u001b[0;34m\u001b[0m\u001b[0;34m\u001b[0m\u001b[0m\n\u001b[1;32m   1304\u001b[0m         \u001b[0maccept_large_sparse\u001b[0m\u001b[0;34m=\u001b[0m\u001b[0maccept_large_sparse\u001b[0m\u001b[0;34m,\u001b[0m\u001b[0;34m\u001b[0m\u001b[0;34m\u001b[0m\u001b[0m\n",
      "\u001b[0;32m~/nba_predictor_development/nba_predictor_development/.conda/lib/python3.10/site-packages/sklearn/utils/validation.py\u001b[0m in \u001b[0;36m?\u001b[0;34m(array, accept_sparse, accept_large_sparse, dtype, order, copy, force_writeable, force_all_finite, ensure_2d, allow_nd, ensure_min_samples, ensure_min_features, estimator, input_name)\u001b[0m\n\u001b[1;32m   1009\u001b[0m                         )\n\u001b[1;32m   1010\u001b[0m                     \u001b[0marray\u001b[0m \u001b[0;34m=\u001b[0m \u001b[0mxp\u001b[0m\u001b[0;34m.\u001b[0m\u001b[0mastype\u001b[0m\u001b[0;34m(\u001b[0m\u001b[0marray\u001b[0m\u001b[0;34m,\u001b[0m \u001b[0mdtype\u001b[0m\u001b[0;34m,\u001b[0m \u001b[0mcopy\u001b[0m\u001b[0;34m=\u001b[0m\u001b[0;32mFalse\u001b[0m\u001b[0;34m)\u001b[0m\u001b[0;34m\u001b[0m\u001b[0;34m\u001b[0m\u001b[0m\n\u001b[1;32m   1011\u001b[0m                 \u001b[0;32melse\u001b[0m\u001b[0;34m:\u001b[0m\u001b[0;34m\u001b[0m\u001b[0;34m\u001b[0m\u001b[0m\n\u001b[1;32m   1012\u001b[0m                     \u001b[0marray\u001b[0m \u001b[0;34m=\u001b[0m \u001b[0m_asarray_with_order\u001b[0m\u001b[0;34m(\u001b[0m\u001b[0marray\u001b[0m\u001b[0;34m,\u001b[0m \u001b[0morder\u001b[0m\u001b[0;34m=\u001b[0m\u001b[0morder\u001b[0m\u001b[0;34m,\u001b[0m \u001b[0mdtype\u001b[0m\u001b[0;34m=\u001b[0m\u001b[0mdtype\u001b[0m\u001b[0;34m,\u001b[0m \u001b[0mxp\u001b[0m\u001b[0;34m=\u001b[0m\u001b[0mxp\u001b[0m\u001b[0;34m)\u001b[0m\u001b[0;34m\u001b[0m\u001b[0;34m\u001b[0m\u001b[0m\n\u001b[0;32m-> 1013\u001b[0;31m             \u001b[0;32mexcept\u001b[0m \u001b[0mComplexWarning\u001b[0m \u001b[0;32mas\u001b[0m \u001b[0mcomplex_warning\u001b[0m\u001b[0;34m:\u001b[0m\u001b[0;34m\u001b[0m\u001b[0;34m\u001b[0m\u001b[0m\n\u001b[0m\u001b[1;32m   1014\u001b[0m                 raise ValueError(\n\u001b[1;32m   1015\u001b[0m                     \u001b[0;34m\"Complex data not supported\\n{}\\n\"\u001b[0m\u001b[0;34m.\u001b[0m\u001b[0mformat\u001b[0m\u001b[0;34m(\u001b[0m\u001b[0marray\u001b[0m\u001b[0;34m)\u001b[0m\u001b[0;34m\u001b[0m\u001b[0;34m\u001b[0m\u001b[0m\n\u001b[1;32m   1016\u001b[0m                 ) from complex_warning\n",
      "\u001b[0;32m~/nba_predictor_development/nba_predictor_development/.conda/lib/python3.10/site-packages/sklearn/utils/_array_api.py\u001b[0m in \u001b[0;36m?\u001b[0;34m(array, dtype, order, copy, xp, device)\u001b[0m\n\u001b[1;32m    747\u001b[0m         \u001b[0;31m# Use NumPy API to support order\u001b[0m\u001b[0;34m\u001b[0m\u001b[0;34m\u001b[0m\u001b[0m\n\u001b[1;32m    748\u001b[0m         \u001b[0;32mif\u001b[0m \u001b[0mcopy\u001b[0m \u001b[0;32mis\u001b[0m \u001b[0;32mTrue\u001b[0m\u001b[0;34m:\u001b[0m\u001b[0;34m\u001b[0m\u001b[0;34m\u001b[0m\u001b[0m\n\u001b[1;32m    749\u001b[0m             \u001b[0marray\u001b[0m \u001b[0;34m=\u001b[0m \u001b[0mnumpy\u001b[0m\u001b[0;34m.\u001b[0m\u001b[0marray\u001b[0m\u001b[0;34m(\u001b[0m\u001b[0marray\u001b[0m\u001b[0;34m,\u001b[0m \u001b[0morder\u001b[0m\u001b[0;34m=\u001b[0m\u001b[0morder\u001b[0m\u001b[0;34m,\u001b[0m \u001b[0mdtype\u001b[0m\u001b[0;34m=\u001b[0m\u001b[0mdtype\u001b[0m\u001b[0;34m)\u001b[0m\u001b[0;34m\u001b[0m\u001b[0;34m\u001b[0m\u001b[0m\n\u001b[1;32m    750\u001b[0m         \u001b[0;32melse\u001b[0m\u001b[0;34m:\u001b[0m\u001b[0;34m\u001b[0m\u001b[0;34m\u001b[0m\u001b[0m\n\u001b[0;32m--> 751\u001b[0;31m             \u001b[0marray\u001b[0m \u001b[0;34m=\u001b[0m \u001b[0mnumpy\u001b[0m\u001b[0;34m.\u001b[0m\u001b[0masarray\u001b[0m\u001b[0;34m(\u001b[0m\u001b[0marray\u001b[0m\u001b[0;34m,\u001b[0m \u001b[0morder\u001b[0m\u001b[0;34m=\u001b[0m\u001b[0morder\u001b[0m\u001b[0;34m,\u001b[0m \u001b[0mdtype\u001b[0m\u001b[0;34m=\u001b[0m\u001b[0mdtype\u001b[0m\u001b[0;34m)\u001b[0m\u001b[0;34m\u001b[0m\u001b[0;34m\u001b[0m\u001b[0m\n\u001b[0m\u001b[1;32m    752\u001b[0m \u001b[0;34m\u001b[0m\u001b[0m\n\u001b[1;32m    753\u001b[0m         \u001b[0;31m# At this point array is a NumPy ndarray. We convert it to an array\u001b[0m\u001b[0;34m\u001b[0m\u001b[0;34m\u001b[0m\u001b[0m\n\u001b[1;32m    754\u001b[0m         \u001b[0;31m# container that is consistent with the input's namespace.\u001b[0m\u001b[0;34m\u001b[0m\u001b[0;34m\u001b[0m\u001b[0m\n",
      "\u001b[0;32m~/nba_predictor_development/nba_predictor_development/.conda/lib/python3.10/site-packages/pandas/core/generic.py\u001b[0m in \u001b[0;36m?\u001b[0;34m(self, dtype, copy)\u001b[0m\n\u001b[1;32m   2149\u001b[0m     def __array__(\n\u001b[1;32m   2150\u001b[0m         \u001b[0mself\u001b[0m\u001b[0;34m,\u001b[0m \u001b[0mdtype\u001b[0m\u001b[0;34m:\u001b[0m \u001b[0mnpt\u001b[0m\u001b[0;34m.\u001b[0m\u001b[0mDTypeLike\u001b[0m \u001b[0;34m|\u001b[0m \u001b[0;32mNone\u001b[0m \u001b[0;34m=\u001b[0m \u001b[0;32mNone\u001b[0m\u001b[0;34m,\u001b[0m \u001b[0mcopy\u001b[0m\u001b[0;34m:\u001b[0m \u001b[0mbool_t\u001b[0m \u001b[0;34m|\u001b[0m \u001b[0;32mNone\u001b[0m \u001b[0;34m=\u001b[0m \u001b[0;32mNone\u001b[0m\u001b[0;34m\u001b[0m\u001b[0;34m\u001b[0m\u001b[0m\n\u001b[1;32m   2151\u001b[0m     ) -> np.ndarray:\n\u001b[1;32m   2152\u001b[0m         \u001b[0mvalues\u001b[0m \u001b[0;34m=\u001b[0m \u001b[0mself\u001b[0m\u001b[0;34m.\u001b[0m\u001b[0m_values\u001b[0m\u001b[0;34m\u001b[0m\u001b[0;34m\u001b[0m\u001b[0m\n\u001b[0;32m-> 2153\u001b[0;31m         \u001b[0marr\u001b[0m \u001b[0;34m=\u001b[0m \u001b[0mnp\u001b[0m\u001b[0;34m.\u001b[0m\u001b[0masarray\u001b[0m\u001b[0;34m(\u001b[0m\u001b[0mvalues\u001b[0m\u001b[0;34m,\u001b[0m \u001b[0mdtype\u001b[0m\u001b[0;34m=\u001b[0m\u001b[0mdtype\u001b[0m\u001b[0;34m)\u001b[0m\u001b[0;34m\u001b[0m\u001b[0;34m\u001b[0m\u001b[0m\n\u001b[0m\u001b[1;32m   2154\u001b[0m         if (\n\u001b[1;32m   2155\u001b[0m             \u001b[0mastype_is_view\u001b[0m\u001b[0;34m(\u001b[0m\u001b[0mvalues\u001b[0m\u001b[0;34m.\u001b[0m\u001b[0mdtype\u001b[0m\u001b[0;34m,\u001b[0m \u001b[0marr\u001b[0m\u001b[0;34m.\u001b[0m\u001b[0mdtype\u001b[0m\u001b[0;34m)\u001b[0m\u001b[0;34m\u001b[0m\u001b[0;34m\u001b[0m\u001b[0m\n\u001b[1;32m   2156\u001b[0m             \u001b[0;32mand\u001b[0m \u001b[0musing_copy_on_write\u001b[0m\u001b[0;34m(\u001b[0m\u001b[0;34m)\u001b[0m\u001b[0;34m\u001b[0m\u001b[0;34m\u001b[0m\u001b[0m\n",
      "\u001b[0;31mValueError\u001b[0m: could not convert string to float: 'ATL'"
     ]
    }
   ],
   "source": [
    "# using Recursive Feature Elimination (RFE) to get best features\n",
    "# Apply RFE\n",
    "from sklearn.feature_selection import RFE\n",
    "import sklearn.ensemble\n",
    "import sklearn.linear_model\n",
    "\n",
    "estimator = sklearn.ensemble.RandomForestRegressor() # using RandomForestRegressor is arbitrary, it worked better than logistic and linear\n",
    "selector = RFE(estimator, n_features_to_select=6, step=1)\n",
    "selector = selector.fit(X, y)\n",
    "selected_columns = X.columns[selector.support_]\n",
    "selected_columns"
   ]
  },
  {
   "cell_type": "markdown",
   "metadata": {},
   "source": [
    "## Train Model"
   ]
  },
  {
   "cell_type": "code",
   "execution_count": 4,
   "metadata": {},
   "outputs": [
    {
     "name": "stdout",
     "output_type": "stream",
     "text": [
      "          PTS_A  FG_PCT_A  PLUS_MINUS_A    DREB_A    OREB_A     TOV_A  \\\n",
      "842   -0.427998 -0.301782     -1.002381 -1.443822 -0.200042  0.913695   \n",
      "6956   0.531157 -0.301782     -1.831980  0.096984 -0.803901 -0.300209   \n",
      "38626  1.000077  1.393855      1.790061  0.836571  0.317552 -0.673718   \n",
      "27231 -0.108280  0.965073      0.949617 -0.827500 -0.631370 -0.486963   \n",
      "50494 -1.706872 -0.646107     -0.324604 -0.580971 -0.890166  0.166677   \n",
      "...         ...       ...           ...       ...       ...       ...   \n",
      "23675  2.236322  0.939086      1.030950  2.500642  0.145021 -1.047226   \n",
      "8671   1.383740  0.393364      0.434507  0.035352 -0.803901 -0.860472   \n",
      "15402  0.701674  2.076008      1.085173 -1.074029 -0.200042 -0.113454   \n",
      "865   -0.129594 -0.249808     -0.812603 -1.197293  1.352739 -0.580340   \n",
      "22039 -0.278796  1.335385     -0.216159 -0.334442 -0.372573  1.567335   \n",
      "\n",
      "          AST_A     PTS_B  FG_PCT_B  PLUS_MINUS_B    DREB_B    OREB_B  \\\n",
      "842   -0.751585  0.041649  0.499896      0.276782 -0.287698 -0.644827   \n",
      "6956   0.461050  0.608044  0.805794      0.498779  0.783142  0.030892   \n",
      "38626  0.923006 -0.547402  0.437326     -1.471447  0.153236  0.610079   \n",
      "27231 -1.155796 -0.796616 -1.995947     -0.777705  0.027255  0.320485   \n",
      "50494 -0.000906 -1.091142 -1.481483     -1.499197 -0.854613  1.285798   \n",
      "...         ...       ...       ...           ...       ...       ...   \n",
      "23675  2.077895  2.261919  0.743224      1.303519 -0.098726 -0.548296   \n",
      "8671  -0.231884  0.404142 -0.647218     -0.860954  0.027255  1.575391   \n",
      "15402  2.077895  0.336175  1.320257      0.804025 -0.980594  0.127423   \n",
      "865   -0.520607  0.109616  0.777985      0.693026 -0.854613  0.320485   \n",
      "22039  1.211728  0.540077 -0.577696     -0.056214  1.665010 -0.355233   \n",
      "\n",
      "          TOV_B     AST_B  \n",
      "842   -1.202615  1.671045  \n",
      "6956   0.418530  1.113141  \n",
      "38626  2.421121  0.121311  \n",
      "27231  0.323168 -1.366433  \n",
      "50494  0.227807 -1.056486  \n",
      "...         ...       ...  \n",
      "23675 -0.725808  0.617226  \n",
      "8671   0.895337  0.679216  \n",
      "15402 -1.297977  0.927173  \n",
      "865    0.799976 -0.002667  \n",
      "22039  1.086060  1.113141  \n",
      "\n",
      "[30356 rows x 14 columns]\n",
      "Fitting 5 folds for each of 12 candidates, totalling 60 fits\n",
      "[CV] END ......................C=0.05, class_weight=balanced; total time=   0.1s\n",
      "[CV] END ......................C=0.05, class_weight=balanced; total time=   0.0s\n",
      "[CV] END .......................C=0.1, class_weight=balanced; total time=   0.0s\n",
      "[CV] END ......................C=0.05, class_weight=balanced; total time=   0.0s\n",
      "[CV] END .......................C=0.1, class_weight=balanced; total time=   0.0s\n",
      "[CV] END .......................C=0.1, class_weight=balanced; total time=   0.0s\n",
      "[CV] END ......................C=0.05, class_weight=balanced; total time=   0.0s\n",
      "[CV] END .......................C=0.1, class_weight=balanced; total time=   0.0s\n",
      "[CV] END .......................C=0.1, class_weight=balanced; total time=   0.0s\n",
      "[CV] END ...........................C=0.1, class_weight=None; total time=   0.1s\n",
      "[CV] END ...........................C=0.1, class_weight=None; total time=   0.1s\n",
      "[CV] END ..........................C=0.05, class_weight=None; total time=   0.0s\n",
      "[CV] END ......................C=0.05, class_weight=balanced; total time=   0.0s\n",
      "[CV] END ...........................C=0.1, class_weight=None; total time=   0.0s\n",
      "[CV] END ...........................C=0.1, class_weight=None; total time=   0.0s\n",
      "[CV] END ..........................C=0.05, class_weight=None; total time=   0.0s\n",
      "[CV] END ..........................C=0.05, class_weight=None; total time=   0.0s\n",
      "[CV] END ...........................C=0.1, class_weight=None; total time=   0.0s\n",
      "[CV] END ..........................C=0.05, class_weight=None; total time=   0.0s\n",
      "[CV] END .........................C=1, class_weight=balanced; total time=   0.0s\n",
      "[CV] END ..........................C=0.05, class_weight=None; total time=   0.0s\n",
      "[CV] END .........................C=1, class_weight=balanced; total time=   0.0s\n",
      "[CV] END .........................C=1, class_weight=balanced; total time=   0.0s\n",
      "[CV] END .........................C=1, class_weight=balanced; total time=   0.0s\n",
      "[CV] END .........................C=1, class_weight=balanced; total time=   0.0s\n",
      "[CV] END .............................C=1, class_weight=None; total time=   0.0s\n",
      "[CV] END .............................C=1, class_weight=None; total time=   0.0s\n",
      "[CV] END .............................C=1, class_weight=None; total time=   0.0s\n",
      "[CV] END .............................C=1, class_weight=None; total time=   0.0s\n",
      "[CV] END .............................C=1, class_weight=None; total time=   0.0s\n",
      "[CV] END ........................C=10, class_weight=balanced; total time=   0.0s\n",
      "[CV] END ........................C=10, class_weight=balanced; total time=   0.0s\n",
      "[CV] END ........................C=10, class_weight=balanced; total time=   0.0s\n",
      "[CV] END ........................C=10, class_weight=balanced; total time=   0.0s\n",
      "[CV] END ........................C=10, class_weight=balanced; total time=   0.0s\n",
      "[CV] END ............................C=10, class_weight=None; total time=   0.0s\n",
      "[CV] END ............................C=10, class_weight=None; total time=   0.0s\n",
      "[CV] END ............................C=10, class_weight=None; total time=   0.0s\n",
      "[CV] END ............................C=10, class_weight=None; total time=   0.0s\n",
      "[CV] END ............................C=10, class_weight=None; total time=   0.0s\n",
      "[CV] END .......................C=100, class_weight=balanced; total time=   0.0s\n",
      "[CV] END .......................C=100, class_weight=balanced; total time=   0.0s\n",
      "[CV] END .......................C=100, class_weight=balanced; total time=   0.0s\n",
      "[CV] END .......................C=100, class_weight=balanced; total time=   0.0s\n",
      "[CV] END .......................C=100, class_weight=balanced; total time=   0.0s\n",
      "[CV] END ...........................C=100, class_weight=None; total time=   0.0s\n",
      "[CV] END ...........................C=100, class_weight=None; total time=   0.0s\n",
      "[CV] END ...........................C=100, class_weight=None; total time=   0.0s\n",
      "[CV] END ...........................C=100, class_weight=None; total time=   0.0s\n",
      "[CV] END ...........................C=100, class_weight=None; total time=   0.0s\n",
      "[CV] END ......................C=1000, class_weight=balanced; total time=   0.0s\n",
      "[CV] END ......................C=1000, class_weight=balanced; total time=   0.0s\n",
      "[CV] END ......................C=1000, class_weight=balanced; total time=   0.0s\n",
      "[CV] END ......................C=1000, class_weight=balanced; total time=   0.0s\n",
      "[CV] END ......................C=1000, class_weight=balanced; total time=   0.0s\n",
      "[CV] END ..........................C=1000, class_weight=None; total time=   0.0s\n",
      "[CV] END ..........................C=1000, class_weight=None; total time=   0.0s\n",
      "[CV] END ..........................C=1000, class_weight=None; total time=   0.0s\n",
      "[CV] END ..........................C=1000, class_weight=None; total time=   0.0s\n",
      "[CV] END ..........................C=1000, class_weight=None; total time=   0.0s\n",
      "{'C': 1, 'class_weight': None}\n"
     ]
    }
   ],
   "source": [
    "columns = [\"PTS\", \"FG_PCT\", \"PLUS_MINUS\", \"DREB\", \"OREB\", \"TOV\", \"AST\"]\n",
    "X_train, X_test, y_train, y_test = data_prep(all_games_df, columns=columns)\n",
    "print(X_train)\n",
    "# logistic_model\n",
    "lr_model = sklearn.linear_model.LogisticRegression()\n",
    "param_grid = {\n",
    "    'C': [0.05, 0.1, 1, 10, 100, 1000],\n",
    "    'class_weight': ['balanced', None]\n",
    "    }\n",
    "# grid search\n",
    "grid_search = GridSearchCV(estimator=lr_model, param_grid=param_grid, \n",
    "                           cv=5, n_jobs=-1, verbose=2, scoring='accuracy', refit=True)\n",
    "grid_search.fit(X_train, y_train)\n",
    "print(grid_search.best_params_)\n",
    "lr_model = grid_search.best_estimator_\n",
    "y_pred = lr_model.predict(X_test)"
   ]
  },
  {
   "cell_type": "code",
   "execution_count": 5,
   "metadata": {},
   "outputs": [
    {
     "name": "stdout",
     "output_type": "stream",
     "text": [
      "Classification Report:\n",
      "              precision    recall  f1-score   support\n",
      "\n",
      "           L       0.56      0.29      0.38      3067\n",
      "           W       0.64      0.84      0.73      4522\n",
      "\n",
      "    accuracy                           0.62      7589\n",
      "   macro avg       0.60      0.57      0.55      7589\n",
      "weighted avg       0.60      0.62      0.59      7589\n",
      "\n"
     ]
    },
    {
     "data": {
      "image/png": "[encoded data removed]",
      "text/plain": [
       "<Figure size 640x480 with 2 Axes>"
      ]
     },
     "metadata": {},
     "output_type": "display_data"
    }
   ],
   "source": [
    "report = metrics.classification_report(y_test, y_pred, zero_division=1)\n",
    "print(\"Classification Report:\")\n",
    "print(report)\n",
    "\n",
    "#confusion matrix\n",
    "confusionmatrix = metrics.confusion_matrix(y_test, y_pred)\n",
    "disp = metrics.ConfusionMatrixDisplay(confusion_matrix=confusionmatrix)\n",
    "disp.plot()\n",
    "plt.show()"
   ]
  },
  {
   "cell_type": "code",
   "execution_count": 8,
   "metadata": {},
   "outputs": [
    {
     "data": {
      "text/plain": [
       "['logistic_model.bin']"
      ]
     },
     "execution_count": 8,
     "metadata": {},
     "output_type": "execute_result"
    }
   ],
   "source": [
    "# save model\n",
    "joblib.dump(lr_model, 'logistic_model.bin')"
   ]
  },
  {
   "cell_type": "code",
   "execution_count": 10,
   "metadata": {},
   "outputs": [
    {
     "data": {
      "text/plain": [
       "array(['L', 'W', 'W', ..., 'W', 'W', 'L'], dtype=object)"
      ]
     },
     "execution_count": 10,
     "metadata": {},
     "output_type": "execute_result"
    }
   ],
   "source": [
    "# load model\n",
    "lr_model = joblib.load('logistic_model.bin')\n",
    "lr_model.predict(X_test)"
   ]
  }
 ],
 "metadata": {
  "kernelspec": {
   "display_name": "Python 3",
   "language": "python",
   "name": "python3"
  },
  "language_info": {
   "codemirror_mode": {
    "name": "ipython",
    "version": 3
   },
   "file_extension": ".py",
   "mimetype": "text/x-python",
   "name": "python",
   "nbconvert_exporter": "python",
   "pygments_lexer": "ipython3",
   "version": "3.10.13"
  }
 },
 "nbformat": 4,
 "nbformat_minor": 2
}
