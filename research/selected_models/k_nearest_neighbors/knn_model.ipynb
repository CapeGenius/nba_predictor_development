{
 "cells": [
  {
   "cell_type": "code",
   "execution_count": 1,
   "metadata": {},
   "outputs": [],
   "source": [
    "import numpy as np\n",
    "import pandas as pd \n",
    "import os\n",
    "import sklearn.preprocessing as skp\n",
    "from sklearn.model_selection import train_test_split\n",
    "import sklearn.linear_model\n",
    "from sklearn.utils import resample\n",
    "import joblib\n",
    "\n",
    "from sklearn.model_selection import GridSearchCV\n",
    "from sklearn.ensemble import RandomForestClassifier, VotingClassifier\n",
    "from sklearn.utils.class_weight import compute_sample_weight\n",
    "\n",
    "import sklearn.metrics as metrics\n",
    "import matplotlib.pyplot as plt\n",
    "# change os directory up one level\n",
    "os.chdir(os.path.dirname(os.getcwd()))\n",
    "os.chdir(os.path.dirname(os.getcwd()))\n",
    "from api_helpers.game_stats_helpers import load_past_n_games\n",
    "# change os directory back \n",
    "os.chdir(os.path.join(os.getcwd(), 'selected_models'))\n",
    "\n",
    "#print directory\n"
   ]
  },
  {
   "cell_type": "markdown",
   "metadata": {},
   "source": [
    "## Data Preparation"
   ]
  },
  {
   "cell_type": "code",
   "execution_count": 2,
   "metadata": {},
   "outputs": [],
   "source": [
    "def get_data():\n",
    "    all_games_df = pd.read_csv(\"../data/all_games.csv\",encoding=\"utf-8\")\n",
    "    all_games_df.drop(\"Unnamed: 0\", axis=1,inplace=True)\n",
    "    all_games_df = all_games_df.dropna()\n",
    "    all_games_df = all_games_df[all_games_df['WL_A'] != ' ']\n",
    "    X = all_games_df.drop(columns=[\"WL_A\", \"WL_B\", 'SEASON_ID', 'TEAM_ID_A', 'TEAM_ABBREVIATION_A', 'TEAM_NAME_A',\n",
    "       'GAME_ID', 'GAME_DATE', 'MATCHUP_A', 'MIN_A', 'TEAM_ID_B', 'TEAM_ABBREVIATION_B','TEAM_NAME_B', 'MATCHUP_B'])\n",
    "    y = all_games_df[\"WL_A\"]\n",
    "    le = skp.LabelEncoder()\n",
    "    y = le.fit_transform(y)\n",
    "    return all_games_df, X, y\n",
    "\n",
    "def data_prep(all_games_df, columns=[\"FG_PCT\",\"FT_PCT\", \"OREB\", \"TOV\", \"DREB\", \"AST\"]):\n",
    "    columns_a = [column + \"_A\" for column in columns]\n",
    "    columns_b = [column + \"_B\" for column in columns]\n",
    "\n",
    "    n_games_df = load_past_n_games(all_games_df=all_games_df, columns=columns, n=20)\n",
    "    n_games_df = n_games_df.dropna()\n",
    "\n",
    "    x_columns = columns_a + columns_b\n",
    "    y_column = \"WL_A\"\n",
    "\n",
    "    #normalize x_data\n",
    "    scaler = skp.StandardScaler()\n",
    "    n_games_df[x_columns] = scaler.fit_transform(n_games_df[x_columns])\n",
    "    # save scaler\n",
    "    # joblib.dump(scaler, 'knn_scaler.bin')\n",
    "\n",
    "    # Split the data into training and testing sets\n",
    "    X_train, X_test, y_train, y_test = train_test_split(n_games_df[x_columns], n_games_df[y_column], test_size=0.2, random_state=42)\n",
    "\n",
    "    return X_train, X_test, y_train, y_test"
   ]
  },
  {
   "cell_type": "code",
   "execution_count": 3,
   "metadata": {},
   "outputs": [
    {
     "name": "stdout",
     "output_type": "stream",
     "text": [
      "Index(['PTS_A', 'FGM_A', 'FGA_A', 'FG_PCT_A', 'FG3M_A', 'FG3A_A', 'FG3_PCT_A',\n",
      "       'FTM_A', 'FTA_A', 'FT_PCT_A', 'OREB_A', 'DREB_A', 'REB_A', 'AST_A',\n",
      "       'STL_A', 'BLK_A', 'TOV_A', 'PF_A', 'PLUS_MINUS_A', 'MIN_B', 'PTS_B',\n",
      "       'FGM_B', 'FGA_B', 'FG_PCT_B', 'FG3M_B', 'FG3A_B', 'FG3_PCT_B', 'FTM_B',\n",
      "       'FTA_B', 'FT_PCT_B', 'OREB_B', 'DREB_B', 'REB_B', 'AST_B', 'STL_B',\n",
      "       'BLK_B', 'TOV_B', 'PF_B', 'PLUS_MINUS_B'],\n",
      "      dtype='object')\n"
     ]
    }
   ],
   "source": [
    "all_games_df, X,y = get_data()\n",
    "print(X.columns)"
   ]
  },
  {
   "cell_type": "markdown",
   "metadata": {},
   "source": [
    "## Feature Selection"
   ]
  },
  {
   "cell_type": "code",
   "execution_count": 11,
   "metadata": {},
   "outputs": [
    {
     "data": {
      "text/plain": [
       "Index(['PTS_A', 'FG_PCT_A', 'FG3A_A', 'FG3_PCT_A', 'PLUS_MINUS_A', 'PTS_B',\n",
       "       'FG_PCT_B', 'FG3M_B', 'FTA_B', 'FT_PCT_B', 'PF_B', 'PLUS_MINUS_B'],\n",
       "      dtype='object')"
      ]
     },
     "execution_count": 11,
     "metadata": {},
     "output_type": "execute_result"
    }
   ],
   "source": [
    "# using Recursive Feature Elimination (RFE) to get best features\n",
    "# Apply RFE\n",
    "from sklearn.feature_selection import RFE\n",
    "import sklearn.ensemble\n",
    "import sklearn.linear_model\n",
    "\n",
    "estimator = sklearn.ensemble.RandomForestRegressor() # using RandomForestRegressor is arbitrary, it worked better than logistic and linear\n",
    "selector = RFE(estimator, n_features_to_select=12, step=1)\n",
    "selector = selector.fit(X, y)\n",
    "selected_columns = X.columns[selector.support_]\n",
    "selected_columns"
   ]
  },
  {
   "cell_type": "markdown",
   "metadata": {},
   "source": [
    "## Train Model"
   ]
  },
  {
   "cell_type": "code",
   "execution_count": 10,
   "metadata": {},
   "outputs": [
    {
     "name": "stdout",
     "output_type": "stream",
     "text": [
      "Fitting 5 folds for each of 7 candidates, totalling 35 fits\n",
      "[CV] END ....................................n_neighbors=140; total time=   2.8s\n",
      "[CV] END ....................................n_neighbors=140; total time=   2.8s\n",
      "[CV] END ....................................n_neighbors=150; total time=   2.9s\n",
      "[CV] END ....................................n_neighbors=150; total time=   2.9s\n",
      "[CV] END ....................................n_neighbors=150; total time=   2.9s\n",
      "[CV] END ....................................n_neighbors=140; total time=   3.7s\n",
      "[CV] END ....................................n_neighbors=150; total time=   3.6s\n",
      "[CV] END ....................................n_neighbors=140; total time=   3.8s\n",
      "[CV] END ....................................n_neighbors=140; total time=   4.1s\n",
      "[CV] END ....................................n_neighbors=150; total time=   4.2s\n",
      "[CV] END ....................................n_neighbors=160; total time=   2.7s\n",
      "[CV] END ....................................n_neighbors=160; total time=   2.8s\n",
      "[CV] END ....................................n_neighbors=160; total time=   2.8s\n",
      "[CV] END ....................................n_neighbors=160; total time=   2.7s\n",
      "[CV] END ....................................n_neighbors=160; total time=   2.8s\n",
      "[CV] END ....................................n_neighbors=180; total time=   4.0s\n",
      "[CV] END ....................................n_neighbors=180; total time=   4.0s\n",
      "[CV] END ....................................n_neighbors=180; total time=   4.0s\n",
      "[CV] END ....................................n_neighbors=180; total time=   3.9s\n",
      "[CV] END ....................................n_neighbors=180; total time=   4.0s\n",
      "[CV] END ....................................n_neighbors=200; total time=   2.9s\n",
      "[CV] END ....................................n_neighbors=200; total time=   2.8s\n",
      "[CV] END ....................................n_neighbors=200; total time=   2.9s\n",
      "[CV] END ....................................n_neighbors=200; total time=   2.9s\n",
      "[CV] END ....................................n_neighbors=200; total time=   2.9s\n",
      "[CV] END ....................................n_neighbors=250; total time=   3.2s\n",
      "[CV] END ....................................n_neighbors=250; total time=   3.4s\n",
      "[CV] END ....................................n_neighbors=250; total time=   3.3s\n",
      "[CV] END ....................................n_neighbors=220; total time=   4.4s\n",
      "[CV] END ....................................n_neighbors=250; total time=   3.3s\n",
      "[CV] END ....................................n_neighbors=220; total time=   4.3s\n",
      "[CV] END ....................................n_neighbors=220; total time=   4.2s\n",
      "[CV] END ....................................n_neighbors=220; total time=   4.3s\n",
      "[CV] END ....................................n_neighbors=250; total time=   3.5s\n",
      "[CV] END ....................................n_neighbors=220; total time=   4.2s\n",
      "{'n_neighbors': 160}\n"
     ]
    }
   ],
   "source": [
    "columns = [\"PTS\", \"FG_PCT\", \"PLUS_MINUS\", \"DREB\", \"OREB\", \"TOV\", \"AST\"]\n",
    "X_train, X_test, y_train, y_test = data_prep(all_games_df, columns=columns)\n",
    "\n",
    "# knn model\n",
    "knn_model = sklearn.neighbors.KNeighborsClassifier()\n",
    "param_grid = {\n",
    "    'n_neighbors': [140, 150, 160, 180, 200, 220, 250],\n",
    "}\n",
    "# grid search\n",
    "grid_search = GridSearchCV(estimator=knn_model, param_grid=param_grid, \n",
    "                           cv=5, n_jobs=-1, verbose=2, scoring='accuracy', refit=True)\n",
    "grid_search.fit(X_train, y_train)\n",
    "print(grid_search.best_params_)\n",
    "knn_model = grid_search.best_estimator_\n",
    "y_pred = knn_model.predict(X_test)"
   ]
  },
  {
   "cell_type": "code",
   "execution_count": 11,
   "metadata": {},
   "outputs": [
    {
     "name": "stdout",
     "output_type": "stream",
     "text": [
      "Classification Report:\n",
      "              precision    recall  f1-score   support\n",
      "\n",
      "           L       0.56      0.23      0.33      3067\n",
      "           W       0.63      0.88      0.73      4522\n",
      "\n",
      "    accuracy                           0.61      7589\n",
      "   macro avg       0.59      0.55      0.53      7589\n",
      "weighted avg       0.60      0.61      0.57      7589\n",
      "\n"
     ]
    },
    {
     "data": {
      "image/png": "[encoded data removed]",
      "text/plain": [
       "<Figure size 640x480 with 2 Axes>"
      ]
     },
     "metadata": {},
     "output_type": "display_data"
    }
   ],
   "source": [
    "report = metrics.classification_report(y_test, y_pred, zero_division=1)\n",
    "print(\"Classification Report:\")\n",
    "print(report)\n",
    "\n",
    "#confusion matrix\n",
    "confusionmatrix = metrics.confusion_matrix(y_test, y_pred)\n",
    "disp = metrics.ConfusionMatrixDisplay(confusion_matrix=confusionmatrix)\n",
    "disp.plot()\n",
    "plt.show()"
   ]
  },
  {
   "cell_type": "code",
   "execution_count": 12,
   "metadata": {},
   "outputs": [
    {
     "data": {
      "text/plain": [
       "array(['L', 'W', 'W', ..., 'W', 'W', 'L'], dtype=object)"
      ]
     },
     "execution_count": 12,
     "metadata": {},
     "output_type": "execute_result"
    }
   ],
   "source": [
    "# save model\n",
    "joblib.dump(knn_model, 'knn_model.bin')\n",
    "\n",
    "# load model\n",
    "knn_model = joblib.load('knn_model.bin')\n",
    "\n",
    "knn_model.predict(X_test)"
   ]
  }
 ],
 "metadata": {
  "kernelspec": {
   "display_name": "Python 3",
   "language": "python",
   "name": "python3"
  },
  "language_info": {
   "codemirror_mode": {
    "name": "ipython",
    "version": 3
   },
   "file_extension": ".py",
   "mimetype": "text/x-python",
   "name": "python",
   "nbconvert_exporter": "python",
   "pygments_lexer": "ipython3",
   "version": "3.10.13"
  }
 },
 "nbformat": 4,
 "nbformat_minor": 2
}
