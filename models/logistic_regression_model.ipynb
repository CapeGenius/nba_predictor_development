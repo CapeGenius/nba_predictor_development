{
 "cells": [
  {
   "cell_type": "markdown",
   "metadata": {},
   "source": [
    "# Getting and filtering data for each game for seasons from 2011-2022 (12 seasons)"
   ]
  },
  {
   "cell_type": "code",
   "execution_count": 29,
   "metadata": {},
   "outputs": [
    {
     "name": "stdout",
     "output_type": "stream",
     "text": [
      "          GAME_ID      MATCHUP               TEAM_NAME     TEAM_ID  \\\n",
      "0      0021100001    BOS @ NYK          Boston Celtics  1610612738   \n",
      "1      0021100001  NYK vs. BOS         New York Knicks  1610612752   \n",
      "2      0021100002  DAL vs. MIA        Dallas Mavericks  1610612742   \n",
      "3      0021100002    MIA @ DAL              Miami Heat  1610612748   \n",
      "4      0021100003    CHI @ LAL           Chicago Bulls  1610612741   \n",
      "...           ...          ...                     ...         ...   \n",
      "28393  0022201228    UTA @ LAL               Utah Jazz  1610612762   \n",
      "28394  0022201229  PHX vs. LAC            Phoenix Suns  1610612756   \n",
      "28395  0022201229    LAC @ PHX             LA Clippers  1610612746   \n",
      "28396  0022201230    GSW @ POR   Golden State Warriors  1610612744   \n",
      "28397  0022201230  POR vs. GSW  Portland Trail Blazers  1610612757   \n",
      "\n",
      "                  TEAM_2_NAME   TEAM_2_ID WL  HOME/AWAY  \n",
      "0             New York Knicks  1610612752  L          0  \n",
      "1              Boston Celtics  1610612738  W          1  \n",
      "2                  Miami Heat  1610612748  L          1  \n",
      "3            Dallas Mavericks  1610612742  W          0  \n",
      "4          Los Angeles Lakers  1610612747  W          0  \n",
      "...                       ...         ... ..        ...  \n",
      "28393      Los Angeles Lakers  1610612747  L          0  \n",
      "28394             LA Clippers  1610612746  L          1  \n",
      "28395            Phoenix Suns  1610612756  W          0  \n",
      "28396  Portland Trail Blazers  1610612757  W          0  \n",
      "28397   Golden State Warriors  1610612744  L          1  \n",
      "\n",
      "[28398 rows x 8 columns]\n"
     ]
    }
   ],
   "source": [
    "from nba_api.stats.endpoints import leaguegamelog\n",
    "from nba_api.stats.endpoints import boxscoretraditionalv2\n",
    "import pandas as pd\n",
    "\n",
    "COUNTER =  1\n",
    "DIRECTION = \"ASC\"\n",
    "LEAGUE = \"00\"\n",
    "PLAYER_OR_TEAM = \"T\"\n",
    "SEASON_TYPE = \"Regular Season\"\n",
    "SORTER = \"DATE\"\n",
    "\n",
    "def fetch_season_game_logs(season):\n",
    "    # Create LeagueGameLog object instance for the season\n",
    "    gamelog = leaguegamelog.LeagueGameLog(\n",
    "    COUNTER, DIRECTION, LEAGUE, PLAYER_OR_TEAM, season, SEASON_TYPE, SORTER\n",
    ")\n",
    "    \n",
    "    # Execute request and fetch data\n",
    "    data = gamelog.get_data_frames()[0] \n",
    "    \n",
    "    # Filter columns and add Home/Away column\n",
    "    columns_to_keep = [\"TEAM_ID\",\"TEAM_NAME\",\"GAME_ID\",\"MATCHUP\",\"WL\"]\n",
    "    filtered_data = data[columns_to_keep].copy()\n",
    "    filtered_data['HOME/AWAY'] = filtered_data['MATCHUP'].apply(lambda x: 0 if '@' in x else 1)\n",
    "    \n",
    "    return filtered_data\n",
    "\n",
    "def fetch_multiple_seasons(start_year, end_year):\n",
    "    all_seasons_data = []  # List to store data for all seasons\n",
    "    \n",
    "    # Loop through each season from start_year to end_year (inclusive)\n",
    "    for year in range(start_year, end_year + 1):\n",
    "        season = f\"{year}-{str(year + 1)[-2:]}\"  # Format season string (e.g., '2010-11')\n",
    "        season_data = fetch_season_game_logs(season)\n",
    "        all_seasons_data.append(season_data)\n",
    "    \n",
    "    # Concatenate all seasons' data into a single DataFrame\n",
    "    combined_data = pd.concat(all_seasons_data, ignore_index=True)\n",
    "    combined_data = combined_data.sort_values(by='GAME_ID', ascending=True)\n",
    "    combined_data = combined_data.reset_index(drop=True)\n",
    "\n",
    "    team_2_id = []\n",
    "    team_2_name = []\n",
    "\n",
    "    # Add new columns for team IDs and names from adjacent rows\n",
    "    for i in range(len(combined_data)):\n",
    "        if i % 2 == 0:  # Every even row\n",
    "            team_2_id.append(combined_data.loc[i+1, 'TEAM_ID'])\n",
    "            team_2_name.append(combined_data.loc[i+1, 'TEAM_NAME'])\n",
    "        else:  # Every odd row\n",
    "            team_2_id.append(combined_data.loc[i-1, 'TEAM_ID'])\n",
    "            team_2_name.append(combined_data.loc[i-1, 'TEAM_NAME'])\n",
    "    \n",
    "    # Add new columns to the DataFrame\n",
    "    combined_data['TEAM_2_ID'] = team_2_id\n",
    "    combined_data['TEAM_2_NAME'] = team_2_name\n",
    "    \n",
    "    columns_order = [\"GAME_ID\",\"MATCHUP\", \"TEAM_NAME\", \"TEAM_ID\", \"TEAM_2_NAME\", \"TEAM_2_ID\", \"WL\", \"HOME/AWAY\"]\n",
    "    combined_data = combined_data[columns_order]\n",
    "    \n",
    "    return combined_data\n",
    "\n",
    "print(fetch_multiple_seasons(2011,2022))"
   ]
  },
  {
   "cell_type": "markdown",
   "metadata": {},
   "source": [
    "# Combining Win/Loss data with overall Season Stats "
   ]
  },
  {
   "cell_type": "code",
   "execution_count": 30,
   "metadata": {},
   "outputs": [
    {
     "name": "stdout",
     "output_type": "stream",
     "text": [
      "        TEAM_ID  YEAR  NBA_FINALS_APPEARANCE   FGM   FGA  FG_PCT  FG3M  FG3A  \\\n",
      "0    1610612759  2011                    0.0  2611  5463   0.478   552  1405   \n",
      "1    1610612747  2011                    0.0  2429  5319   0.457   362  1112   \n",
      "2    1610612746  2011                    0.0  2439  5366   0.455   514  1441   \n",
      "3    1610612748  2011                    2.0  2446  5212   0.469   370  1030   \n",
      "4    1610612739  2011                    0.0  2261  5360   0.422   440  1273   \n",
      "..          ...   ...                    ...   ...   ...     ...   ...   ...   \n",
      "385  1610612765  2023                    0.0  3353  7236   0.463   906  2602   \n",
      "386  1610612756  2023                    0.0  3482  7063   0.493  1020  2671   \n",
      "387  1610612740  2023                    0.0  3484  7165   0.486  1023  2673   \n",
      "388  1610612764  2023                    0.0  3523  7493   0.470  1015  2915   \n",
      "389  1610612766  2023                    0.0  3281  7133   0.460   989  2788   \n",
      "\n",
      "     FG3_PCT   FTM   FTA  FT_PCT  OREB  DREB   AST   PTS  \n",
      "0      0.393  1067  1427   0.748   683  2153  1528  6841  \n",
      "1      0.326  1202  1589   0.756   799  2251  1485  6422  \n",
      "2      0.357  1046  1538   0.680   800  1943  1385  6438  \n",
      "3      0.359  1238  1598   0.775   686  2060  1317  6500  \n",
      "4      0.346  1178  1645   0.716   841  1949  1308  6140  \n",
      "..       ...   ...   ...     ...   ...   ...   ...   ...  \n",
      "385    0.348  1398  1780   0.785   861  2692  2088  9010  \n",
      "386    0.382  1548  1915   0.808   831  2783  2218  9532  \n",
      "387    0.383  1445  1873   0.771   852  2753  2210  9436  \n",
      "388    0.348  1266  1657   0.764   755  2613  2288  9327  \n",
      "389    0.355  1189  1512   0.786   765  2538  2033  8740  \n",
      "\n",
      "[390 rows x 16 columns]\n"
     ]
    }
   ],
   "source": [
    "from api_helpers.team_stats_helpers import load_dataframe\n",
    "\n",
    "nba_dataframe = load_dataframe([\"PTS\",\"FGM\",\"FGA\",\"FG_PCT\",\"FG3M\",\"FG3A\",\"FG3_PCT\",\"FTM\",\"FTA\",\"FT_PCT\",\"OREB\",\"DREB\",\"AST\"])\n",
    "nba_dataframe = nba_dataframe.drop(nba_dataframe[nba_dataframe[\"FGM\"] == 0].index)\n",
    "nba_dataframe.sort_values(by='YEAR')\n",
    "\n",
    "nba_dataframe['YEAR'] = nba_dataframe['YEAR'].str.split('-').str[0]\n",
    "nba_dataframe['YEAR'] = pd.to_numeric(nba_dataframe['YEAR'])\n",
    "nba_dataframe.sort_values(by=\"YEAR\",inplace=True)\n",
    "\n",
    "nba_dataframe[\"NBA_FINALS_APPEARANCE\"].fillna(0.0, inplace=True)\n",
    "nba_dataframe[\"NBA_FINALS_APPEARANCE\"].replace(\"FINALS APPEARANCE\", 0.0, inplace=True)\n",
    "nba_dataframe[\"NBA_FINALS_APPEARANCE\"].replace(\"LEAGUE CHAMPION\", 2, inplace=True)\n",
    "\n",
    "nba_dataframe = nba_dataframe[nba_dataframe['YEAR'] >= 2011]\n",
    "nba_dataframe = nba_dataframe.reset_index(drop=True)\n",
    "\n",
    "print(nba_dataframe)\n"
   ]
  }
 ],
 "metadata": {
  "kernelspec": {
   "display_name": "base",
   "language": "python",
   "name": "python3"
  },
  "language_info": {
   "codemirror_mode": {
    "name": "ipython",
    "version": 3
   },
   "file_extension": ".py",
   "mimetype": "text/x-python",
   "name": "python",
   "nbconvert_exporter": "python",
   "pygments_lexer": "ipython3",
   "version": "3.11.5"
  }
 },
 "nbformat": 4,
 "nbformat_minor": 2
}
