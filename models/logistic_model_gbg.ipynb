{
 "cells": [
  {
   "cell_type": "markdown",
   "metadata": {},
   "source": [
    "# Full Logistic Regression Model for Game by Game Analysis Using Seasonal Statistics "
   ]
  },
  {
   "cell_type": "code",
   "execution_count": 86,
   "metadata": {},
   "outputs": [],
   "source": [
    "import pandas as pd\n",
    "import matplotlib as plt\n",
    "from sklearn.model_selection import train_test_split\n",
    "from sklearn.linear_model import LogisticRegression\n",
    "import matplotlib.pyplot as plt\n",
    "\n",
    "df = pd.read_csv(\"/home/swisnoski/nba_predictor_development/models/data/combined_data_2010-2023.csv\")\n",
    "df['TEAM_1_WIN/LOSS'] = df['TEAM_1_WIN/LOSS'].replace({100: 1, 0: 0})\n",
    "\n",
    "X = df[[\n",
    "        \"TEAM_1_HOME/AWAY\",\n",
    "        #\"TEAM_1_PTS\",\n",
    "        #\"TEAM_1_POSS\",\n",
    "        #\"TEAM_1_PPP\",\n",
    "        \"TEAM_1_DEF_PPP\",\n",
    "        \"TEAM_1_TS%\",\n",
    "        \"TEAM_1_eFG%\",\n",
    "        #\"TEAM_1_FGA\",\n",
    "        #\"TEAM_1_FGM\",\n",
    "        #\"TEAM_1_FG3M\",\n",
    "        #\"TEAM_1_FTA\",\n",
    "        \"TEAM_1_FG_PCT\",\n",
    "        #\"TEAM_1_OREB\",\n",
    "        \"TEAM_1_DREB\",\n",
    "        \"TEAM_1_AST\",\n",
    "        \"TEAM_1_TOV\",\n",
    "        \"TEAM_1_WIN_PCT\",\n",
    "        \"TEAM_2_HOME/AWAY\",\n",
    "        #\"TEAM_2_PTS\",\n",
    "        #\"TEAM_2_POSS\",\n",
    "        #\"TEAM_2_PPP\",\n",
    "        \"TEAM_2_DEF_PPP\",\n",
    "        \"TEAM_2_TS%\",\n",
    "        \"TEAM_2_eFG%\",\n",
    "        #\"TEAM_2_FGA\",\n",
    "        #\"TEAM_2_FGM\",\n",
    "        #\"TEAM_2_FG3M\",\n",
    "        #\"TEAM_2_FTA\",\n",
    "        \"TEAM_2_FG_PCT\",\n",
    "        #\"TEAM_2_OREB\",\n",
    "        \"TEAM_2_DREB\",\n",
    "        \"TEAM_2_AST\",\n",
    "        \"TEAM_2_TOV\",\n",
    "        \"TEAM_2_WIN_PCT\",\n",
    "    ]]  \n",
    "y = df['TEAM_1_WIN/LOSS']  \n",
    "\n",
    "X_train, X_test, y_train, y_test = train_test_split(X, y, test_size=0.2, random_state=42)\n",
    "y_test.fillna(1, inplace=True)\n",
    "model = LogisticRegression(max_iter=20000)\n",
    "model.fit(X_train, y_train)\n",
    "\n",
    "y_pred = model.predict(X_test)\n",
    "\n"
   ]
  },
  {
   "cell_type": "code",
   "execution_count": 87,
   "metadata": {},
   "outputs": [
    {
     "name": "stdout",
     "output_type": "stream",
     "text": [
      "accuracy is 0.687875150060024\n",
      "mae is 0.31212484993997597\n",
      "recall is 0.687875150060024\n",
      "precision is 0.6878812815262727\n",
      "r2 is -0.24850119904076728\n",
      "Classification Report:\n",
      "              precision    recall  f1-score   support\n",
      "\n",
      "         0.0       0.69      0.69      0.69      1668\n",
      "         1.0       0.69      0.69      0.69      1664\n",
      "\n",
      "    accuracy                           0.69      3332\n",
      "   macro avg       0.69      0.69      0.69      3332\n",
      "weighted avg       0.69      0.69      0.69      3332\n",
      "\n"
     ]
    },
    {
     "data": {
      "image/png": "[encoded data removed]",
      "text/plain": [
       "<Figure size 640x480 with 2 Axes>"
      ]
     },
     "metadata": {},
     "output_type": "display_data"
    }
   ],
   "source": [
    "import sklearn.metrics as metrics\n",
    "print('accuracy is ' + str(metrics.accuracy_score(y_test, y_pred)))\n",
    "print('mae is ' + str(metrics.mean_absolute_error(y_test, y_pred)))\n",
    "print('recall is ' + str(metrics.recall_score(y_test, y_pred, average='weighted')))\n",
    "print('precision is ' + str(metrics.precision_score(y_test, y_pred, average='weighted')))\n",
    "print('r2 is ' + str(metrics.r2_score(y_test, y_pred)))\n",
    "\n",
    "\n",
    "report = metrics.classification_report(y_test, y_pred, zero_division=1)\n",
    "print(\"Classification Report:\")\n",
    "print(report)\n",
    "\n",
    "#confusion matrix\n",
    "confusionmatrix = metrics.confusion_matrix(y_test, y_pred)\n",
    "disp = metrics.ConfusionMatrixDisplay(confusion_matrix=confusionmatrix)\n",
    "disp.plot()\n",
    "plt.show()"
   ]
  }
 ],
 "metadata": {
  "kernelspec": {
   "display_name": "base",
   "language": "python",
   "name": "python3"
  },
  "language_info": {
   "codemirror_mode": {
    "name": "ipython",
    "version": 3
   },
   "file_extension": ".py",
   "mimetype": "text/x-python",
   "name": "python",
   "nbconvert_exporter": "python",
   "pygments_lexer": "ipython3",
   "version": "3.11.5"
  }
 },
 "nbformat": 4,
 "nbformat_minor": 2
}
