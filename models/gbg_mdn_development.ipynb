{
 "cells": [
  {
   "cell_type": "markdown",
   "metadata": {},
   "source": [
    "# Data Preparation"
   ]
  },
  {
   "cell_type": "code",
   "execution_count": 1,
   "metadata": {},
   "outputs": [],
   "source": [
    "import pandas as pd\n",
    "\n",
    "all_games_df = pd.read_csv(\"data/all_games.csv\")"
   ]
  },
  {
   "cell_type": "code",
   "execution_count": 2,
   "metadata": {},
   "outputs": [],
   "source": [
    "output_a_features = [\n",
    "    \"FG_PCT_A\",\n",
    "    \"FG3_PCT_A\",\n",
    "    \"FTM_A\",\n",
    "    \"OREB_A\",\n",
    "    \"DREB_A\",\n",
    "    \"REB_A\",\n",
    "    \"AST_A\",\n",
    "]\n",
    "output_b_features = [word.replace(\"_A\", \"_B\") for word in output_a_features]\n",
    "output_features = output_a_features + output_b_features"
   ]
  },
  {
   "cell_type": "code",
   "execution_count": 3,
   "metadata": {},
   "outputs": [
    {
     "name": "stderr",
     "output_type": "stream",
     "text": [
      "2024-07-12 13:01:18.393514: I tensorflow/core/util/port.cc:113] oneDNN custom operations are on. You may see slightly different numerical results due to floating-point round-off errors from different computation orders. To turn them off, set the environment variable `TF_ENABLE_ONEDNN_OPTS=0`.\n",
      "2024-07-12 13:01:18.394120: I external/local_tsl/tsl/cuda/cudart_stub.cc:32] Could not find cuda drivers on your machine, GPU will not be used.\n",
      "2024-07-12 13:01:18.396153: I external/local_tsl/tsl/cuda/cudart_stub.cc:32] Could not find cuda drivers on your machine, GPU will not be used.\n",
      "2024-07-12 13:01:18.401836: E external/local_xla/xla/stream_executor/cuda/cuda_fft.cc:479] Unable to register cuFFT factory: Attempting to register factory for plugin cuFFT when one has already been registered\n",
      "2024-07-12 13:01:18.413162: E external/local_xla/xla/stream_executor/cuda/cuda_dnn.cc:10575] Unable to register cuDNN factory: Attempting to register factory for plugin cuDNN when one has already been registered\n",
      "2024-07-12 13:01:18.413195: E external/local_xla/xla/stream_executor/cuda/cuda_blas.cc:1442] Unable to register cuBLAS factory: Attempting to register factory for plugin cuBLAS when one has already been registered\n",
      "2024-07-12 13:01:18.420791: I tensorflow/core/platform/cpu_feature_guard.cc:210] This TensorFlow binary is optimized to use available CPU instructions in performance-critical operations.\n",
      "To enable the following instructions: AVX2 AVX_VNNI FMA, in other operations, rebuild TensorFlow with the appropriate compiler flags.\n",
      "2024-07-12 13:01:18.991256: W tensorflow/compiler/tf2tensorrt/utils/py_utils.cc:38] TF-TRT Warning: Could not find TensorRT\n",
      "/tmp/ipykernel_287515/2286081454.py:13: SettingWithCopyWarning: \n",
      "A value is trying to be set on a copy of a slice from a DataFrame\n",
      "\n",
      "See the caveats in the documentation: https://pandas.pydata.org/pandas-docs/stable/user_guide/indexing.html#returning-a-view-versus-a-copy\n",
      "  y_output.replace(\"L\", 0, inplace=True)\n",
      "/tmp/ipykernel_287515/2286081454.py:14: FutureWarning: Downcasting behavior in `replace` is deprecated and will be removed in a future version. To retain the old behavior, explicitly call `result.infer_objects(copy=False)`. To opt-in to the future behavior, set `pd.set_option('future.no_silent_downcasting', True)`\n",
      "  y_output.replace(\"W\", 1, inplace=True)\n",
      "/tmp/ipykernel_287515/2286081454.py:14: SettingWithCopyWarning: \n",
      "A value is trying to be set on a copy of a slice from a DataFrame\n",
      "\n",
      "See the caveats in the documentation: https://pandas.pydata.org/pandas-docs/stable/user_guide/indexing.html#returning-a-view-versus-a-copy\n",
      "  y_output.replace(\"W\", 1, inplace=True)\n",
      "/tmp/ipykernel_287515/2286081454.py:17: RuntimeWarning: invalid value encountered in cast\n",
      "  y_output = np.asarray(y_output).astype(np.int32)\n"
     ]
    },
    {
     "data": {
      "text/html": [
       "<div>\n",
       "<style scoped>\n",
       "    .dataframe tbody tr th:only-of-type {\n",
       "        vertical-align: middle;\n",
       "    }\n",
       "\n",
       "    .dataframe tbody tr th {\n",
       "        vertical-align: top;\n",
       "    }\n",
       "\n",
       "    .dataframe thead th {\n",
       "        text-align: right;\n",
       "    }\n",
       "</style>\n",
       "<table border=\"1\" class=\"dataframe\">\n",
       "  <thead>\n",
       "    <tr style=\"text-align: right;\">\n",
       "      <th></th>\n",
       "      <th>Unnamed: 0</th>\n",
       "      <th>SEASON_ID</th>\n",
       "      <th>TEAM_ID_A</th>\n",
       "      <th>TEAM_ABBREVIATION_A</th>\n",
       "      <th>TEAM_NAME_A</th>\n",
       "      <th>GAME_ID</th>\n",
       "      <th>GAME_DATE</th>\n",
       "      <th>MATCHUP_A</th>\n",
       "      <th>WL_A</th>\n",
       "      <th>MIN_A</th>\n",
       "      <th>...</th>\n",
       "      <th>FT_PCT_B</th>\n",
       "      <th>OREB_B</th>\n",
       "      <th>DREB_B</th>\n",
       "      <th>REB_B</th>\n",
       "      <th>AST_B</th>\n",
       "      <th>STL_B</th>\n",
       "      <th>BLK_B</th>\n",
       "      <th>TOV_B</th>\n",
       "      <th>PF_B</th>\n",
       "      <th>PLUS_MINUS_B</th>\n",
       "    </tr>\n",
       "  </thead>\n",
       "  <tbody>\n",
       "    <tr>\n",
       "      <th>0</th>\n",
       "      <td>7</td>\n",
       "      <td>22023</td>\n",
       "      <td>1610612737</td>\n",
       "      <td>ATL</td>\n",
       "      <td>Atlanta Hawks</td>\n",
       "      <td>22301159</td>\n",
       "      <td>2024-04-10</td>\n",
       "      <td>ATL vs. CHA</td>\n",
       "      <td>0.0</td>\n",
       "      <td>240</td>\n",
       "      <td>...</td>\n",
       "      <td>0.955</td>\n",
       "      <td>5.0</td>\n",
       "      <td>28.0</td>\n",
       "      <td>33.0</td>\n",
       "      <td>25</td>\n",
       "      <td>11.0</td>\n",
       "      <td>2</td>\n",
       "      <td>13</td>\n",
       "      <td>18</td>\n",
       "      <td>1.0</td>\n",
       "    </tr>\n",
       "    <tr>\n",
       "      <th>1</th>\n",
       "      <td>9</td>\n",
       "      <td>22023</td>\n",
       "      <td>1610612737</td>\n",
       "      <td>ATL</td>\n",
       "      <td>Atlanta Hawks</td>\n",
       "      <td>22301147</td>\n",
       "      <td>2024-04-09</td>\n",
       "      <td>ATL vs. MIA</td>\n",
       "      <td>0.0</td>\n",
       "      <td>292</td>\n",
       "      <td>...</td>\n",
       "      <td>0.714</td>\n",
       "      <td>5.0</td>\n",
       "      <td>41.0</td>\n",
       "      <td>46.0</td>\n",
       "      <td>29</td>\n",
       "      <td>8.0</td>\n",
       "      <td>3</td>\n",
       "      <td>18</td>\n",
       "      <td>16</td>\n",
       "      <td>6.0</td>\n",
       "    </tr>\n",
       "    <tr>\n",
       "      <th>2</th>\n",
       "      <td>15</td>\n",
       "      <td>22023</td>\n",
       "      <td>1610612737</td>\n",
       "      <td>ATL</td>\n",
       "      <td>Atlanta Hawks</td>\n",
       "      <td>22301104</td>\n",
       "      <td>2024-04-03</td>\n",
       "      <td>ATL vs. DET</td>\n",
       "      <td>1.0</td>\n",
       "      <td>240</td>\n",
       "      <td>...</td>\n",
       "      <td>0.810</td>\n",
       "      <td>8.0</td>\n",
       "      <td>29.0</td>\n",
       "      <td>37.0</td>\n",
       "      <td>24</td>\n",
       "      <td>14.0</td>\n",
       "      <td>3</td>\n",
       "      <td>10</td>\n",
       "      <td>13</td>\n",
       "      <td>-8.0</td>\n",
       "    </tr>\n",
       "    <tr>\n",
       "      <th>3</th>\n",
       "      <td>19</td>\n",
       "      <td>22023</td>\n",
       "      <td>1610612737</td>\n",
       "      <td>ATL</td>\n",
       "      <td>Atlanta Hawks</td>\n",
       "      <td>22301076</td>\n",
       "      <td>2024-03-30</td>\n",
       "      <td>ATL vs. MIL</td>\n",
       "      <td>0.0</td>\n",
       "      <td>239</td>\n",
       "      <td>...</td>\n",
       "      <td>0.800</td>\n",
       "      <td>6.0</td>\n",
       "      <td>34.0</td>\n",
       "      <td>40.0</td>\n",
       "      <td>27</td>\n",
       "      <td>7.0</td>\n",
       "      <td>5</td>\n",
       "      <td>10</td>\n",
       "      <td>18</td>\n",
       "      <td>9.0</td>\n",
       "    </tr>\n",
       "    <tr>\n",
       "      <th>4</th>\n",
       "      <td>21</td>\n",
       "      <td>22023</td>\n",
       "      <td>1610612737</td>\n",
       "      <td>ATL</td>\n",
       "      <td>Atlanta Hawks</td>\n",
       "      <td>22301060</td>\n",
       "      <td>2024-03-28</td>\n",
       "      <td>ATL vs. BOS</td>\n",
       "      <td>1.0</td>\n",
       "      <td>265</td>\n",
       "      <td>...</td>\n",
       "      <td>0.857</td>\n",
       "      <td>9.0</td>\n",
       "      <td>34.0</td>\n",
       "      <td>43.0</td>\n",
       "      <td>28</td>\n",
       "      <td>7.0</td>\n",
       "      <td>6</td>\n",
       "      <td>12</td>\n",
       "      <td>15</td>\n",
       "      <td>-1.0</td>\n",
       "    </tr>\n",
       "    <tr>\n",
       "      <th>...</th>\n",
       "      <td>...</td>\n",
       "      <td>...</td>\n",
       "      <td>...</td>\n",
       "      <td>...</td>\n",
       "      <td>...</td>\n",
       "      <td>...</td>\n",
       "      <td>...</td>\n",
       "      <td>...</td>\n",
       "      <td>...</td>\n",
       "      <td>...</td>\n",
       "      <td>...</td>\n",
       "      <td>...</td>\n",
       "      <td>...</td>\n",
       "      <td>...</td>\n",
       "      <td>...</td>\n",
       "      <td>...</td>\n",
       "      <td>...</td>\n",
       "      <td>...</td>\n",
       "      <td>...</td>\n",
       "      <td>...</td>\n",
       "      <td>...</td>\n",
       "    </tr>\n",
       "    <tr>\n",
       "      <th>52802</th>\n",
       "      <td>211440</td>\n",
       "      <td>21988</td>\n",
       "      <td>1610612766</td>\n",
       "      <td>CHH</td>\n",
       "      <td>Charlotte Hornets</td>\n",
       "      <td>28800140</td>\n",
       "      <td>1988-11-26</td>\n",
       "      <td>CHH vs. WAS</td>\n",
       "      <td>0.0</td>\n",
       "      <td>220</td>\n",
       "      <td>...</td>\n",
       "      <td>0.788</td>\n",
       "      <td>14.0</td>\n",
       "      <td>28.0</td>\n",
       "      <td>42.0</td>\n",
       "      <td>25</td>\n",
       "      <td>7.0</td>\n",
       "      <td>1</td>\n",
       "      <td>17</td>\n",
       "      <td>25</td>\n",
       "      <td>NaN</td>\n",
       "    </tr>\n",
       "    <tr>\n",
       "      <th>52803</th>\n",
       "      <td>211446</td>\n",
       "      <td>21988</td>\n",
       "      <td>1610612766</td>\n",
       "      <td>CHH</td>\n",
       "      <td>Charlotte Hornets</td>\n",
       "      <td>28800115</td>\n",
       "      <td>1988-11-22</td>\n",
       "      <td>CHH vs. DET</td>\n",
       "      <td>0.0</td>\n",
       "      <td>240</td>\n",
       "      <td>...</td>\n",
       "      <td>0.920</td>\n",
       "      <td>15.0</td>\n",
       "      <td>34.0</td>\n",
       "      <td>49.0</td>\n",
       "      <td>18</td>\n",
       "      <td>4.0</td>\n",
       "      <td>5</td>\n",
       "      <td>17</td>\n",
       "      <td>15</td>\n",
       "      <td>NaN</td>\n",
       "    </tr>\n",
       "    <tr>\n",
       "      <th>52804</th>\n",
       "      <td>211452</td>\n",
       "      <td>21988</td>\n",
       "      <td>1610612766</td>\n",
       "      <td>CHH</td>\n",
       "      <td>Charlotte Hornets</td>\n",
       "      <td>28800071</td>\n",
       "      <td>1988-11-15</td>\n",
       "      <td>CHH vs. NJN</td>\n",
       "      <td>0.0</td>\n",
       "      <td>240</td>\n",
       "      <td>...</td>\n",
       "      <td>0.519</td>\n",
       "      <td>16.0</td>\n",
       "      <td>30.0</td>\n",
       "      <td>46.0</td>\n",
       "      <td>22</td>\n",
       "      <td>9.0</td>\n",
       "      <td>5</td>\n",
       "      <td>19</td>\n",
       "      <td>24</td>\n",
       "      <td>NaN</td>\n",
       "    </tr>\n",
       "    <tr>\n",
       "      <th>52805</th>\n",
       "      <td>211458</td>\n",
       "      <td>21988</td>\n",
       "      <td>1610612766</td>\n",
       "      <td>CHH</td>\n",
       "      <td>Charlotte Hornets</td>\n",
       "      <td>28800024</td>\n",
       "      <td>1988-11-08</td>\n",
       "      <td>CHH vs. LAC</td>\n",
       "      <td>1.0</td>\n",
       "      <td>240</td>\n",
       "      <td>...</td>\n",
       "      <td>0.564</td>\n",
       "      <td>13.0</td>\n",
       "      <td>35.0</td>\n",
       "      <td>48.0</td>\n",
       "      <td>21</td>\n",
       "      <td>8.0</td>\n",
       "      <td>6</td>\n",
       "      <td>20</td>\n",
       "      <td>34</td>\n",
       "      <td>NaN</td>\n",
       "    </tr>\n",
       "    <tr>\n",
       "      <th>52806</th>\n",
       "      <td>211462</td>\n",
       "      <td>21988</td>\n",
       "      <td>1610612766</td>\n",
       "      <td>CHH</td>\n",
       "      <td>Charlotte Hornets</td>\n",
       "      <td>28800008</td>\n",
       "      <td>1988-11-04</td>\n",
       "      <td>CHH vs. CLE</td>\n",
       "      <td>0.0</td>\n",
       "      <td>240</td>\n",
       "      <td>...</td>\n",
       "      <td>0.706</td>\n",
       "      <td>14.0</td>\n",
       "      <td>40.0</td>\n",
       "      <td>54.0</td>\n",
       "      <td>33</td>\n",
       "      <td>16.0</td>\n",
       "      <td>3</td>\n",
       "      <td>20</td>\n",
       "      <td>24</td>\n",
       "      <td>NaN</td>\n",
       "    </tr>\n",
       "  </tbody>\n",
       "</table>\n",
       "<p>52793 rows × 54 columns</p>\n",
       "</div>"
      ],
      "text/plain": [
       "       Unnamed: 0  SEASON_ID   TEAM_ID_A TEAM_ABBREVIATION_A  \\\n",
       "0               7      22023  1610612737                 ATL   \n",
       "1               9      22023  1610612737                 ATL   \n",
       "2              15      22023  1610612737                 ATL   \n",
       "3              19      22023  1610612737                 ATL   \n",
       "4              21      22023  1610612737                 ATL   \n",
       "...           ...        ...         ...                 ...   \n",
       "52802      211440      21988  1610612766                 CHH   \n",
       "52803      211446      21988  1610612766                 CHH   \n",
       "52804      211452      21988  1610612766                 CHH   \n",
       "52805      211458      21988  1610612766                 CHH   \n",
       "52806      211462      21988  1610612766                 CHH   \n",
       "\n",
       "             TEAM_NAME_A   GAME_ID   GAME_DATE    MATCHUP_A  WL_A  MIN_A  ...  \\\n",
       "0          Atlanta Hawks  22301159  2024-04-10  ATL vs. CHA   0.0    240  ...   \n",
       "1          Atlanta Hawks  22301147  2024-04-09  ATL vs. MIA   0.0    292  ...   \n",
       "2          Atlanta Hawks  22301104  2024-04-03  ATL vs. DET   1.0    240  ...   \n",
       "3          Atlanta Hawks  22301076  2024-03-30  ATL vs. MIL   0.0    239  ...   \n",
       "4          Atlanta Hawks  22301060  2024-03-28  ATL vs. BOS   1.0    265  ...   \n",
       "...                  ...       ...         ...          ...   ...    ...  ...   \n",
       "52802  Charlotte Hornets  28800140  1988-11-26  CHH vs. WAS   0.0    220  ...   \n",
       "52803  Charlotte Hornets  28800115  1988-11-22  CHH vs. DET   0.0    240  ...   \n",
       "52804  Charlotte Hornets  28800071  1988-11-15  CHH vs. NJN   0.0    240  ...   \n",
       "52805  Charlotte Hornets  28800024  1988-11-08  CHH vs. LAC   1.0    240  ...   \n",
       "52806  Charlotte Hornets  28800008  1988-11-04  CHH vs. CLE   0.0    240  ...   \n",
       "\n",
       "       FT_PCT_B  OREB_B  DREB_B  REB_B  AST_B  STL_B  BLK_B  TOV_B  PF_B  \\\n",
       "0         0.955     5.0    28.0   33.0     25   11.0      2     13    18   \n",
       "1         0.714     5.0    41.0   46.0     29    8.0      3     18    16   \n",
       "2         0.810     8.0    29.0   37.0     24   14.0      3     10    13   \n",
       "3         0.800     6.0    34.0   40.0     27    7.0      5     10    18   \n",
       "4         0.857     9.0    34.0   43.0     28    7.0      6     12    15   \n",
       "...         ...     ...     ...    ...    ...    ...    ...    ...   ...   \n",
       "52802     0.788    14.0    28.0   42.0     25    7.0      1     17    25   \n",
       "52803     0.920    15.0    34.0   49.0     18    4.0      5     17    15   \n",
       "52804     0.519    16.0    30.0   46.0     22    9.0      5     19    24   \n",
       "52805     0.564    13.0    35.0   48.0     21    8.0      6     20    34   \n",
       "52806     0.706    14.0    40.0   54.0     33   16.0      3     20    24   \n",
       "\n",
       "       PLUS_MINUS_B  \n",
       "0               1.0  \n",
       "1               6.0  \n",
       "2              -8.0  \n",
       "3               9.0  \n",
       "4              -1.0  \n",
       "...             ...  \n",
       "52802           NaN  \n",
       "52803           NaN  \n",
       "52804           NaN  \n",
       "52805           NaN  \n",
       "52806           NaN  \n",
       "\n",
       "[52793 rows x 54 columns]"
      ]
     },
     "execution_count": 3,
     "metadata": {},
     "output_type": "execute_result"
    }
   ],
   "source": [
    "from tensorflow.keras.models import Sequential\n",
    "from tensorflow.keras.layers import Dense\n",
    "import numpy as np\n",
    "\n",
    "import tensorflow as tf\n",
    "\n",
    "recorded_games = all_games_df[all_games_df[\"WL_A\"] != \" \"]\n",
    "\n",
    "X_input = np.asarray(recorded_games[output_features])\n",
    "y_output = recorded_games[\"WL_A\"]\n",
    "\n",
    "\n",
    "y_output.replace(\"L\", 0, inplace=True)\n",
    "y_output.replace(\"W\", 1, inplace=True)\n",
    "\n",
    "X_input = np.asarray(X_input).astype(np.float32)\n",
    "y_output = np.asarray(y_output).astype(np.int32)\n",
    "\n",
    "recorded_games[output_features + [\"WL_A\"]]\n",
    "recorded_games[(recorded_games[\"WL_A\"] == 0.0) | (recorded_games[\"WL_A\"] == 1.0)]"
   ]
  },
  {
   "cell_type": "code",
   "execution_count": 4,
   "metadata": {},
   "outputs": [],
   "source": [
    "from sklearn.preprocessing import StandardScaler\n",
    "from tensorflow.keras.utils import to_categorical\n",
    "\n",
    "# y_cleaned = y_output[~np.isnan(X_input)]\n",
    "# X_cleaned = X_input[all(~np.isnan(X_input))]\n",
    "X_truth = ~np.isnan(X_input).any(axis=1)\n",
    "y_truth = (y_output == 0) | (y_output == 1)\n",
    "y_cleaned = y_output[X_truth & y_truth]\n",
    "X_cleaned = X_input[X_truth & y_truth]"
   ]
  },
  {
   "cell_type": "code",
   "execution_count": 5,
   "metadata": {},
   "outputs": [
    {
     "data": {
      "text/plain": [
       "10361"
      ]
     },
     "execution_count": 5,
     "metadata": {},
     "output_type": "execute_result"
    }
   ],
   "source": [
    "from sklearn.model_selection import train_test_split\n",
    "\n",
    "\n",
    "X_train, X_test, y_train, y_test = train_test_split(\n",
    "    X_cleaned, y_cleaned, test_size=0.2, random_state=3\n",
    ")\n",
    "\n",
    "len(y_test)"
   ]
  },
  {
   "cell_type": "markdown",
   "metadata": {},
   "source": [
    "# Scaling Data"
   ]
  },
  {
   "cell_type": "code",
   "execution_count": 6,
   "metadata": {},
   "outputs": [],
   "source": [
    "from sklearn.preprocessing import LabelEncoder, OneHotEncoder\n",
    "\n",
    "scaler = StandardScaler()\n",
    "X_train = scaler.fit_transform(X_train)\n",
    "X_test = scaler.transform(X_test)\n",
    "\n",
    "y_test = to_categorical(y_test)\n",
    "y_train = to_categorical(y_train)"
   ]
  },
  {
   "cell_type": "markdown",
   "metadata": {},
   "source": [
    "# Without Tuning"
   ]
  },
  {
   "cell_type": "code",
   "execution_count": 7,
   "metadata": {},
   "outputs": [
    {
     "name": "stderr",
     "output_type": "stream",
     "text": [
      "UsageError: Cell magic `%%skip` not found.\n"
     ]
    }
   ],
   "source": [
    "%%skip\n",
    "import pandas as pd\n",
    "from tensorflow.keras.models import Sequential\n",
    "from tensorflow.keras.layers import Dense\n",
    "from scikeras.wrappers import KerasClassifier\n",
    "from sklearn.model_selection import cross_val_score\n",
    "from sklearn.preprocessing import LabelEncoder\n",
    "from sklearn.model_selection import KFold\n",
    "from sklearn.preprocessing import StandardScaler\n",
    "from sklearn.pipeline import Pipeline\n",
    "\n",
    "\n",
    "def create_baseline():\n",
    "    # create model\n",
    "    model = Sequential()\n",
    "    model.add(Dense(14, input_shape=(14,), activation=\"relu\"))\n",
    "    model.add(Dense(64, input_shape=(14,), activation=\"relu\"))\n",
    "    model.add(Dense(16, input_shape=(14,), activation=\"relu\"))\n",
    "    model.add(Dense(2, activation=\"sigmoid\"))\n",
    "    # Compile model\n",
    "    model.compile(loss=\"binary_crossentropy\", optimizer=\"adam\", metrics=[\"accuracy\"])\n",
    "    return model\n",
    "\n",
    "stop_early = tf.keras.callbacks.EarlyStopping(monitor=\"val_loss\", patience=5)\n",
    "\n",
    "# evaluate model with standardized dataset\n",
    "estimator = KerasClassifier(model=create_baseline, epochs=10, batch_size=5, verbose=1, callbacks=[stop_early])\n",
    "kfold = KFold(n_splits=2, shuffle=True)\n",
    "results = cross_val_score(estimator, X_train, y_train, cv=kfold)\n",
    "print(\"Baseline: %.2f%% (%.2f%%)\" % (results.mean() * 100, results.std() * 100))"
   ]
  },
  {
   "cell_type": "code",
   "execution_count": 8,
   "metadata": {},
   "outputs": [
    {
     "name": "stderr",
     "output_type": "stream",
     "text": [
      "UsageError: Cell magic `%%skip` not found.\n"
     ]
    }
   ],
   "source": [
    "%%skip\n",
    "import numpy as np\n",
    "from sklearn.metrics import accuracy_score, classification_report, confusion_matrix\n",
    "import seaborn as sns\n",
    "import matplotlib.pyplot as plt\n",
    "\n",
    "y_pred_proba = model.predict(x=X_test)\n",
    "\n",
    "# print(y_pred_proba)\n",
    "\n",
    "# y_pred = np.argmax(y_pred_proba)\n",
    "# # y_test_true = np.argmax(y_test)\n",
    "\n",
    "# # print(y_test_true)\n",
    "# custom_threshold = 0.5\n",
    "# y_pred_proba = (y_pred_proba >= custom_threshold).astype(int)\n",
    "\n",
    "# print(y_pred_proba)\n",
    "\n",
    "\n",
    "# Evaluate the model\n",
    "print(\"Best Neural Network classification report:\")\n",
    "print(classification_report(y_test, y_pred_proba))\n",
    "\n",
    "# Confusion matrix\n",
    "conf_matrix_nn = confusion_matrix(y_test, y_pred_proba)\n",
    "sns.heatmap(conf_matrix_nn, annot=True, fmt=\"d\", cmap=\"Blues\")\n",
    "plt.xlabel(\"Predicted\")\n",
    "plt.ylabel(\"Actual\")\n",
    "plt.title(\"Confusion Matrix\")\n",
    "plt.show()"
   ]
  },
  {
   "cell_type": "markdown",
   "metadata": {},
   "source": [
    "# With Tuning"
   ]
  },
  {
   "cell_type": "code",
   "execution_count": null,
   "metadata": {},
   "outputs": [],
   "source": []
  },
  {
   "cell_type": "code",
   "execution_count": 9,
   "metadata": {},
   "outputs": [
    {
     "name": "stdout",
     "output_type": "stream",
     "text": [
      "Trial 30 Complete [00h 00m 16s]\n",
      "val_accuracy: 0.8757389187812805\n",
      "\n",
      "Best val_accuracy So Far: 0.9062613248825073\n",
      "Total elapsed time: 00h 03m 18s\n",
      "<keras_tuner.src.engine.hyperparameters.hyperparameters.HyperParameters object at 0x7fd8a42047c0>\n",
      "\n",
      "The hyperparameter search is complete. The optimal number of units in the first densely-connected\n",
      "layer is 48 and the optimal learning rate for the optimizer\n",
      "is 0.001.\n",
      "\n"
     ]
    }
   ],
   "source": [
    "import keras_tuner as kt\n",
    "from tensorflow.keras.layers import Dropout\n",
    "from tensorflow import keras\n",
    "\n",
    "def model_builder(hp):\n",
    "    model = Sequential()\n",
    "\n",
    "    hp_units = hp.Int(\"units\", min_value=16, max_value=128, step=32)\n",
    "\n",
    "    hp_learning_rate = hp.Choice(\"learning_rate\", values=[1e-2, 1e-3, 1e-4])\n",
    "\n",
    "    activations = hp.Choice(\"activation\", values=[\"relu\", \"tanh\"])\n",
    "    final_activation = hp.Choice(\"activation\", values=[\"sigmoid\", \"softmax\"])\n",
    "\n",
    "    model.add(keras.Input(shape=(14,)))\n",
    "    model.add(Dropout(hp.Float(\"dropout\", min_value=0.0, max_value=0.5, step=0.1)))\n",
    "    model.add(Dense(units=hp_units, activation=activations))\n",
    "    model.add(Dropout(hp.Float(\"dropout\", min_value=0.0, max_value=0.5, step=0.1)))\n",
    "    model.add(Dense(units=hp_units, activation=activations))\n",
    "    model.add(Dropout(hp.Float(\"dropout\", min_value=0.0, max_value=0.5, step=0.1)))\n",
    "    model.add(Dense(2, activation=\"sigmoid\"))\n",
    "\n",
    "    model.compile(\n",
    "        optimizer=keras.optimizers.Adam(learning_rate=hp_learning_rate),\n",
    "        loss=\"categorical_crossentropy\",\n",
    "        metrics=[\"accuracy\"],\n",
    "    )\n",
    "\n",
    "    return model\n",
    "\n",
    "\n",
    "tuner = kt.Hyperband(\n",
    "    model_builder,\n",
    "    objective=\"val_accuracy\",\n",
    "    max_epochs=10,\n",
    "    factor=3,\n",
    "    directory=\"my_dir\",\n",
    "    project_name=\"final\",\n",
    ")\n",
    "\n",
    "print(tuner)\n",
    "\n",
    "stop_early = tf.keras.callbacks.EarlyStopping(monitor=\"val_loss\", patience=5)\n",
    "\n",
    "tuner.search(X_train, y_train, epochs=5,\n",
    "             validation_split=0.2, callbacks=[stop_early])\n",
    "\n",
    "best_hps = tuner.get_best_hyperparameters(num_trials=1)[0]\n",
    "model = tuner.hypermodel.build(best_hps)\n",
    "\n",
    "print(best_hps)\n",
    "\n",
    "print(\n",
    "    f\"\"\"\n",
    "The hyperparameter search is complete. The optimal number of units in the first densely-connected\n",
    "layer is {best_hps.get('units')} and the optimal learning rate for the optimizer\n",
    "is {best_hps.get('learning_rate')}.\n",
    "\"\"\"\n",
    ")"
   ]
  },
  {
   "cell_type": "code",
   "execution_count": 10,
   "metadata": {},
   "outputs": [
    {
     "name": "stdout",
     "output_type": "stream",
     "text": [
      "Epoch 1/50\n",
      "\u001b[1m1037/1037\u001b[0m \u001b[32m━━━━━━━━━━━━━━━━━━━━\u001b[0m\u001b[37m\u001b[0m \u001b[1m1s\u001b[0m 1ms/step - accuracy: 0.8429 - loss: 0.3435 - val_accuracy: 0.9002 - val_loss: 0.2323\n",
      "Epoch 2/50\n",
      "\u001b[1m1037/1037\u001b[0m \u001b[32m━━━━━━━━━━━━━━━━━━━━\u001b[0m\u001b[37m\u001b[0m \u001b[1m1s\u001b[0m 1ms/step - accuracy: 0.9070 - loss: 0.2208 - val_accuracy: 0.9032 - val_loss: 0.2246\n",
      "Epoch 3/50\n",
      "\u001b[1m1037/1037\u001b[0m \u001b[32m━━━━━━━━━━━━━━━━━━━━\u001b[0m\u001b[37m\u001b[0m \u001b[1m2s\u001b[0m 1ms/step - accuracy: 0.9084 - loss: 0.2174 - val_accuracy: 0.9054 - val_loss: 0.2216\n",
      "Epoch 4/50\n",
      "\u001b[1m1037/1037\u001b[0m \u001b[32m━━━━━━━━━━━━━━━━━━━━\u001b[0m\u001b[37m\u001b[0m \u001b[1m1s\u001b[0m 818us/step - accuracy: 0.9082 - loss: 0.2204 - val_accuracy: 0.9031 - val_loss: 0.2209\n",
      "Epoch 5/50\n",
      "\u001b[1m1037/1037\u001b[0m \u001b[32m━━━━━━━━━━━━━━━━━━━━\u001b[0m\u001b[37m\u001b[0m \u001b[1m1s\u001b[0m 801us/step - accuracy: 0.9108 - loss: 0.2120 - val_accuracy: 0.9052 - val_loss: 0.2204\n",
      "Epoch 6/50\n",
      "\u001b[1m1037/1037\u001b[0m \u001b[32m━━━━━━━━━━━━━━━━━━━━\u001b[0m\u001b[37m\u001b[0m \u001b[1m1s\u001b[0m 1ms/step - accuracy: 0.9103 - loss: 0.2113 - val_accuracy: 0.9047 - val_loss: 0.2234\n",
      "Epoch 7/50\n",
      "\u001b[1m1037/1037\u001b[0m \u001b[32m━━━━━━━━━━━━━━━━━━━━\u001b[0m\u001b[37m\u001b[0m \u001b[1m1s\u001b[0m 1ms/step - accuracy: 0.9131 - loss: 0.2056 - val_accuracy: 0.9042 - val_loss: 0.2217\n",
      "Epoch 8/50\n",
      "\u001b[1m1037/1037\u001b[0m \u001b[32m━━━━━━━━━━━━━━━━━━━━\u001b[0m\u001b[37m\u001b[0m \u001b[1m1s\u001b[0m 927us/step - accuracy: 0.9080 - loss: 0.2146 - val_accuracy: 0.9043 - val_loss: 0.2226\n",
      "Epoch 9/50\n",
      "\u001b[1m1037/1037\u001b[0m \u001b[32m━━━━━━━━━━━━━━━━━━━━\u001b[0m\u001b[37m\u001b[0m \u001b[1m1s\u001b[0m 1ms/step - accuracy: 0.9103 - loss: 0.2082 - val_accuracy: 0.9031 - val_loss: 0.2217\n",
      "Epoch 10/50\n",
      "\u001b[1m1037/1037\u001b[0m \u001b[32m━━━━━━━━━━━━━━━━━━━━\u001b[0m\u001b[37m\u001b[0m \u001b[1m1s\u001b[0m 842us/step - accuracy: 0.9091 - loss: 0.2118 - val_accuracy: 0.9034 - val_loss: 0.2241\n",
      "Epoch 11/50\n",
      "\u001b[1m1037/1037\u001b[0m \u001b[32m━━━━━━━━━━━━━━━━━━━━\u001b[0m\u001b[37m\u001b[0m \u001b[1m1s\u001b[0m 1ms/step - accuracy: 0.9098 - loss: 0.2114 - val_accuracy: 0.9041 - val_loss: 0.2237\n",
      "Epoch 12/50\n",
      "\u001b[1m1037/1037\u001b[0m \u001b[32m━━━━━━━━━━━━━━━━━━━━\u001b[0m\u001b[37m\u001b[0m \u001b[1m1s\u001b[0m 870us/step - accuracy: 0.9120 - loss: 0.2088 - val_accuracy: 0.9059 - val_loss: 0.2232\n",
      "Epoch 13/50\n",
      "\u001b[1m1037/1037\u001b[0m \u001b[32m━━━━━━━━━━━━━━━━━━━━\u001b[0m\u001b[37m\u001b[0m \u001b[1m1s\u001b[0m 1ms/step - accuracy: 0.9093 - loss: 0.2109 - val_accuracy: 0.9043 - val_loss: 0.2232\n",
      "Epoch 14/50\n",
      "\u001b[1m1037/1037\u001b[0m \u001b[32m━━━━━━━━━━━━━━━━━━━━\u001b[0m\u001b[37m\u001b[0m \u001b[1m1s\u001b[0m 816us/step - accuracy: 0.9144 - loss: 0.2025 - val_accuracy: 0.9032 - val_loss: 0.2214\n",
      "Epoch 15/50\n",
      "\u001b[1m1037/1037\u001b[0m \u001b[32m━━━━━━━━━━━━━━━━━━━━\u001b[0m\u001b[37m\u001b[0m \u001b[1m1s\u001b[0m 1ms/step - accuracy: 0.9159 - loss: 0.2002 - val_accuracy: 0.9053 - val_loss: 0.2213\n",
      "Epoch 16/50\n",
      "\u001b[1m1037/1037\u001b[0m \u001b[32m━━━━━━━━━━━━━━━━━━━━\u001b[0m\u001b[37m\u001b[0m \u001b[1m1s\u001b[0m 1ms/step - accuracy: 0.9125 - loss: 0.2036 - val_accuracy: 0.9046 - val_loss: 0.2233\n",
      "Epoch 17/50\n",
      "\u001b[1m1037/1037\u001b[0m \u001b[32m━━━━━━━━━━━━━━━━━━━━\u001b[0m\u001b[37m\u001b[0m \u001b[1m1s\u001b[0m 1ms/step - accuracy: 0.9103 - loss: 0.2085 - val_accuracy: 0.9059 - val_loss: 0.2219\n",
      "Epoch 18/50\n",
      "\u001b[1m1037/1037\u001b[0m \u001b[32m━━━━━━━━━━━━━━━━━━━━\u001b[0m\u001b[37m\u001b[0m \u001b[1m1s\u001b[0m 1ms/step - accuracy: 0.9176 - loss: 0.1990 - val_accuracy: 0.9051 - val_loss: 0.2241\n",
      "Epoch 19/50\n",
      "\u001b[1m1037/1037\u001b[0m \u001b[32m━━━━━━━━━━━━━━━━━━━━\u001b[0m\u001b[37m\u001b[0m \u001b[1m1s\u001b[0m 1ms/step - accuracy: 0.9142 - loss: 0.2004 - val_accuracy: 0.9047 - val_loss: 0.2290\n",
      "Epoch 20/50\n",
      "\u001b[1m1037/1037\u001b[0m \u001b[32m━━━━━━━━━━━━━━━━━━━━\u001b[0m\u001b[37m\u001b[0m \u001b[1m1s\u001b[0m 1ms/step - accuracy: 0.9146 - loss: 0.2057 - val_accuracy: 0.9046 - val_loss: 0.2247\n",
      "Epoch 21/50\n",
      "\u001b[1m1037/1037\u001b[0m \u001b[32m━━━━━━━━━━━━━━━━━━━━\u001b[0m\u001b[37m\u001b[0m \u001b[1m1s\u001b[0m 1ms/step - accuracy: 0.9137 - loss: 0.2020 - val_accuracy: 0.9036 - val_loss: 0.2289\n",
      "Epoch 22/50\n",
      "\u001b[1m1037/1037\u001b[0m \u001b[32m━━━━━━━━━━━━━━━━━━━━\u001b[0m\u001b[37m\u001b[0m \u001b[1m1s\u001b[0m 1ms/step - accuracy: 0.9181 - loss: 0.1978 - val_accuracy: 0.9046 - val_loss: 0.2247\n",
      "Epoch 23/50\n",
      "\u001b[1m1037/1037\u001b[0m \u001b[32m━━━━━━━━━━━━━━━━━━━━\u001b[0m\u001b[37m\u001b[0m \u001b[1m1s\u001b[0m 1ms/step - accuracy: 0.9175 - loss: 0.1928 - val_accuracy: 0.9051 - val_loss: 0.2260\n",
      "Epoch 24/50\n",
      "\u001b[1m1037/1037\u001b[0m \u001b[32m━━━━━━━━━━━━━━━━━━━━\u001b[0m\u001b[37m\u001b[0m \u001b[1m1s\u001b[0m 1ms/step - accuracy: 0.9136 - loss: 0.2022 - val_accuracy: 0.9022 - val_loss: 0.2284\n",
      "Epoch 25/50\n",
      "\u001b[1m1037/1037\u001b[0m \u001b[32m━━━━━━━━━━━━━━━━━━━━\u001b[0m\u001b[37m\u001b[0m \u001b[1m1s\u001b[0m 1ms/step - accuracy: 0.9179 - loss: 0.1931 - val_accuracy: 0.9034 - val_loss: 0.2272\n",
      "Epoch 26/50\n",
      "\u001b[1m1037/1037\u001b[0m \u001b[32m━━━━━━━━━━━━━━━━━━━━\u001b[0m\u001b[37m\u001b[0m \u001b[1m1s\u001b[0m 1ms/step - accuracy: 0.9205 - loss: 0.1901 - val_accuracy: 0.9042 - val_loss: 0.2278\n",
      "Epoch 27/50\n",
      "\u001b[1m1037/1037\u001b[0m \u001b[32m━━━━━━━━━━━━━━━━━━━━\u001b[0m\u001b[37m\u001b[0m \u001b[1m1s\u001b[0m 1ms/step - accuracy: 0.9165 - loss: 0.1982 - val_accuracy: 0.9016 - val_loss: 0.2328\n",
      "Epoch 28/50\n",
      "\u001b[1m1037/1037\u001b[0m \u001b[32m━━━━━━━━━━━━━━━━━━━━\u001b[0m\u001b[37m\u001b[0m \u001b[1m1s\u001b[0m 1ms/step - accuracy: 0.9167 - loss: 0.1932 - val_accuracy: 0.9008 - val_loss: 0.2294\n",
      "Epoch 29/50\n",
      "\u001b[1m1037/1037\u001b[0m \u001b[32m━━━━━━━━━━━━━━━━━━━━\u001b[0m\u001b[37m\u001b[0m \u001b[1m1s\u001b[0m 1ms/step - accuracy: 0.9132 - loss: 0.1996 - val_accuracy: 0.9032 - val_loss: 0.2301\n",
      "Epoch 30/50\n",
      "\u001b[1m1037/1037\u001b[0m \u001b[32m━━━━━━━━━━━━━━━━━━━━\u001b[0m\u001b[37m\u001b[0m \u001b[1m1s\u001b[0m 1ms/step - accuracy: 0.9155 - loss: 0.1989 - val_accuracy: 0.9013 - val_loss: 0.2327\n",
      "Epoch 31/50\n",
      "\u001b[1m1037/1037\u001b[0m \u001b[32m━━━━━━━━━━━━━━━━━━━━\u001b[0m\u001b[37m\u001b[0m \u001b[1m1s\u001b[0m 1ms/step - accuracy: 0.9206 - loss: 0.1909 - val_accuracy: 0.9037 - val_loss: 0.2298\n",
      "Epoch 32/50\n",
      "\u001b[1m1037/1037\u001b[0m \u001b[32m━━━━━━━━━━━━━━━━━━━━\u001b[0m\u001b[37m\u001b[0m \u001b[1m1s\u001b[0m 978us/step - accuracy: 0.9161 - loss: 0.1984 - val_accuracy: 0.9008 - val_loss: 0.2312\n",
      "Epoch 33/50\n",
      "\u001b[1m1037/1037\u001b[0m \u001b[32m━━━━━━━━━━━━━━━━━━━━\u001b[0m\u001b[37m\u001b[0m \u001b[1m1s\u001b[0m 1ms/step - accuracy: 0.9220 - loss: 0.1864 - val_accuracy: 0.9020 - val_loss: 0.2288\n",
      "Epoch 34/50\n",
      "\u001b[1m1037/1037\u001b[0m \u001b[32m━━━━━━━━━━━━━━━━━━━━\u001b[0m\u001b[37m\u001b[0m \u001b[1m1s\u001b[0m 1ms/step - accuracy: 0.9177 - loss: 0.1916 - val_accuracy: 0.8996 - val_loss: 0.2346\n",
      "Epoch 35/50\n",
      "\u001b[1m1037/1037\u001b[0m \u001b[32m━━━━━━━━━━━━━━━━━━━━\u001b[0m\u001b[37m\u001b[0m \u001b[1m1s\u001b[0m 1ms/step - accuracy: 0.9194 - loss: 0.1895 - val_accuracy: 0.9016 - val_loss: 0.2332\n",
      "Epoch 36/50\n",
      "\u001b[1m1037/1037\u001b[0m \u001b[32m━━━━━━━━━━━━━━━━━━━━\u001b[0m\u001b[37m\u001b[0m \u001b[1m1s\u001b[0m 1ms/step - accuracy: 0.9198 - loss: 0.1921 - val_accuracy: 0.9008 - val_loss: 0.2331\n",
      "Epoch 37/50\n",
      "\u001b[1m1037/1037\u001b[0m \u001b[32m━━━━━━━━━━━━━━━━━━━━\u001b[0m\u001b[37m\u001b[0m \u001b[1m1s\u001b[0m 1ms/step - accuracy: 0.9188 - loss: 0.1930 - val_accuracy: 0.9011 - val_loss: 0.2371\n",
      "Epoch 38/50\n",
      "\u001b[1m1037/1037\u001b[0m \u001b[32m━━━━━━━━━━━━━━━━━━━━\u001b[0m\u001b[37m\u001b[0m \u001b[1m1s\u001b[0m 1ms/step - accuracy: 0.9219 - loss: 0.1905 - val_accuracy: 0.9017 - val_loss: 0.2317\n",
      "Epoch 39/50\n",
      "\u001b[1m1037/1037\u001b[0m \u001b[32m━━━━━━━━━━━━━━━━━━━━\u001b[0m\u001b[37m\u001b[0m \u001b[1m1s\u001b[0m 1ms/step - accuracy: 0.9202 - loss: 0.1887 - val_accuracy: 0.9023 - val_loss: 0.2370\n",
      "Epoch 40/50\n",
      "\u001b[1m1037/1037\u001b[0m \u001b[32m━━━━━━━━━━━━━━━━━━━━\u001b[0m\u001b[37m\u001b[0m \u001b[1m2s\u001b[0m 1ms/step - accuracy: 0.9170 - loss: 0.1973 - val_accuracy: 0.9007 - val_loss: 0.2377\n",
      "Epoch 41/50\n",
      "\u001b[1m1037/1037\u001b[0m \u001b[32m━━━━━━━━━━━━━━━━━━━━\u001b[0m\u001b[37m\u001b[0m \u001b[1m1s\u001b[0m 793us/step - accuracy: 0.9180 - loss: 0.1930 - val_accuracy: 0.8987 - val_loss: 0.2413\n",
      "Epoch 42/50\n",
      "\u001b[1m1037/1037\u001b[0m \u001b[32m━━━━━━━━━━━━━━━━━━━━\u001b[0m\u001b[37m\u001b[0m \u001b[1m1s\u001b[0m 1ms/step - accuracy: 0.9228 - loss: 0.1804 - val_accuracy: 0.9018 - val_loss: 0.2332\n",
      "Epoch 43/50\n",
      "\u001b[1m1037/1037\u001b[0m \u001b[32m━━━━━━━━━━━━━━━━━━━━\u001b[0m\u001b[37m\u001b[0m \u001b[1m1s\u001b[0m 1ms/step - accuracy: 0.9208 - loss: 0.1892 - val_accuracy: 0.8997 - val_loss: 0.2417\n",
      "Epoch 44/50\n",
      "\u001b[1m1037/1037\u001b[0m \u001b[32m━━━━━━━━━━━━━━━━━━━━\u001b[0m\u001b[37m\u001b[0m \u001b[1m1s\u001b[0m 1ms/step - accuracy: 0.9220 - loss: 0.1851 - val_accuracy: 0.8997 - val_loss: 0.2344\n",
      "Epoch 45/50\n",
      "\u001b[1m1037/1037\u001b[0m \u001b[32m━━━━━━━━━━━━━━━━━━━━\u001b[0m\u001b[37m\u001b[0m \u001b[1m1s\u001b[0m 1ms/step - accuracy: 0.9187 - loss: 0.1912 - val_accuracy: 0.9014 - val_loss: 0.2430\n",
      "Epoch 46/50\n",
      "\u001b[1m1037/1037\u001b[0m \u001b[32m━━━━━━━━━━━━━━━━━━━━\u001b[0m\u001b[37m\u001b[0m \u001b[1m1s\u001b[0m 1ms/step - accuracy: 0.9208 - loss: 0.1883 - val_accuracy: 0.9019 - val_loss: 0.2342\n",
      "Epoch 47/50\n",
      "\u001b[1m1037/1037\u001b[0m \u001b[32m━━━━━━━━━━━━━━━━━━━━\u001b[0m\u001b[37m\u001b[0m \u001b[1m1s\u001b[0m 1ms/step - accuracy: 0.9181 - loss: 0.1878 - val_accuracy: 0.9012 - val_loss: 0.2411\n",
      "Epoch 48/50\n",
      "\u001b[1m1037/1037\u001b[0m \u001b[32m━━━━━━━━━━━━━━━━━━━━\u001b[0m\u001b[37m\u001b[0m \u001b[1m1s\u001b[0m 1ms/step - accuracy: 0.9186 - loss: 0.1886 - val_accuracy: 0.8988 - val_loss: 0.2388\n",
      "Epoch 49/50\n",
      "\u001b[1m1037/1037\u001b[0m \u001b[32m━━━━━━━━━━━━━━━━━━━━\u001b[0m\u001b[37m\u001b[0m \u001b[1m1s\u001b[0m 1ms/step - accuracy: 0.9198 - loss: 0.1825 - val_accuracy: 0.8997 - val_loss: 0.2408\n",
      "Epoch 50/50\n",
      "\u001b[1m1037/1037\u001b[0m \u001b[32m━━━━━━━━━━━━━━━━━━━━\u001b[0m\u001b[37m\u001b[0m \u001b[1m1s\u001b[0m 1ms/step - accuracy: 0.9218 - loss: 0.1830 - val_accuracy: 0.9008 - val_loss: 0.2391\n"
     ]
    }
   ],
   "source": [
    "from IPython.core.interactiveshell import InteractiveShell\n",
    "\n",
    "InteractiveShell.ast_node_interactivity = \"all\"\n",
    "# Build the model with the optimal hyperparameters and train it on the data for 50 epochs\n",
    "# results = model.fit(X_train, y_train, epochs=50, validation_split=0.2)\n",
    "results = model.fit(X_train, y_train, epochs=50, validation_split=0.2)\n"
   ]
  },
  {
   "cell_type": "code",
   "execution_count": 11,
   "metadata": {},
   "outputs": [
    {
     "name": "stdout",
     "output_type": "stream",
     "text": [
      "Best epoch: 12\n",
      "Best Neural Network accuracy: 89.86%\n",
      "\u001b[1m324/324\u001b[0m \u001b[32m━━━━━━━━━━━━━━━━━━━━\u001b[0m\u001b[37m\u001b[0m \u001b[1m0s\u001b[0m 413us/step\n",
      "Best Neural Network classification report:\n",
      "              precision    recall  f1-score   support\n",
      "\n",
      "           0       0.87      0.87      0.87      4110\n",
      "           1       0.91      0.92      0.92      6251\n",
      "\n",
      "    accuracy                           0.90     10361\n",
      "   macro avg       0.89      0.89      0.89     10361\n",
      "weighted avg       0.90      0.90      0.90     10361\n",
      "\n"
     ]
    },
    {
     "data": {
      "text/plain": [
       "<AxesSubplot:>"
      ]
     },
     "execution_count": 11,
     "metadata": {},
     "output_type": "execute_result"
    },
    {
     "data": {
      "text/plain": [
       "Text(0.5, 23.52222222222222, 'Predicted')"
      ]
     },
     "execution_count": 11,
     "metadata": {},
     "output_type": "execute_result"
    },
    {
     "data": {
      "text/plain": [
       "Text(50.722222222222214, 0.5, 'Actual')"
      ]
     },
     "execution_count": 11,
     "metadata": {},
     "output_type": "execute_result"
    },
    {
     "data": {
      "text/plain": [
       "Text(0.5, 1.0, 'Confusion Matrix')"
      ]
     },
     "execution_count": 11,
     "metadata": {},
     "output_type": "execute_result"
    },
    {
     "data": {
      "image/png": "[encoded data removed]",
      "text/plain": [
       "<Figure size 640x480 with 2 Axes>"
      ]
     },
     "metadata": {},
     "output_type": "display_data"
    }
   ],
   "source": [
    "import numpy as np\n",
    "from sklearn.metrics import accuracy_score, classification_report, confusion_matrix\n",
    "import seaborn as sns\n",
    "import matplotlib.pyplot as plt\n",
    "\n",
    "val_acc_per_epoch = results.history[\"val_accuracy\"]\n",
    "best_epoch = val_acc_per_epoch.index(max(val_acc_per_epoch)) + 1\n",
    "print(\"Best epoch: %d\" % (best_epoch,))\n",
    "\n",
    "# Evaluate the model on the test set\n",
    "loss, accuracy = model.evaluate(X_test, y_test, verbose=0)\n",
    "print(f\"Best Neural Network accuracy: {accuracy * 100:.2f}%\")\n",
    "\n",
    "# Make predictions\n",
    "y_pred_proba = model.predict(X_test)\n",
    "y_pred = np.argmax(y_pred_proba, axis=1)\n",
    "y_test_true = np.argmax(y_test, axis=1)\n",
    "\n",
    "# Evaluate the model\n",
    "print('Best Neural Network classification report:')\n",
    "print(classification_report(y_test_true, y_pred))\n",
    "\n",
    "# Confusion matrix\n",
    "conf_matrix_nn = confusion_matrix(y_test_true, y_pred)\n",
    "sns.heatmap(conf_matrix_nn, annot=True, fmt='d', cmap='Blues')\n",
    "plt.xlabel('Predicted')\n",
    "plt.ylabel('Actual')\n",
    "plt.title('Confusion Matrix')\n",
    "plt.show()\n"
   ]
  },
  {
   "cell_type": "code",
   "execution_count": 12,
   "metadata": {},
   "outputs": [
    {
     "data": {
      "text/plain": [
       "[<matplotlib.lines.Line2D at 0x7fd8a5045a50>]"
      ]
     },
     "execution_count": 12,
     "metadata": {},
     "output_type": "execute_result"
    },
    {
     "data": {
      "text/plain": [
       "[<matplotlib.lines.Line2D at 0x7fd8a5045c00>]"
      ]
     },
     "execution_count": 12,
     "metadata": {},
     "output_type": "execute_result"
    },
    {
     "data": {
      "text/plain": [
       "Text(0.5, 1.0, 'Model accuracy')"
      ]
     },
     "execution_count": 12,
     "metadata": {},
     "output_type": "execute_result"
    },
    {
     "data": {
      "text/plain": [
       "Text(0, 0.5, 'Accuracy')"
      ]
     },
     "execution_count": 12,
     "metadata": {},
     "output_type": "execute_result"
    },
    {
     "data": {
      "text/plain": [
       "Text(0.5, 0, 'Epoch')"
      ]
     },
     "execution_count": 12,
     "metadata": {},
     "output_type": "execute_result"
    },
    {
     "data": {
      "text/plain": [
       "<matplotlib.legend.Legend at 0x7fd8a501f4f0>"
      ]
     },
     "execution_count": 12,
     "metadata": {},
     "output_type": "execute_result"
    },
    {
     "data": {
      "image/png": "[encoded data removed]",
      "text/plain": [
       "<Figure size 640x480 with 1 Axes>"
      ]
     },
     "metadata": {},
     "output_type": "display_data"
    },
    {
     "data": {
      "text/plain": [
       "[<matplotlib.lines.Line2D at 0x7fd8a4c06110>]"
      ]
     },
     "execution_count": 12,
     "metadata": {},
     "output_type": "execute_result"
    },
    {
     "data": {
      "text/plain": [
       "[<matplotlib.lines.Line2D at 0x7fd8a4c063b0>]"
      ]
     },
     "execution_count": 12,
     "metadata": {},
     "output_type": "execute_result"
    },
    {
     "data": {
      "text/plain": [
       "Text(0.5, 1.0, 'Model loss')"
      ]
     },
     "execution_count": 12,
     "metadata": {},
     "output_type": "execute_result"
    },
    {
     "data": {
      "text/plain": [
       "Text(0, 0.5, 'Loss')"
      ]
     },
     "execution_count": 12,
     "metadata": {},
     "output_type": "execute_result"
    },
    {
     "data": {
      "text/plain": [
       "Text(0.5, 0, 'Epoch')"
      ]
     },
     "execution_count": 12,
     "metadata": {},
     "output_type": "execute_result"
    },
    {
     "data": {
      "text/plain": [
       "<matplotlib.legend.Legend at 0x7fd8a4c05f60>"
      ]
     },
     "execution_count": 12,
     "metadata": {},
     "output_type": "execute_result"
    },
    {
     "data": {
      "image/png": "[encoded data removed]",
      "text/plain": [
       "<Figure size 640x480 with 1 Axes>"
      ]
     },
     "metadata": {},
     "output_type": "display_data"
    }
   ],
   "source": [
    "# history = model.fit(X_train, y_train, epochs=70, validation_split=0.2)\n",
    "plt.plot(results.history['accuracy'])\n",
    "plt.plot(results.history['val_accuracy'])\n",
    "plt.title('Model accuracy')\n",
    "plt.ylabel('Accuracy')\n",
    "plt.xlabel('Epoch')\n",
    "plt.legend(['Train', 'Validation'], loc='upper left')\n",
    "plt.show()\n",
    "\n",
    "plt.plot(results.history['loss'])\n",
    "plt.plot(results.history['val_loss'])\n",
    "plt.title('Model loss')\n",
    "plt.ylabel('Loss')\n",
    "plt.xlabel('Epoch')\n",
    "plt.legend(['Train', 'Validation'], loc='upper left')\n",
    "plt.show()"
   ]
  },
  {
   "cell_type": "code",
   "execution_count": 18,
   "metadata": {},
   "outputs": [
    {
     "data": {
      "text/plain": [
       "4275"
      ]
     },
     "execution_count": 18,
     "metadata": {},
     "output_type": "execute_result"
    },
    {
     "name": "stdout",
     "output_type": "stream",
     "text": [
      "Saved model to disk\n"
     ]
    }
   ],
   "source": [
    "json_model = model.to_json()\n",
    "with open(\"tuned_nn.json\", \"w\") as json_file:\n",
    "    json_file.write(json_model)\n",
    "# serialize weights to HDF5\n",
    "model.save_weights(\"tuned.weights.h5\")\n",
    "print(\"Saved model to disk\")"
   ]
  },
  {
   "cell_type": "code",
   "execution_count": 25,
   "metadata": {},
   "outputs": [
    {
     "name": "stdout",
     "output_type": "stream",
     "text": [
      "Loaded model from disk\n"
     ]
    }
   ],
   "source": [
    "from tensorflow.keras.models import model_from_json\n",
    "\n",
    "# load json and create model\n",
    "json_file = open(\"tuned_nn.json\", \"r\")\n",
    "loaded_model_json = json_file.read()\n",
    "json_file.close()\n",
    "loaded_model = model_from_json(loaded_model_json)\n",
    "# load weights into new model\n",
    "loaded_model.load_weights(\"tuned.weights.h5\")\n",
    "print(\"Loaded model from disk\")\n",
    "\n",
    "# evaluate loaded model on test data\n",
    "loaded_model.compile(\n",
    "    loss=\"categorical_crossentropy\", optimizer=\"adam\", metrics=[\"accuracy\"]\n",
    ")"
   ]
  }
 ],
 "metadata": {
  "kernelspec": {
   "display_name": "Python 3",
   "language": "python",
   "name": "python3"
  },
  "language_info": {
   "codemirror_mode": {
    "name": "ipython",
    "version": 3
   },
   "file_extension": ".py",
   "mimetype": "text/x-python",
   "name": "python",
   "nbconvert_exporter": "python",
   "pygments_lexer": "ipython3",
   "version": "3.10.12"
  }
 },
 "nbformat": 4,
 "nbformat_minor": 2
}
