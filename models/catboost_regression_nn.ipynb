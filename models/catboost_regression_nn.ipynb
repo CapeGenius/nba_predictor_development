{
 "cells": [
  {
   "cell_type": "code",
   "execution_count": 1,
   "metadata": {},
   "outputs": [],
   "source": [
    "%load_ext autoreload\n",
    "%autoreload 2"
   ]
  },
  {
   "cell_type": "markdown",
   "metadata": {},
   "source": [
    "# Data Preparation"
   ]
  },
  {
   "cell_type": "code",
   "execution_count": 2,
   "metadata": {},
   "outputs": [
    {
     "name": "stderr",
     "output_type": "stream",
     "text": [
      "2024-07-21 18:30:46.659639: I tensorflow/core/util/port.cc:153] oneDNN custom operations are on. You may see slightly different numerical results due to floating-point round-off errors from different computation orders. To turn them off, set the environment variable `TF_ENABLE_ONEDNN_OPTS=0`.\n",
      "2024-07-21 18:30:46.668135: E external/local_xla/xla/stream_executor/cuda/cuda_fft.cc:485] Unable to register cuFFT factory: Attempting to register factory for plugin cuFFT when one has already been registered\n",
      "2024-07-21 18:30:46.677288: E external/local_xla/xla/stream_executor/cuda/cuda_dnn.cc:8454] Unable to register cuDNN factory: Attempting to register factory for plugin cuDNN when one has already been registered\n",
      "2024-07-21 18:30:46.680083: E external/local_xla/xla/stream_executor/cuda/cuda_blas.cc:1452] Unable to register cuBLAS factory: Attempting to register factory for plugin cuBLAS when one has already been registered\n",
      "2024-07-21 18:30:46.687251: I tensorflow/core/platform/cpu_feature_guard.cc:210] This TensorFlow binary is optimized to use available CPU instructions in performance-critical operations.\n",
      "To enable the following instructions: AVX2 AVX_VNNI FMA, in other operations, rebuild TensorFlow with the appropriate compiler flags.\n",
      "2024-07-21 18:30:47.142501: W tensorflow/compiler/tf2tensorrt/utils/py_utils.cc:38] TF-TRT Warning: Could not find TensorRT\n"
     ]
    },
    {
     "name": "stdout",
     "output_type": "stream",
     "text": [
      "Loaded model from disk\n"
     ]
    },
    {
     "name": "stderr",
     "output_type": "stream",
     "text": [
      "2024-07-21 18:30:47.408200: E external/local_xla/xla/stream_executor/cuda/cuda_driver.cc:266] failed call to cuInit: CUDA_ERROR_UNKNOWN: unknown error\n",
      "2024-07-21 18:30:47.408214: I external/local_xla/xla/stream_executor/cuda/cuda_diagnostics.cc:135] retrieving CUDA diagnostic information for host: rohanbendapudi-Precision-3581\n",
      "2024-07-21 18:30:47.408216: I external/local_xla/xla/stream_executor/cuda/cuda_diagnostics.cc:142] hostname: rohanbendapudi-Precision-3581\n",
      "2024-07-21 18:30:47.408275: I external/local_xla/xla/stream_executor/cuda/cuda_diagnostics.cc:166] libcuda reported version is: 535.183.1\n",
      "2024-07-21 18:30:47.408283: I external/local_xla/xla/stream_executor/cuda/cuda_diagnostics.cc:170] kernel reported version is: 535.183.1\n",
      "2024-07-21 18:30:47.408285: I external/local_xla/xla/stream_executor/cuda/cuda_diagnostics.cc:249] kernel version seems to match DSO: 535.183.1\n",
      "/tmp/ipykernel_284158/3801391833.py:51: FutureWarning: Downcasting behavior in `replace` is deprecated and will be removed in a future version. To retain the old behavior, explicitly call `result.infer_objects(copy=False)`. To opt-in to the future behavior, set `pd.set_option('future.no_silent_downcasting', True)`\n",
      "  y_final_true.replace(\" \",0,inplace=True)\n"
     ]
    }
   ],
   "source": [
    "import pandas as pd\n",
    "\n",
    "all_games_df = pd.read_csv(\"data/all_games.csv\")\n",
    "all_games_df.drop(\"Unnamed: 0\", axis=1,inplace=True)\n",
    "# Data Preparation\n",
    "from api_helpers.game_stats_helpers import load_past_n_games\n",
    "columns = [\"FG_PCT\", \"FG3_PCT\", \"FTM\", \"OREB\", \"DREB\", \"REB\", \"AST\"]\n",
    "columns_a = [column + \"_A\" for column in columns]\n",
    "columns_b = [column + \"_B\" for column in columns]\n",
    "\n",
    "n_games_df = load_past_n_games(all_games_df=all_games_df, columns=columns)\n",
    "n_games_df = n_games_df.dropna()\n",
    "merged_data = pd.merge(\n",
    "    all_games_df[columns_a + columns_b], n_games_df, left_index=True, right_index=True\n",
    ")\n",
    "\n",
    "\n",
    "columns_x = columns_a + columns_b\n",
    "columns_x = [column + \"_x\" for column in columns_x]\n",
    "X = merged_data[columns_x]\n",
    "columns_y = columns_a + columns_b\n",
    "columns_y = [column + \"_y\" for column in columns_y]\n",
    "y = merged_data[columns_y]\n",
    "## Test Train Split\n",
    "from sklearn.model_selection import train_test_split\n",
    "import numpy as np\n",
    "\n",
    "\n",
    "X_train, X_test, y_train, y_test = train_test_split(X, y, test_size=0.2, random_state=3)\n",
    "# Preloading Neural Network\n",
    "# Predicting Game Outcome\n",
    "from tensorflow.keras.models import model_from_json\n",
    "\n",
    "# load json and create model\n",
    "json_file = open(\"tuned_nn.json\", \"r\")\n",
    "loaded_model_json = json_file.read()\n",
    "json_file.close()\n",
    "loaded_model = model_from_json(loaded_model_json)\n",
    "# load weights into new model\n",
    "loaded_model.load_weights(\"tuned.weights.h5\")\n",
    "print(\"Loaded model from disk\")\n",
    "\n",
    "# evaluate loaded model on test data\n",
    "loaded_model.compile(\n",
    "    loss=\"categorical_crossentropy\", optimizer=\"adam\", metrics=[\"accuracy\"]\n",
    ")\n",
    "\n",
    "y_final_true = all_games_df[\"WL_A\"].loc[y_test.index].to_frame()\n",
    "y_final_true.replace(\"W\",1,inplace=True)\n",
    "y_final_true.replace(\"L\",0,inplace=True)\n",
    "y_final_true.replace(\" \",0,inplace=True)\n",
    "y_final_true = list(y_final_true[\"WL_A\"])"
   ]
  },
  {
   "cell_type": "code",
   "execution_count": 3,
   "metadata": {},
   "outputs": [
    {
     "name": "stdout",
     "output_type": "stream",
     "text": [
      "\u001b[1m307/307\u001b[0m \u001b[32m━━━━━━━━━━━━━━━━━━━━\u001b[0m\u001b[37m\u001b[0m \u001b[1m0s\u001b[0m 580us/step\n",
      "<class 'int'>\n",
      "Best Neural Network classification report:\n",
      "              precision    recall  f1-score   support\n",
      "\n",
      "           0       0.93      0.63      0.75      3922\n",
      "           1       0.80      0.97      0.87      5900\n",
      "\n",
      "    accuracy                           0.83      9822\n",
      "   macro avg       0.86      0.80      0.81      9822\n",
      "weighted avg       0.85      0.83      0.82      9822\n",
      "\n"
     ]
    },
    {
     "data": {
      "image/png": "[encoded data removed]",
      "text/plain": [
       "<Figure size 640x480 with 2 Axes>"
      ]
     },
     "metadata": {},
     "output_type": "display_data"
    }
   ],
   "source": [
    "from catboost import CatBoostRegressor\n",
    "import xgboost as xgb\n",
    "from sklearn.metrics import accuracy_score, classification_report, confusion_matrix\n",
    "import matplotlib.pyplot as plt\n",
    "import seaborn as sns\n",
    "import joblib\n",
    "\n",
    "# create an xgboost regression model\n",
    "\n",
    "param = {'loss_function': 'MultiRMSE',\"iterations\": 500, \"learning_rate\": 0.1, \"depth\": 8,\"verbose\":False}\n",
    "\n",
    "model = CatBoostRegressor(**param)\n",
    "model.fit(X_train, y_train)\n",
    "y_pred = model.predict(X_test)\n",
    "\n",
    "scaler = joblib.load(\"scaler.bin\")\n",
    "\n",
    "y_final_pred = loaded_model.predict(scaler.transform(y_pred))\n",
    "y_pred_true = np.argmax(y_final_pred, axis=1)\n",
    "\n",
    "y_pred_true = y_pred_true.tolist()\n",
    "print(type(y_pred_true[0]))\n",
    "\n",
    "\n",
    "# Evaluate the model\n",
    "print(\"Best Neural Network classification report:\")\n",
    "print(classification_report(y_final_true, list(y_pred_true)))\n",
    "\n",
    "# Confusion matrix\n",
    "conf_matrix_nn = confusion_matrix(y_final_true, list(y_pred_true))\n",
    "sns.heatmap(conf_matrix_nn, annot=True, fmt=\"d\", cmap=\"Blues\")\n",
    "plt.xlabel(\"Predicted\")\n",
    "plt.ylabel(\"Actual\")\n",
    "plt.title(\"Confusion Matrix\")\n",
    "plt.show()"
   ]
  }
 ],
 "metadata": {
  "kernelspec": {
   "display_name": "Python 3",
   "language": "python",
   "name": "python3"
  },
  "language_info": {
   "codemirror_mode": {
    "name": "ipython",
    "version": 3
   },
   "file_extension": ".py",
   "mimetype": "text/x-python",
   "name": "python",
   "nbconvert_exporter": "python",
   "pygments_lexer": "ipython3",
   "version": "3.10.12"
  }
 },
 "nbformat": 4,
 "nbformat_minor": 2
}
