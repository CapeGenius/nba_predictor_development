{
 "cells": [
  {
   "cell_type": "markdown",
   "metadata": {},
   "source": [
    "# Data Preparation"
   ]
  },
  {
   "cell_type": "code",
   "execution_count": 1,
   "metadata": {},
   "outputs": [],
   "source": [
    "from nba_api.stats.endpoints import leaguegamefinder\n",
    "import pandas as pd\n",
    "import numpy as np\n",
    "import matplotlib.pyplot as plt\n",
    "\n",
    "# Example: Fetching all games for a particular season\n",
    "gamefinder = leaguegamefinder.LeagueGameFinder(season_nullable='2022-23')\n",
    "games = gamefinder.get_data_frames()[0]\n",
    "game_data = games[['SEASON_ID', 'TEAM_ID', 'TEAM_ABBREVIATION', 'GAME_ID', 'GAME_DATE', 'MATCHUP', 'WL']].copy(deep=True)\n",
    "home_team_data = game_data[game_data['MATCHUP'].str.contains('vs.')].copy(deep=True)\n",
    "away_team_data = game_data[game_data['MATCHUP'].str.contains('@')].copy(deep=True)\n",
    "games\n",
    "\n",
    "home_team_data.rename(columns={'TEAM_ABBREVIATION': 'H_TEAM', \"WL\" : \"H_TEAM_WIN\"}, inplace=True)\n",
    "\n",
    "# encode win/loss as 1/0\n",
    "# home_team_data['H_TEAM_WIN'] = home_team_data['H_TEAM_WIN'].replace('W', 1)\n",
    "# home_team_data['H_TEAM_WIN'] = home_team_data['H_TEAM_WIN'].replace('L', 0)\n",
    "\n",
    "home_team_data\n",
    "\n",
    "away_team_data.rename(columns={'TEAM_ABBREVIATION': 'A_TEAM'}, inplace=True)\n",
    "away_team_data.drop(columns=['WL'], inplace=True)\n",
    "away_team_data\n",
    "\n",
    "from nba_api.stats.endpoints import leaguegamelog\n",
    "\n",
    "def past_games_record(row):\n",
    "    past_games = games[(games['TEAM_ABBREVIATION'] == row['H_TEAM']) & (games['GAME_DATE'] < row['GAME_DATE'])]\n",
    "    try:\n",
    "        season_w = past_games['WL'].value_counts()['W']\n",
    "    except KeyError:\n",
    "        season_w = 0\n",
    "    \n",
    "    try:\n",
    "        last10_w = past_games['WL'].head(10).value_counts()['W']\n",
    "    except KeyError:\n",
    "        last10_w = 0\n",
    "\n",
    "    try:\n",
    "        last5_w = past_games['WL'].head(5).value_counts()['W']\n",
    "    except KeyError:    \n",
    "        last5_w = 0\n",
    "    \n",
    "    opp_team = row['MATCHUP'].split(' ')[2]\n",
    "    past_mathups = past_games['MATCHUP'].str.contains(opp_team)\n",
    "    try:\n",
    "        season_w_opp = past_games[past_mathups]['WL'].value_counts()['W']\n",
    "    except KeyError:\n",
    "        season_w_opp = 0\n",
    "\n",
    "    try:\n",
    "        last10_w_opp = past_games[past_mathups]['WL'].head(10).value_counts()['W']\n",
    "    except KeyError:\n",
    "        last10_w_opp = 0\n",
    "\n",
    "    try:\n",
    "        last5 = past_games[past_mathups]['WL'].head(5).value_counts()['W']\n",
    "    except KeyError:\n",
    "        last5 = 0\n",
    "\n",
    "    return season_w, last10_w, last5_w, season_w_opp, last10_w_opp, last5\n",
    "    return 0, 0, 0, 0, 0, 0\n",
    "\n",
    "def season_w(row):\n",
    "    past_games = games[(games['TEAM_ABBREVIATION'] == row['H_TEAM']) & (games['GAME_DATE'] < row['GAME_DATE'])]\n",
    "    try:\n",
    "        season_w = past_games['WL'].value_counts()['W']\n",
    "        # season_l = past_games['WL'].value_counts()['L']\n",
    "        # season_w = season_w / (season_w + season_l)\n",
    "    except KeyError:\n",
    "        season_w = 0\n",
    "    return season_w\n",
    "\n",
    "def last10_w(row):\n",
    "    past_games = games[(games['TEAM_ABBREVIATION'] == row['H_TEAM']) & (games['GAME_DATE'] < row['GAME_DATE'])]\n",
    "    try:\n",
    "        last10_w = past_games['WL'].head(10).value_counts()['W']\n",
    "        # last10_l = past_games['WL'].head(10).value_counts()['L']\n",
    "        # last10_w = last10_w / (last10_w + last10_l)\n",
    "    except KeyError:\n",
    "        last10_w = 0\n",
    "    return last10_w\n",
    "\n",
    "def last5_w(row):\n",
    "    past_games = games[(games['TEAM_ABBREVIATION'] == row['H_TEAM']) & (games['GAME_DATE'] < row['GAME_DATE'])]\n",
    "    try:\n",
    "        last5_w = past_games['WL'].head(5).value_counts()['W']\n",
    "        # last5_l = past_games['WL'].head(5).value_counts()['L']\n",
    "        # last5_w = last5_w / (last5_w + last5_l)\n",
    "    except KeyError:\n",
    "        last5_w = 0\n",
    "    return last5_w\n",
    "\n",
    "def season_w_opp(row):\n",
    "    past_games = games[(games['TEAM_ABBREVIATION'] == row['H_TEAM']) & (games['GAME_DATE'] < row['GAME_DATE'])]\n",
    "    opp_team = row['MATCHUP'].split(' ')[2]\n",
    "    past_mathups = past_games['MATCHUP'].str.contains(opp_team)\n",
    "    try:\n",
    "        season_w_opp = past_games[past_mathups]['WL'].value_counts()['W']\n",
    "        # season_l_opp = past_games[past_mathups]['WL'].value_counts()['L']\n",
    "        # season_w_opp = season_w_opp / (season_w_opp + season_l_opp)\n",
    "    except KeyError:\n",
    "        season_w_opp = 0\n",
    "    return season_w_opp\n",
    "\n",
    "def last10_w_opp(row):\n",
    "    past_games = games[(games['TEAM_ABBREVIATION'] == row['H_TEAM']) & (games['GAME_DATE'] < row['GAME_DATE'])]\n",
    "    opp_team = row['MATCHUP'].split(' ')[2]\n",
    "    past_mathups = past_games['MATCHUP'].str.contains(opp_team)\n",
    "    try:\n",
    "        last10_w_opp = past_games[past_mathups]['WL'].head(10).value_counts()['W']\n",
    "        # last10_l_opp = past_games[past_mathups]['WL'].head(10).value_counts()['L']\n",
    "        # last10_w_opp = last10_w_opp / (last10_w_opp + last10_l_opp)\n",
    "    except KeyError:\n",
    "        last10_w_opp = 0\n",
    "    return last10_w_opp\n",
    "\n",
    "def last5_w_opp(row):\n",
    "    past_games = games[(games['TEAM_ABBREVIATION'] == row['H_TEAM']) & (games['GAME_DATE'] < row['GAME_DATE'])]\n",
    "    opp_team = row['MATCHUP'].split(' ')[2]\n",
    "    past_mathups = past_games['MATCHUP'].str.contains(opp_team)\n",
    "    try:\n",
    "        last5_w_opp = past_games[past_mathups]['WL'].head(5).value_counts()['W']\n",
    "        # last5_l_opp = past_games[past_mathups]['WL'].head(5).value_counts()['L']\n",
    "        # last5_w_opp = last5_w_opp / (last5_w_opp + last5_l_opp)\n",
    "    except KeyError:\n",
    "        last5_w_opp = 0\n",
    "    return last5_w_opp\n",
    "\n",
    "\n",
    "\n",
    "home_team_data[\"SEASON_W\"] = home_team_data.apply(season_w, axis=1)\n",
    "home_team_data[\"LAST10_W\"] = home_team_data.apply(last10_w, axis=1)\n",
    "home_team_data[\"LAST5_W\"] = home_team_data.apply(last5_w, axis=1)\n",
    "home_team_data[\"SEASON_W_OPP\"] = home_team_data.apply(season_w_opp, axis=1)\n",
    "home_team_data[\"LAST10_W_OPP\"] = home_team_data.apply(last10_w_opp, axis=1)\n",
    "home_team_data[\"LAST5_W_OPP\"] = home_team_data.apply(last5_w_opp, axis=1)"
   ]
  },
  {
   "cell_type": "code",
   "execution_count": 2,
   "metadata": {},
   "outputs": [
    {
     "name": "stderr",
     "output_type": "stream",
     "text": [
      "/tmp/ipykernel_36632/2752628376.py:1: FutureWarning: A value is trying to be set on a copy of a DataFrame or Series through chained assignment using an inplace method.\n",
      "The behavior will change in pandas 3.0. This inplace method will never work because the intermediate object on which we are setting values always behaves as a copy.\n",
      "\n",
      "For example, when doing 'df[col].method(value, inplace=True)', try using 'df.method({col: value}, inplace=True)' or df[col] = df[col].method(value) instead, to perform the operation inplace on the original object.\n",
      "\n",
      "\n",
      "  home_team_data[\"H_TEAM_WIN\"].replace('L',0,inplace=True)\n",
      "/tmp/ipykernel_36632/2752628376.py:2: FutureWarning: A value is trying to be set on a copy of a DataFrame or Series through chained assignment using an inplace method.\n",
      "The behavior will change in pandas 3.0. This inplace method will never work because the intermediate object on which we are setting values always behaves as a copy.\n",
      "\n",
      "For example, when doing 'df[col].method(value, inplace=True)', try using 'df.method({col: value}, inplace=True)' or df[col] = df[col].method(value) instead, to perform the operation inplace on the original object.\n",
      "\n",
      "\n",
      "  home_team_data[\"H_TEAM_WIN\"].replace(\"W\", 1, inplace=True)\n",
      "/tmp/ipykernel_36632/2752628376.py:2: FutureWarning: Downcasting behavior in `replace` is deprecated and will be removed in a future version. To retain the old behavior, explicitly call `result.infer_objects(copy=False)`. To opt-in to the future behavior, set `pd.set_option('future.no_silent_downcasting', True)`\n",
      "  home_team_data[\"H_TEAM_WIN\"].replace(\"W\", 1, inplace=True)\n"
     ]
    }
   ],
   "source": [
    "home_team_data[\"H_TEAM_WIN\"].replace('L',0,inplace=True)\n",
    "home_team_data[\"H_TEAM_WIN\"].replace(\"W\", 1, inplace=True)\n",
    "home_team_data = home_team_data.reset_index()\n",
    "del home_team_data[\"index\"]"
   ]
  },
  {
   "cell_type": "code",
   "execution_count": 3,
   "metadata": {},
   "outputs": [],
   "source": [
    "import seaborn as sns\n",
    "import matplotlib.pyplot as plt\n",
    "\n",
    "selected_features = [\"SEASON_W\",\"LAST10_W\",\"LAST5_W\",\"SEASON_W_OPP\",\"LAST10_W_OPP\",\"LAST5_W_OPP\"]\n",
    "# using Recursive Feature Elimination (RFE) to get best features\n",
    "# Apply RFE\n",
    "\n"
   ]
  },
  {
   "cell_type": "code",
   "execution_count": 4,
   "metadata": {},
   "outputs": [
    {
     "ename": "IndexError",
     "evalue": "boolean index did not match indexed array along dimension 0; dimension is 13 but corresponding boolean dimension is 6",
     "output_type": "error",
     "traceback": [
      "\u001b[0;31m---------------------------------------------------------------------------\u001b[0m",
      "\u001b[0;31mIndexError\u001b[0m                                Traceback (most recent call last)",
      "Cell \u001b[0;32mIn[4], line 8\u001b[0m\n\u001b[1;32m      6\u001b[0m selector \u001b[38;5;241m=\u001b[39m RFE(estimator, n_features_to_select\u001b[38;5;241m=\u001b[39m\u001b[38;5;241m4\u001b[39m, step\u001b[38;5;241m=\u001b[39m\u001b[38;5;241m1\u001b[39m)\n\u001b[1;32m      7\u001b[0m selector \u001b[38;5;241m=\u001b[39m selector\u001b[38;5;241m.\u001b[39mfit(home_team_data[selected_features], home_team_data[\u001b[38;5;124m\"\u001b[39m\u001b[38;5;124mH_TEAM_WIN\u001b[39m\u001b[38;5;124m\"\u001b[39m])\n\u001b[0;32m----> 8\u001b[0m rfe_selected_features \u001b[38;5;241m=\u001b[39m \u001b[43mhome_team_data\u001b[49m\u001b[38;5;241;43m.\u001b[39;49m\u001b[43mcolumns\u001b[49m\u001b[43m[\u001b[49m\u001b[43mselector\u001b[49m\u001b[38;5;241;43m.\u001b[39;49m\u001b[43msupport_\u001b[49m\u001b[43m]\u001b[49m\n\u001b[1;32m      9\u001b[0m rfe_selected_features\n",
      "File \u001b[0;32m~/.local/lib/python3.10/site-packages/pandas/core/indexes/base.py:5416\u001b[0m, in \u001b[0;36mIndex.__getitem__\u001b[0;34m(self, key)\u001b[0m\n\u001b[1;32m   5407\u001b[0m         \u001b[38;5;28;01mif\u001b[39;00m \u001b[38;5;28mlen\u001b[39m(key) \u001b[38;5;241m==\u001b[39m \u001b[38;5;241m0\u001b[39m \u001b[38;5;129;01mand\u001b[39;00m \u001b[38;5;28mlen\u001b[39m(key) \u001b[38;5;241m!=\u001b[39m \u001b[38;5;28mlen\u001b[39m(\u001b[38;5;28mself\u001b[39m):\n\u001b[1;32m   5408\u001b[0m             warnings\u001b[38;5;241m.\u001b[39mwarn(\n\u001b[1;32m   5409\u001b[0m                 \u001b[38;5;124m\"\u001b[39m\u001b[38;5;124mUsing a boolean indexer with length 0 on an Index with \u001b[39m\u001b[38;5;124m\"\u001b[39m\n\u001b[1;32m   5410\u001b[0m                 \u001b[38;5;124m\"\u001b[39m\u001b[38;5;124mlength greater than 0 is deprecated and will raise in a \u001b[39m\u001b[38;5;124m\"\u001b[39m\n\u001b[0;32m   (...)\u001b[0m\n\u001b[1;32m   5413\u001b[0m                 stacklevel\u001b[38;5;241m=\u001b[39mfind_stack_level(),\n\u001b[1;32m   5414\u001b[0m             )\n\u001b[0;32m-> 5416\u001b[0m result \u001b[38;5;241m=\u001b[39m \u001b[43mgetitem\u001b[49m\u001b[43m(\u001b[49m\u001b[43mkey\u001b[49m\u001b[43m)\u001b[49m\n\u001b[1;32m   5417\u001b[0m \u001b[38;5;66;03m# Because we ruled out integer above, we always get an arraylike here\u001b[39;00m\n\u001b[1;32m   5418\u001b[0m \u001b[38;5;28;01mif\u001b[39;00m result\u001b[38;5;241m.\u001b[39mndim \u001b[38;5;241m>\u001b[39m \u001b[38;5;241m1\u001b[39m:\n",
      "\u001b[0;31mIndexError\u001b[0m: boolean index did not match indexed array along dimension 0; dimension is 13 but corresponding boolean dimension is 6"
     ]
    }
   ],
   "source": [
    "from sklearn.feature_selection import RFE\n",
    "import sklearn.ensemble\n",
    "import sklearn.linear_model\n",
    "\n",
    "estimator = sklearn.ensemble.RandomForestRegressor() # using RandomForestRegressor is arbitrary, it worked better than logistic and linear\n",
    "selector = RFE(estimator, n_features_to_select=4, step=1)\n",
    "selector = selector.fit(home_team_data[selected_features], home_team_data[\"H_TEAM_WIN\"])\n",
    "rfe_selected_features = home_team_data.columns[selector.support_]\n",
    "rfe_selected_features"
   ]
  },
  {
   "cell_type": "code",
   "execution_count": 72,
   "metadata": {},
   "outputs": [],
   "source": [
    "from sklearn import svm\n",
    "from sklearn.model_selection import train_test_split\n",
    "from imblearn.over_sampling import SMOTE\n",
    "\n",
    "selected_features = [\"SEASON_W\",\"LAST10_W\",\"LAST5_W\",\"SEASON_W_OPP\",\"LAST10_W_OPP\",\"LAST5_W_OPP\"]\n",
    "\n",
    "X_train, X_test, y_train, y_test = train_test_split(home_team_data[selected_features],home_team_data[\"H_TEAM_WIN\"],test_size=0.25,random_state=10)\n",
    "\n",
    "sm2 = SMOTE(random_state=10, sampling_strategy=0.8)\n",
    "x_res, y_res = sm2.fit_resample(X_train, y_train)"
   ]
  },
  {
   "cell_type": "code",
   "execution_count": 38,
   "metadata": {},
   "outputs": [
    {
     "name": "stdout",
     "output_type": "stream",
     "text": [
      "Fitting 2 folds for each of 200 candidates, totalling 400 fits\n",
      "Best Parameters: {'C': 1, 'gamma': 11, 'kernel': 'rbf'}\n",
      "Best Score: 0.5670191823467472\n"
     ]
    },
    {
     "data": {
      "text/plain": [
       "0.8389674247080516"
      ]
     },
     "execution_count": 38,
     "metadata": {},
     "output_type": "execute_result"
    }
   ],
   "source": [
    "from sklearn.model_selection import GridSearchCV\n",
    "from sklearn.svm import SVC\n",
    "from sklearn import datasets\n",
    "from sklearn.model_selection import RandomizedSearchCV\n",
    "\n",
    "from sklearn.metrics import make_scorer, recall_score\n",
    "\n",
    "param_grid = {\n",
    "    'C': range(1,100,10),\n",
    "    'gamma': range(1,100,10),\n",
    "    'kernel': ['linear', 'rbf']\n",
    "}\n",
    "\n",
    "# Create an SVM model\n",
    "svm = SVC()\n",
    "\n",
    "# Choose the scoring method\n",
    "# For recall:\n",
    "scorer = make_scorer(recall_score,pos_label=1.0)\n",
    "\n",
    "# For F1 Score:\n",
    "# scorer = make_scorer(f1_score)\n",
    "\n",
    "# Create a GridSearchCV object\n",
    "grid_search = GridSearchCV(estimator=svm, param_grid=param_grid, scoring=\"accuracy\",cv=2,verbose=1)\n",
    "\n",
    "grid_search.fit(X_train, y_train)\n",
    "\n",
    "print(\"Best Parameters:\", grid_search.best_params_)\n",
    "print(\"Best Score:\", grid_search.best_score_)\n",
    "\n",
    "best_model = grid_search.best_estimator_\n",
    "y_pred = best_model.predict(X_test)\n",
    "\n",
    "best_model.fit(x_res,y_res)\n",
    "best_model.score(x_res, y_res)"
   ]
  },
  {
   "cell_type": "code",
   "execution_count": 21,
   "metadata": {},
   "outputs": [
    {
     "data": {
      "text/plain": [
       "0.5851259987707437"
      ]
     },
     "execution_count": 21,
     "metadata": {},
     "output_type": "execute_result"
    }
   ],
   "source": []
  },
  {
   "cell_type": "code",
   "execution_count": 40,
   "metadata": {},
   "outputs": [
    {
     "data": {
      "text/html": [
       "<div>\n",
       "<style scoped>\n",
       "    .dataframe tbody tr th:only-of-type {\n",
       "        vertical-align: middle;\n",
       "    }\n",
       "\n",
       "    .dataframe tbody tr th {\n",
       "        vertical-align: top;\n",
       "    }\n",
       "\n",
       "    .dataframe thead th {\n",
       "        text-align: right;\n",
       "    }\n",
       "</style>\n",
       "<table border=\"1\" class=\"dataframe\">\n",
       "  <thead>\n",
       "    <tr style=\"text-align: right;\">\n",
       "      <th>col_0</th>\n",
       "      <th>0</th>\n",
       "      <th>1</th>\n",
       "    </tr>\n",
       "    <tr>\n",
       "      <th>H_TEAM_WIN</th>\n",
       "      <th></th>\n",
       "      <th></th>\n",
       "    </tr>\n",
       "  </thead>\n",
       "  <tbody>\n",
       "    <tr>\n",
       "      <th>0</th>\n",
       "      <td>62</td>\n",
       "      <td>176</td>\n",
       "    </tr>\n",
       "    <tr>\n",
       "      <th>1</th>\n",
       "      <td>81</td>\n",
       "      <td>221</td>\n",
       "    </tr>\n",
       "  </tbody>\n",
       "</table>\n",
       "</div>"
      ],
      "text/plain": [
       "col_0        0    1\n",
       "H_TEAM_WIN         \n",
       "0           62  176\n",
       "1           81  221"
      ]
     },
     "execution_count": 40,
     "metadata": {},
     "output_type": "execute_result"
    }
   ],
   "source": [
    "import pandas as pd\n",
    "\n",
    "# predict data and cross tab\n",
    "y_pred = best_model.predict(X_test)\n",
    "\n",
    "pd.crosstab(y_test, y_pred)"
   ]
  },
  {
   "cell_type": "code",
   "execution_count": 41,
   "metadata": {},
   "outputs": [
    {
     "name": "stdout",
     "output_type": "stream",
     "text": [
      "accuracy is 0.524074074074074\n",
      "mae is 0.4759259259259259\n",
      "recall is 0.524074074074074\n",
      "precision is 0.5024160744563767\n",
      "r2 is -0.9308253102565529\n",
      "Classification Report:\n",
      "              precision    recall  f1-score   support\n",
      "\n",
      "           0       0.43      0.26      0.33       238\n",
      "           1       0.56      0.73      0.63       302\n",
      "\n",
      "    accuracy                           0.52       540\n",
      "   macro avg       0.50      0.50      0.48       540\n",
      "weighted avg       0.50      0.52      0.50       540\n",
      "\n"
     ]
    }
   ],
   "source": [
    "import sklearn.metrics as metrics\n",
    "print('accuracy is ' + str(metrics.accuracy_score(y_test, y_pred)))\n",
    "print('mae is ' + str(metrics.mean_absolute_error(y_test, y_pred)))\n",
    "print('recall is ' + str(metrics.recall_score(y_test, y_pred, average='weighted')))\n",
    "print('precision is ' + str(metrics.precision_score(y_test, y_pred, average='weighted')))\n",
    "print('r2 is ' + str(metrics.r2_score(y_test, y_pred)))\n",
    "\n",
    "\n",
    "report = metrics.classification_report(y_test, y_pred, zero_division=1)\n",
    "print(\"Classification Report:\")\n",
    "print(report)"
   ]
  },
  {
   "cell_type": "code",
   "execution_count": 32,
   "metadata": {},
   "outputs": [
    {
     "data": {
      "image/png": "[encoded data removed]",
      "text/plain": [
       "<Figure size 640x480 with 2 Axes>"
      ]
     },
     "metadata": {},
     "output_type": "display_data"
    }
   ],
   "source": [
    "# show a confusion matrix\n",
    "confusion_matrix = metrics.confusion_matrix(y_test, y_pred)\n",
    "cm_display = metrics.ConfusionMatrixDisplay(\n",
    "    confusion_matrix=confusion_matrix, display_labels=[\"Wins\", \"Loss\"]\n",
    ")\n",
    "cm_display.plot()\n",
    "plt.title(\"Confusion Matrix for SVM\")\n",
    "plt.show()"
   ]
  }
 ],
 "metadata": {
  "kernelspec": {
   "display_name": "Python 3",
   "language": "python",
   "name": "python3"
  },
  "language_info": {
   "codemirror_mode": {
    "name": "ipython",
    "version": 3
   },
   "file_extension": ".py",
   "mimetype": "text/x-python",
   "name": "python",
   "nbconvert_exporter": "python",
   "pygments_lexer": "ipython3",
   "version": "3.10.12"
  }
 },
 "nbformat": 4,
 "nbformat_minor": 2
}
