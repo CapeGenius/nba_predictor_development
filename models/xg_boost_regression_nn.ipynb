{
 "cells": [
  {
   "cell_type": "code",
   "execution_count": 1,
   "metadata": {},
   "outputs": [],
   "source": [
    "%load_ext autoreload\n",
    "%autoreload 2"
   ]
  },
  {
   "cell_type": "code",
   "execution_count": 24,
   "metadata": {},
   "outputs": [],
   "source": [
    "import pandas as pd\n",
    "\n",
    "all_games_df = pd.read_csv(\"data/all_games.csv\")\n",
    "all_games_df.drop(\"Unnamed: 0\", axis=1,inplace=True)"
   ]
  },
  {
   "cell_type": "markdown",
   "metadata": {},
   "source": [
    "# Data Preparation"
   ]
  },
  {
   "cell_type": "code",
   "execution_count": 25,
   "metadata": {},
   "outputs": [],
   "source": [
    "from api_helpers.game_stats_helpers import load_past_n_games\n",
    "columns = [\"FG_PCT\", \"FG3_PCT\", \"FTM\", \"OREB\", \"DREB\", \"REB\", \"AST\"]\n",
    "columns_a = [column + \"_A\" for column in columns]\n",
    "columns_b = [column + \"_B\" for column in columns]\n",
    "\n",
    "n_games_df = load_past_n_games(all_games_df=all_games_df, columns=columns)\n",
    "n_games_df = n_games_df.dropna()"
   ]
  },
  {
   "cell_type": "code",
   "execution_count": 26,
   "metadata": {},
   "outputs": [],
   "source": [
    "merged_data = pd.merge(\n",
    "    all_games_df[columns_a + columns_b], n_games_df, left_index=True, right_index=True\n",
    ")\n",
    "\n",
    "\n",
    "columns_x = columns_a + columns_b\n",
    "columns_x = [column + \"_x\" for column in columns_x]\n",
    "X = merged_data[columns_x]"
   ]
  },
  {
   "cell_type": "code",
   "execution_count": 27,
   "metadata": {},
   "outputs": [],
   "source": [
    "columns_y = columns_a + columns_b\n",
    "columns_y = [column + \"_y\" for column in columns_y]\n",
    "y = merged_data[columns_y]"
   ]
  },
  {
   "cell_type": "markdown",
   "metadata": {},
   "source": [
    "## Test Train Split"
   ]
  },
  {
   "cell_type": "code",
   "execution_count": 28,
   "metadata": {},
   "outputs": [],
   "source": [
    "from sklearn.model_selection import train_test_split\n",
    "import numpy as np\n",
    "\n",
    "\n",
    "X_train, X_test, y_train, y_test = train_test_split(X, y, test_size=0.2, random_state=3)"
   ]
  },
  {
   "cell_type": "markdown",
   "metadata": {},
   "source": [
    "# Preloading Neural Network"
   ]
  },
  {
   "cell_type": "code",
   "execution_count": 117,
   "metadata": {},
   "outputs": [
    {
     "name": "stdout",
     "output_type": "stream",
     "text": [
      "Loaded model from disk\n"
     ]
    }
   ],
   "source": [
    "# Predicting Game Outcome\n",
    "from tensorflow.keras.models import model_from_json\n",
    "\n",
    "# load json and create model\n",
    "json_file = open(\"tuned_nn.json\", \"r\")\n",
    "loaded_model_json = json_file.read()\n",
    "json_file.close()\n",
    "loaded_model = model_from_json(loaded_model_json)\n",
    "# load weights into new model\n",
    "loaded_model.load_weights(\"tuned.weights.h5\")\n",
    "print(\"Loaded model from disk\")\n",
    "\n",
    "# evaluate loaded model on test data\n",
    "loaded_model.compile(\n",
    "    loss=\"categorical_crossentropy\", optimizer=\"adam\", metrics=[\"accuracy\"]\n",
    ")"
   ]
  },
  {
   "cell_type": "code",
   "execution_count": null,
   "metadata": {},
   "outputs": [],
   "source": [
    "y_final_true = all_games_df[\"WL_A\"].loc[y_test.index].to_frame()\n",
    "y_final_true.replace(\"W\",1,inplace=True)\n",
    "y_final_true.replace(\"L\",0,inplace=True)\n",
    "y_final_true.replace(\" \",0,inplace=True)\n",
    "y_final_true = list(y_final_true[\"WL_A\"])"
   ]
  },
  {
   "cell_type": "markdown",
   "metadata": {},
   "source": [
    "# Building and Testing XGBoost"
   ]
  },
  {
   "cell_type": "code",
   "execution_count": 126,
   "metadata": {},
   "outputs": [],
   "source": [
    "best_model = model"
   ]
  },
  {
   "cell_type": "code",
   "execution_count": 8,
   "metadata": {},
   "outputs": [
    {
     "name": "stderr",
     "output_type": "stream",
     "text": [
      "UsageError: Line magic function `%skip` not found.\n"
     ]
    }
   ],
   "source": [
    "%skip\n",
    "from sklearn.model_selection import cross_val_score\n",
    "from sklearn.model_selection import RepeatedKFold\n",
    "\n",
    "cv = RepeatedKFold(n_splits=10, n_repeats=3, random_state=1)\n",
    "# evaluate model\n",
    "scores = cross_val_score(model, X, y, scoring='neg_mean_absolute_error', cv=cv, n_jobs=-1)"
   ]
  },
  {
   "cell_type": "code",
   "execution_count": 46,
   "metadata": {},
   "outputs": [],
   "source": [
    "%skip\n",
    "dtrain = xgb.DMatrix(X_train, label=y_train)\n",
    "dvalid = xgb.DMatrix(X_test, label=y_test)"
   ]
  },
  {
   "cell_type": "markdown",
   "metadata": {},
   "source": [
    "## Hyperparameter Tuning"
   ]
  },
  {
   "cell_type": "code",
   "execution_count": 148,
   "metadata": {},
   "outputs": [
    {
     "name": "stderr",
     "output_type": "stream",
     "text": [
      "[I 2024-07-21 16:30:11,001] A new study created in memory with name: no-name-64e4f5aa-3fdf-4837-95c6-7f8ed9b0ddf8\n"
     ]
    },
    {
     "name": "stdout",
     "output_type": "stream",
     "text": [
      "\u001b[1m307/307\u001b[0m \u001b[32m━━━━━━━━━━━━━━━━━━━━\u001b[0m\u001b[37m\u001b[0m \u001b[1m0s\u001b[0m 265us/step\n"
     ]
    },
    {
     "name": "stderr",
     "output_type": "stream",
     "text": [
      "[I 2024-07-21 16:30:13,516] Trial 0 finished with value: 0.6678884137650173 and parameters: {'gamma': 1, 'learning_rate': 0.4, 'colsample_bynode': 0.5}. Best is trial 0 with value: 0.6678884137650173.\n"
     ]
    },
    {
     "name": "stdout",
     "output_type": "stream",
     "text": [
      "\u001b[1m307/307\u001b[0m \u001b[32m━━━━━━━━━━━━━━━━━━━━\u001b[0m\u001b[37m\u001b[0m \u001b[1m0s\u001b[0m 300us/step\n"
     ]
    },
    {
     "name": "stderr",
     "output_type": "stream",
     "text": [
      "[I 2024-07-21 16:30:16,363] Trial 1 finished with value: 0.6136224801466097 and parameters: {'gamma': 3, 'learning_rate': 0.4, 'colsample_bynode': 0.7}. Best is trial 0 with value: 0.6678884137650173.\n"
     ]
    },
    {
     "name": "stdout",
     "output_type": "stream",
     "text": [
      "\u001b[1m307/307\u001b[0m \u001b[32m━━━━━━━━━━━━━━━━━━━━\u001b[0m\u001b[37m\u001b[0m \u001b[1m0s\u001b[0m 258us/step\n"
     ]
    },
    {
     "name": "stderr",
     "output_type": "stream",
     "text": [
      "[I 2024-07-21 16:30:18,337] Trial 2 finished with value: 0.6216656485440847 and parameters: {'gamma': 2, 'learning_rate': 0.2, 'colsample_bynode': 0.4}. Best is trial 0 with value: 0.6678884137650173.\n"
     ]
    },
    {
     "name": "stdout",
     "output_type": "stream",
     "text": [
      "\u001b[1m307/307\u001b[0m \u001b[32m━━━━━━━━━━━━━━━━━━━━\u001b[0m\u001b[37m\u001b[0m \u001b[1m0s\u001b[0m 267us/step\n"
     ]
    },
    {
     "name": "stderr",
     "output_type": "stream",
     "text": [
      "[I 2024-07-21 16:30:20,336] Trial 3 finished with value: 0.6365302382406842 and parameters: {'gamma': 2, 'learning_rate': 0.3, 'colsample_bynode': 0.3}. Best is trial 0 with value: 0.6678884137650173.\n"
     ]
    },
    {
     "name": "stdout",
     "output_type": "stream",
     "text": [
      "\u001b[1m307/307\u001b[0m \u001b[32m━━━━━━━━━━━━━━━━━━━━\u001b[0m\u001b[37m\u001b[0m \u001b[1m0s\u001b[0m 420us/step\n"
     ]
    },
    {
     "name": "stderr",
     "output_type": "stream",
     "text": [
      "[I 2024-07-21 16:30:22,569] Trial 4 finished with value: 0.763490124210955 and parameters: {'gamma': 0, 'learning_rate': 0.2, 'colsample_bynode': 0.3}. Best is trial 4 with value: 0.763490124210955.\n"
     ]
    },
    {
     "name": "stdout",
     "output_type": "stream",
     "text": [
      "\u001b[1m307/307\u001b[0m \u001b[32m━━━━━━━━━━━━━━━━━━━━\u001b[0m\u001b[37m\u001b[0m \u001b[1m0s\u001b[0m 359us/step\n"
     ]
    },
    {
     "name": "stderr",
     "output_type": "stream",
     "text": [
      "[I 2024-07-21 16:30:24,488] Trial 5 finished with value: 0.6165750356342904 and parameters: {'gamma': 3, 'learning_rate': 0.4, 'colsample_bynode': 0.3}. Best is trial 4 with value: 0.763490124210955.\n"
     ]
    },
    {
     "name": "stdout",
     "output_type": "stream",
     "text": [
      "\u001b[1m307/307\u001b[0m \u001b[32m━━━━━━━━━━━━━━━━━━━━\u001b[0m\u001b[37m\u001b[0m \u001b[1m0s\u001b[0m 406us/step\n"
     ]
    },
    {
     "name": "stderr",
     "output_type": "stream",
     "text": [
      "[I 2024-07-21 16:30:26,063] Trial 6 finished with value: 0.590816534310731 and parameters: {'gamma': 5, 'learning_rate': 0.2, 'colsample_bynode': 0.7}. Best is trial 4 with value: 0.763490124210955.\n"
     ]
    },
    {
     "name": "stdout",
     "output_type": "stream",
     "text": [
      "\u001b[1m307/307\u001b[0m \u001b[32m━━━━━━━━━━━━━━━━━━━━\u001b[0m\u001b[37m\u001b[0m \u001b[1m0s\u001b[0m 308us/step\n"
     ]
    },
    {
     "name": "stderr",
     "output_type": "stream",
     "text": [
      "[I 2024-07-21 16:30:27,754] Trial 7 finished with value: 0.7641009977601303 and parameters: {'gamma': 0, 'learning_rate': 0.1, 'colsample_bynode': 0.3}. Best is trial 7 with value: 0.7641009977601303.\n"
     ]
    },
    {
     "name": "stdout",
     "output_type": "stream",
     "text": [
      "\u001b[1m307/307\u001b[0m \u001b[32m━━━━━━━━━━━━━━━━━━━━\u001b[0m\u001b[37m\u001b[0m \u001b[1m0s\u001b[0m 690us/step\n"
     ]
    },
    {
     "name": "stderr",
     "output_type": "stream",
     "text": [
      "[I 2024-07-21 16:30:29,620] Trial 8 finished with value: 0.6181022195072287 and parameters: {'gamma': 3, 'learning_rate': 0.4, 'colsample_bynode': 0.4}. Best is trial 7 with value: 0.7641009977601303.\n"
     ]
    },
    {
     "name": "stdout",
     "output_type": "stream",
     "text": [
      "\u001b[1m307/307\u001b[0m \u001b[32m━━━━━━━━━━━━━━━━━━━━\u001b[0m\u001b[37m\u001b[0m \u001b[1m0s\u001b[0m 287us/step\n"
     ]
    },
    {
     "name": "stderr",
     "output_type": "stream",
     "text": [
      "[I 2024-07-21 16:30:32,151] Trial 9 finished with value: 0.6521075137446548 and parameters: {'gamma': 1, 'learning_rate': 0.1, 'colsample_bynode': 0.5}. Best is trial 7 with value: 0.7641009977601303.\n"
     ]
    },
    {
     "name": "stdout",
     "output_type": "stream",
     "text": [
      "\u001b[1m307/307\u001b[0m \u001b[32m━━━━━━━━━━━━━━━━━━━━\u001b[0m\u001b[37m\u001b[0m \u001b[1m0s\u001b[0m 539us/step\n"
     ]
    },
    {
     "name": "stderr",
     "output_type": "stream",
     "text": [
      "[I 2024-07-21 16:30:35,223] Trial 10 finished with value: 0.7706169822846671 and parameters: {'gamma': 0, 'learning_rate': 0.1, 'colsample_bynode': 0.6}. Best is trial 10 with value: 0.7706169822846671.\n"
     ]
    },
    {
     "name": "stdout",
     "output_type": "stream",
     "text": [
      "\u001b[1m307/307\u001b[0m \u001b[32m━━━━━━━━━━━━━━━━━━━━\u001b[0m\u001b[37m\u001b[0m \u001b[1m0s\u001b[0m 441us/step\n"
     ]
    },
    {
     "name": "stderr",
     "output_type": "stream",
     "text": [
      "[I 2024-07-21 16:30:40,920] Trial 11 finished with value: 0.7706169822846671 and parameters: {'gamma': 0, 'learning_rate': 0.1, 'colsample_bynode': 0.6}. Best is trial 10 with value: 0.7706169822846671.\n"
     ]
    },
    {
     "name": "stdout",
     "output_type": "stream",
     "text": [
      "\u001b[1m307/307\u001b[0m \u001b[32m━━━━━━━━━━━━━━━━━━━━\u001b[0m\u001b[37m\u001b[0m \u001b[1m0s\u001b[0m 325us/step\n"
     ]
    },
    {
     "name": "stderr",
     "output_type": "stream",
     "text": [
      "[I 2024-07-21 16:30:45,037] Trial 12 finished with value: 0.5849114233353696 and parameters: {'gamma': 4, 'learning_rate': 0.5, 'colsample_bynode': 0.6}. Best is trial 10 with value: 0.7706169822846671.\n"
     ]
    },
    {
     "name": "stdout",
     "output_type": "stream",
     "text": [
      "\u001b[1m307/307\u001b[0m \u001b[32m━━━━━━━━━━━━━━━━━━━━\u001b[0m\u001b[37m\u001b[0m \u001b[1m0s\u001b[0m 276us/step\n"
     ]
    },
    {
     "name": "stderr",
     "output_type": "stream",
     "text": [
      "[I 2024-07-21 16:30:48,085] Trial 13 finished with value: 0.7706169822846671 and parameters: {'gamma': 0, 'learning_rate': 0.1, 'colsample_bynode': 0.6}. Best is trial 10 with value: 0.7706169822846671.\n"
     ]
    },
    {
     "name": "stdout",
     "output_type": "stream",
     "text": [
      "\u001b[1m307/307\u001b[0m \u001b[32m━━━━━━━━━━━━━━━━━━━━\u001b[0m\u001b[37m\u001b[0m \u001b[1m0s\u001b[0m 274us/step\n"
     ]
    },
    {
     "name": "stderr",
     "output_type": "stream",
     "text": [
      "[I 2024-07-21 16:30:51,302] Trial 14 finished with value: 0.7706169822846671 and parameters: {'gamma': 0, 'learning_rate': 0.1, 'colsample_bynode': 0.6}. Best is trial 10 with value: 0.7706169822846671.\n"
     ]
    },
    {
     "name": "stdout",
     "output_type": "stream",
     "text": [
      "\u001b[1m307/307\u001b[0m \u001b[32m━━━━━━━━━━━━━━━━━━━━\u001b[0m\u001b[37m\u001b[0m \u001b[1m0s\u001b[0m 279us/step\n"
     ]
    },
    {
     "name": "stderr",
     "output_type": "stream",
     "text": [
      "[I 2024-07-21 16:30:55,564] Trial 15 finished with value: 0.7706169822846671 and parameters: {'gamma': 0, 'learning_rate': 0.1, 'colsample_bynode': 0.6}. Best is trial 10 with value: 0.7706169822846671.\n"
     ]
    },
    {
     "name": "stdout",
     "output_type": "stream",
     "text": [
      "\u001b[1m307/307\u001b[0m \u001b[32m━━━━━━━━━━━━━━━━━━━━\u001b[0m\u001b[37m\u001b[0m \u001b[1m0s\u001b[0m 430us/step\n"
     ]
    },
    {
     "name": "stderr",
     "output_type": "stream",
     "text": [
      "[I 2024-07-21 16:30:59,908] Trial 16 finished with value: 0.5856241091427408 and parameters: {'gamma': 4, 'learning_rate': 0.3, 'colsample_bynode': 0.6}. Best is trial 10 with value: 0.7706169822846671.\n"
     ]
    },
    {
     "name": "stdout",
     "output_type": "stream",
     "text": [
      "\u001b[1m307/307\u001b[0m \u001b[32m━━━━━━━━━━━━━━━━━━━━\u001b[0m\u001b[37m\u001b[0m \u001b[1m0s\u001b[0m 270us/step\n"
     ]
    },
    {
     "name": "stderr",
     "output_type": "stream",
     "text": [
      "[I 2024-07-21 16:31:01,746] Trial 17 finished with value: 0.5757483200977398 and parameters: {'gamma': 5, 'learning_rate': 0.5, 'colsample_bynode': 0.6}. Best is trial 10 with value: 0.7706169822846671.\n"
     ]
    },
    {
     "name": "stdout",
     "output_type": "stream",
     "text": [
      "\u001b[1m307/307\u001b[0m \u001b[32m━━━━━━━━━━━━━━━━━━━━\u001b[0m\u001b[37m\u001b[0m \u001b[1m0s\u001b[0m 372us/step\n"
     ]
    },
    {
     "name": "stderr",
     "output_type": "stream",
     "text": [
      "[I 2024-07-21 16:31:04,484] Trial 18 finished with value: 0.7706169822846671 and parameters: {'gamma': 0, 'learning_rate': 0.1, 'colsample_bynode': 0.6}. Best is trial 10 with value: 0.7706169822846671.\n"
     ]
    },
    {
     "name": "stdout",
     "output_type": "stream",
     "text": [
      "\u001b[1m307/307\u001b[0m \u001b[32m━━━━━━━━━━━━━━━━━━━━\u001b[0m\u001b[37m\u001b[0m \u001b[1m0s\u001b[0m 277us/step\n"
     ]
    },
    {
     "name": "stderr",
     "output_type": "stream",
     "text": [
      "[I 2024-07-21 16:31:06,885] Trial 19 finished with value: 0.7706169822846671 and parameters: {'gamma': 0, 'learning_rate': 0.1, 'colsample_bynode': 0.6}. Best is trial 10 with value: 0.7706169822846671.\n"
     ]
    },
    {
     "name": "stdout",
     "output_type": "stream",
     "text": [
      "\u001b[1m307/307\u001b[0m \u001b[32m━━━━━━━━━━━━━━━━━━━━\u001b[0m\u001b[37m\u001b[0m \u001b[1m0s\u001b[0m 426us/step\n"
     ]
    },
    {
     "name": "stderr",
     "output_type": "stream",
     "text": [
      "[I 2024-07-21 16:31:09,572] Trial 20 finished with value: 0.7648136835675016 and parameters: {'gamma': 0, 'learning_rate': 0.1, 'colsample_bynode': 0.5}. Best is trial 10 with value: 0.7706169822846671.\n"
     ]
    },
    {
     "name": "stdout",
     "output_type": "stream",
     "text": [
      "\u001b[1m307/307\u001b[0m \u001b[32m━━━━━━━━━━━━━━━━━━━━\u001b[0m\u001b[37m\u001b[0m \u001b[1m0s\u001b[0m 454us/step\n"
     ]
    },
    {
     "name": "stderr",
     "output_type": "stream",
     "text": [
      "[I 2024-07-21 16:31:12,607] Trial 21 finished with value: 0.7706169822846671 and parameters: {'gamma': 0, 'learning_rate': 0.1, 'colsample_bynode': 0.6}. Best is trial 10 with value: 0.7706169822846671.\n"
     ]
    },
    {
     "name": "stdout",
     "output_type": "stream",
     "text": [
      "\u001b[1m307/307\u001b[0m \u001b[32m━━━━━━━━━━━━━━━━━━━━\u001b[0m\u001b[37m\u001b[0m \u001b[1m0s\u001b[0m 338us/step\n"
     ]
    },
    {
     "name": "stderr",
     "output_type": "stream",
     "text": [
      "[I 2024-07-21 16:31:20,039] Trial 22 finished with value: 0.7706169822846671 and parameters: {'gamma': 0, 'learning_rate': 0.1, 'colsample_bynode': 0.6}. Best is trial 10 with value: 0.7706169822846671.\n"
     ]
    },
    {
     "name": "stdout",
     "output_type": "stream",
     "text": [
      "\u001b[1m307/307\u001b[0m \u001b[32m━━━━━━━━━━━━━━━━━━━━\u001b[0m\u001b[37m\u001b[0m \u001b[1m0s\u001b[0m 348us/step\n"
     ]
    },
    {
     "name": "stderr",
     "output_type": "stream",
     "text": [
      "[I 2024-07-21 16:31:25,439] Trial 23 finished with value: 0.7706169822846671 and parameters: {'gamma': 0, 'learning_rate': 0.1, 'colsample_bynode': 0.6}. Best is trial 10 with value: 0.7706169822846671.\n"
     ]
    },
    {
     "name": "stdout",
     "output_type": "stream",
     "text": [
      "\u001b[1m307/307\u001b[0m \u001b[32m━━━━━━━━━━━━━━━━━━━━\u001b[0m\u001b[37m\u001b[0m \u001b[1m0s\u001b[0m 361us/step\n"
     ]
    },
    {
     "name": "stderr",
     "output_type": "stream",
     "text": [
      "[I 2024-07-21 16:31:29,038] Trial 24 finished with value: 0.7706169822846671 and parameters: {'gamma': 0, 'learning_rate': 0.1, 'colsample_bynode': 0.6}. Best is trial 10 with value: 0.7706169822846671.\n"
     ]
    },
    {
     "name": "stdout",
     "output_type": "stream",
     "text": [
      "\u001b[1m307/307\u001b[0m \u001b[32m━━━━━━━━━━━━━━━━━━━━\u001b[0m\u001b[37m\u001b[0m \u001b[1m0s\u001b[0m 436us/step\n"
     ]
    },
    {
     "name": "stderr",
     "output_type": "stream",
     "text": [
      "[I 2024-07-21 16:31:32,196] Trial 25 finished with value: 0.5873549175320708 and parameters: {'gamma': 4, 'learning_rate': 0.3, 'colsample_bynode': 0.4}. Best is trial 10 with value: 0.7706169822846671.\n"
     ]
    },
    {
     "name": "stdout",
     "output_type": "stream",
     "text": [
      "\u001b[1m307/307\u001b[0m \u001b[32m━━━━━━━━━━━━━━━━━━━━\u001b[0m\u001b[37m\u001b[0m \u001b[1m0s\u001b[0m 297us/step\n"
     ]
    },
    {
     "name": "stderr",
     "output_type": "stream",
     "text": [
      "[I 2024-07-21 16:31:35,025] Trial 26 finished with value: 0.5865404194665038 and parameters: {'gamma': 5, 'learning_rate': 0.5, 'colsample_bynode': 0.7}. Best is trial 10 with value: 0.7706169822846671.\n"
     ]
    },
    {
     "name": "stdout",
     "output_type": "stream",
     "text": [
      "\u001b[1m307/307\u001b[0m \u001b[32m━━━━━━━━━━━━━━━━━━━━\u001b[0m\u001b[37m\u001b[0m \u001b[1m0s\u001b[0m 298us/step\n"
     ]
    },
    {
     "name": "stderr",
     "output_type": "stream",
     "text": [
      "[I 2024-07-21 16:31:38,176] Trial 27 finished with value: 0.6504785176135207 and parameters: {'gamma': 1, 'learning_rate': 0.1, 'colsample_bynode': 0.6}. Best is trial 10 with value: 0.7706169822846671.\n"
     ]
    },
    {
     "name": "stdout",
     "output_type": "stream",
     "text": [
      "\u001b[1m307/307\u001b[0m \u001b[32m━━━━━━━━━━━━━━━━━━━━\u001b[0m\u001b[37m\u001b[0m \u001b[1m0s\u001b[0m 297us/step\n"
     ]
    },
    {
     "name": "stderr",
     "output_type": "stream",
     "text": [
      "[I 2024-07-21 16:31:40,662] Trial 28 finished with value: 0.6170840969252698 and parameters: {'gamma': 2, 'learning_rate': 0.1, 'colsample_bynode': 0.6}. Best is trial 10 with value: 0.7706169822846671.\n"
     ]
    },
    {
     "name": "stdout",
     "output_type": "stream",
     "text": [
      "\u001b[1m307/307\u001b[0m \u001b[32m━━━━━━━━━━━━━━━━━━━━\u001b[0m\u001b[37m\u001b[0m \u001b[1m0s\u001b[0m 457us/step\n"
     ]
    },
    {
     "name": "stderr",
     "output_type": "stream",
     "text": [
      "[I 2024-07-21 16:31:43,407] Trial 29 finished with value: 0.7648136835675016 and parameters: {'gamma': 0, 'learning_rate': 0.1, 'colsample_bynode': 0.5}. Best is trial 10 with value: 0.7706169822846671.\n"
     ]
    }
   ],
   "source": [
    "from hyperopt import tpe, hp, STATUS_OK\n",
    "from sklearn.metrics import r2_score, mean_squared_error\n",
    "import hyperopt\n",
    "import sklearn\n",
    "import optuna\n",
    "\n",
    "\n",
    "def objective(trial):\n",
    "    # param = {\n",
    "    #     \"device\": \"cuda\",\n",
    "    #     \"gamma\": trial.suggest_categorical(\"gamma\", [18, 19, 20, 21, 22, 23, 24, 25]),\n",
    "    #     \"learning_rate\": trial.suggest_categorical(\n",
    "    #         \"learning_rate\", [0.008, 0.01, 0.012, 0.014, 0.016, 0.018, 0.02]\n",
    "    #     ),\n",
    "    #     \"colsample_bytree\": trial.suggest_categorical(\n",
    "    #         \"colsample_bytree\", [0.3, 0.4, 0.5, 0.6, 0.7, 0.8, 0.9, 1.0]\n",
    "    #     ),\n",
    "    #     \"colsample_bynode\": trial.suggest_categorical(\n",
    "    #         \"colsample_bynode\", [0.3, 0.4, 0.5, 0.6, 0.7, 0.8, 0.9, 1.0]\n",
    "    #     ),\n",
    "    #     \"n_estimators\": trial.suggest_int(\"n_estimators\", 30, 200),\n",
    "    #     \"max_depth\": trial.suggest_categorical(\"max_depth\", [3, 4, 5, 6, 7]),\n",
    "    #     \"subsample\": trial.suggest_categorical(\"subsample\", [0.5, 0.6, 0.7, 0.8, 1.0]),\n",
    "    #     \"random_state\": 42,\n",
    "    # }\n",
    "\n",
    "    param = {\n",
    "        \"device\": \"cuda\",\n",
    "        \"n_estimators\": 100,\n",
    "        \"max_depth\": 8,\n",
    "        \"eta\": 0.1,\n",
    "        \"subsample\": 0.4,\n",
    "        \"colsample_bytree\": 0.9,\n",
    "        \"random_state\": 42,\n",
    "        \"gamma\": trial.suggest_categorical(\"gamma\", [0, 1, 2, 3, 4, 5]),\n",
    "        \"learning_rate\": trial.suggest_categorical(\n",
    "            \"learning_rate\", [0.1, 0.2, 0.3, 0.4, 0.5]\n",
    "        ),\n",
    "        \"colsample_bynode\": trial.suggest_categorical(\n",
    "            \"colsample_bynode\", [0.3, 0.4, 0.5, 0.6, 0.7]\n",
    "        ),\n",
    "    }\n",
    "\n",
    "    model = XGBRegressor(**param)\n",
    "\n",
    "    model.fit(X_train, y_train, verbose=False)\n",
    "\n",
    "    y_pred = model.predict(X_test)\n",
    "\n",
    "    scaler = joblib.load(\"scaler.bin\")\n",
    "\n",
    "    y_final_pred = loaded_model.predict(scaler.transform(y_pred))\n",
    "    y_pred_true = np.argmax(y_final_pred, axis=1)\n",
    "\n",
    "    y_pred_true = y_pred_true.tolist()\n",
    "\n",
    "    accuracy = accuracy_score(y_final_true, list(y_pred_true))\n",
    "\n",
    "    return accuracy\n",
    "\n",
    "\n",
    "study = optuna.create_study(direction=\"maximize\")\n",
    "study.optimize(objective, n_trials=30, timeout=600)"
   ]
  },
  {
   "cell_type": "code",
   "execution_count": 150,
   "metadata": {},
   "outputs": [
    {
     "name": "stdout",
     "output_type": "stream",
     "text": [
      "Number of finished trials:  30\n",
      "Best trial:\n",
      "  Value: 0.7706169822846671\n",
      "  Params: \n",
      "    gamma: 0\n",
      "    learning_rate: 0.1\n",
      "    colsample_bynode: 0.6\n"
     ]
    }
   ],
   "source": [
    "print(\"Number of finished trials: \", len(study.trials))\n",
    "print(\"Best trial:\")\n",
    "trial = study.best_trial\n",
    "\n",
    "print(\"  Value: {}\".format(trial.value))\n",
    "print(\"  Params: \")\n",
    "for key, value in trial.params.items():\n",
    "    print(\"    {}: {}\".format(key, value))"
   ]
  },
  {
   "cell_type": "code",
   "execution_count": 151,
   "metadata": {},
   "outputs": [
    {
     "name": "stdout",
     "output_type": "stream",
     "text": [
      "\u001b[1m307/307\u001b[0m \u001b[32m━━━━━━━━━━━━━━━━━━━━\u001b[0m\u001b[37m\u001b[0m \u001b[1m0s\u001b[0m 275us/step\n",
      "<class 'int'>\n",
      "True\n",
      "Best Neural Network classification report:\n",
      "              precision    recall  f1-score   support\n",
      "\n",
      "           0       0.97      0.43      0.60      3922\n",
      "           1       0.72      0.99      0.84      5900\n",
      "\n",
      "    accuracy                           0.77      9822\n",
      "   macro avg       0.85      0.71      0.72      9822\n",
      "weighted avg       0.82      0.77      0.74      9822\n",
      "\n"
     ]
    },
    {
     "data": {
      "image/png": "[encoded data removed]",
      "text/plain": [
       "<Figure size 640x480 with 2 Axes>"
      ]
     },
     "metadata": {},
     "output_type": "display_data"
    }
   ],
   "source": [
    "\n",
    "from xgboost import XGBRegressor\n",
    "import xgboost as xgb\n",
    "from sklearn.metrics import accuracy_score, classification_report, confusion_matrix\n",
    "import matplotlib.pyplot as plt\n",
    "import seaborn as sns\n",
    "import joblib\n",
    "\n",
    "# create an xgboost regression model\n",
    "\n",
    "best_params = trial.params\n",
    "\n",
    "model = XGBRegressor(**best_params)\n",
    "model.fit(X_train,y_train)\n",
    "y_pred = model.predict(X_test)\n",
    "\n",
    "scaler = joblib.load(\"scaler.bin\")\n",
    "\n",
    "y_final_pred = loaded_model.predict(scaler.transform(y_pred))\n",
    "y_pred_true = np.argmax(y_final_pred, axis=1)\n",
    "\n",
    "y_pred_true = y_pred_true.tolist()\n",
    "print(type(y_pred_true[0]))\n",
    "\n",
    "print(all(isinstance(x, int) for x in y_final_true))\n",
    "\n",
    "# Evaluate the model\n",
    "print('Best Neural Network classification report:')\n",
    "print(classification_report(y_final_true, list(y_pred_true)))\n",
    "\n",
    "# Confusion matrix\n",
    "conf_matrix_nn = confusion_matrix(y_final_true, list(y_pred_true))\n",
    "sns.heatmap(conf_matrix_nn, annot=True, fmt='d', cmap='Blues')\n",
    "plt.xlabel('Predicted')\n",
    "plt.ylabel('Actual')\n",
    "plt.title('Confusion Matrix')\n",
    "plt.show()\n"
   ]
  }
 ],
 "metadata": {
  "kernelspec": {
   "display_name": "Python 3",
   "language": "python",
   "name": "python3"
  },
  "language_info": {
   "codemirror_mode": {
    "name": "ipython",
    "version": 3
   },
   "file_extension": ".py",
   "mimetype": "text/x-python",
   "name": "python",
   "nbconvert_exporter": "python",
   "pygments_lexer": "ipython3",
   "version": "3.10.12"
  }
 },
 "nbformat": 4,
 "nbformat_minor": 2
}
