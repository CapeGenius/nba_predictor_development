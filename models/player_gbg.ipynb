{
 "cells": [
  {
   "cell_type": "code",
   "execution_count": 1,
   "metadata": {},
   "outputs": [],
   "source": [
    "%load_ext autoreload\n",
    "%autoreload 2"
   ]
  },
  {
   "cell_type": "markdown",
   "metadata": {},
   "source": [
    "# Data Preparation"
   ]
  },
  {
   "cell_type": "code",
   "execution_count": 2,
   "metadata": {},
   "outputs": [],
   "source": [
    "import pandas as pd\n",
    "\n",
    "all_players_df = pd.read_csv(\"data/all_players.csv\")\n",
    "all_games_df = pd.read_csv(\"data/all_games.csv\",encoding=\"utf-8\")\n",
    "columns = [\"FG_PCT\", \"FG3_PCT\", \"FTM\", \"OREB\", \"DREB\", \"REB\", \"AST\"]\n",
    "string_columns = [\"GAME_DATE\", \"GAME_ID\"]\n",
    "columns_a = [column + \"_A\" for column in columns]\n",
    "columns_b = [column + \"_B\" for column in columns]\n",
    "all_games_df = all_games_df[string_columns + columns_a + columns_b]"
   ]
  },
  {
   "cell_type": "code",
   "execution_count": 3,
   "metadata": {},
   "outputs": [],
   "source": [
    "all_players_df.drop(\n",
    "    columns=[\n",
    "        \"HomeTeamPlayer1_PLAYER_NAME\",\n",
    "        \"HomeTeamPlayer2_PLAYER_NAME\",\n",
    "        \"HomeTeamPlayer3_PLAYER_NAME\",\n",
    "        \"HomeTeamPlayer4_PLAYER_NAME\",\n",
    "        \"HomeTeamPlayer5_PLAYER_NAME\",\n",
    "        \"HomeTeamPlayer6_PLAYER_NAME\",\n",
    "    ], inplace=True\n",
    ")"
   ]
  },
  {
   "cell_type": "code",
   "execution_count": 4,
   "metadata": {},
   "outputs": [],
   "source": [
    "all_players_df.drop(\n",
    "    columns=[\n",
    "        \"AwayTeamPlayer1_PLAYER_NAME\",\n",
    "        \"AwayTeamPlayer2_PLAYER_NAME\",\n",
    "        \"AwayTeamPlayer3_PLAYER_NAME\",\n",
    "        \"AwayTeamPlayer4_PLAYER_NAME\",\n",
    "        \"AwayTeamPlayer5_PLAYER_NAME\",\n",
    "        \"AwayTeamPlayer6_PLAYER_NAME\",\n",
    "    ],\n",
    "    inplace=True,\n",
    ")"
   ]
  },
  {
   "cell_type": "markdown",
   "metadata": {},
   "source": [
    "## Gets Necessary Columns"
   ]
  },
  {
   "cell_type": "code",
   "execution_count": 6,
   "metadata": {},
   "outputs": [],
   "source": [
    "columns = list(all_players_df.columns)\n",
    "home_1 = columns.index(\"TEAM_ID_home\")\n",
    "home_2 = columns.index(\"TEAM_ID_away\")\n",
    "away_1 = columns.index(\"TEAM_ID_away\")\n",
    "home_columns = columns[home_1:home_2]\n",
    "away_columns = columns[away_1:]"
   ]
  },
  {
   "cell_type": "markdown",
   "metadata": {},
   "source": [
    "## Merges Last N Game Averages with Data on All Games"
   ]
  },
  {
   "cell_type": "code",
   "execution_count": 7,
   "metadata": {},
   "outputs": [],
   "source": [
    "from api_helpers.game_stats_helpers import load_player_n_games\n",
    "\n",
    "# gets the last n games for players\n",
    "players_n_df = load_player_n_games(\n",
    "    players_df=all_players_df, home_columns=home_columns, away_columns=away_columns, n=5\n",
    ")\n",
    "\n",
    "# merges data on the player's average for the past n games with all games\n",
    "merged_data = pd.merge(\n",
    "    players_n_df, all_games_df, on=[\"GAME_ID\", \"GAME_DATE\"]\n",
    ")"
   ]
  }
 ],
 "metadata": {
  "kernelspec": {
   "display_name": "MLenv",
   "language": "python",
   "name": "python3"
  },
  "language_info": {
   "codemirror_mode": {
    "name": "ipython",
    "version": 3
   },
   "file_extension": ".py",
   "mimetype": "text/x-python",
   "name": "python",
   "nbconvert_exporter": "python",
   "pygments_lexer": "ipython3",
   "version": "3.10.12"
  }
 },
 "nbformat": 4,
 "nbformat_minor": 2
}
