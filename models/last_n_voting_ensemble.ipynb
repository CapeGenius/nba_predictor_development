{
 "cells": [
  {
   "cell_type": "code",
   "execution_count": 5,
   "metadata": {},
   "outputs": [],
   "source": [
    "import numpy as np\n",
    "import pandas as pd \n",
    "import os\n",
    "import sklearn.preprocessing as skp\n",
    "from sklearn.model_selection import train_test_split\n",
    "import sklearn.linear_model\n",
    "from sklearn.utils import resample\n",
    "\n",
    "from sklearn.model_selection import GridSearchCV\n",
    "from sklearn.ensemble import RandomForestClassifier, VotingClassifier\n",
    "\n",
    "import sklearn.metrics as metrics\n",
    "import matplotlib.pyplot as plt\n",
    "import sys\n",
    "import xgboost as xgb\n",
    "# print(xgb.__version__)\n",
    "# from xgboost import XGBClassifier\n",
    "\n",
    "import tensorflow as tf\n",
    "from tensorflow.keras.models import Sequential\n",
    "from tensorflow.keras.layers import Dense, Flatten\n",
    "from tensorflow.keras.datasets import mnist\n",
    "from tensorflow.keras.regularizers import l2\n",
    "from tensorflow.keras.layers import BatchNormalization\n",
    "from tensorflow.keras.layers import Dropout\n",
    "from scikeras.wrappers import KerasClassifier\n",
    "\n",
    "from sklearn.naive_bayes import GaussianNB\n",
    "from sklearn.svm import SVC\n"
   ]
  },
  {
   "cell_type": "markdown",
   "metadata": {},
   "source": [
    "## Data Prep"
   ]
  },
  {
   "cell_type": "code",
   "execution_count": 211,
   "metadata": {},
   "outputs": [],
   "source": [
    "from imblearn.under_sampling import RandomUnderSampler\n",
    "\n",
    "def data_prep(resample_majority=False, net_scores=False):\n",
    "    all_games_df = pd.read_csv(\"data/all_games.csv\",encoding=\"utf-8\")\n",
    "    all_games_df.drop(\"Unnamed: 0\", axis=1,inplace=True)\n",
    "    all_games_df = all_games_df.dropna()\n",
    "    all_games_df = all_games_df[all_games_df['WL_A'] != ' ']\n",
    "\n",
    "    # if resample_majority:\n",
    "        # downscaling majority (removing some home team win)\n",
    "        # team_data_majority = all_games_df[all_games_df['WL_A']=='W']\n",
    "        # team_data_minority = all_games_df[all_games_df['WL_A']=='L']\n",
    "        # team_data_majority_downsampled = resample(team_data_majority, replace=False, n_samples=team_data_minority.shape[0], random_state=123)\n",
    "        # all_games_df = pd.concat([team_data_majority_downsampled, team_data_minority])\n",
    "\n",
    "    from api_helpers.game_stats_helpers import load_past_n_games\n",
    "    columns = [\"FG_PCT\",\"FT_PCT\", \"OREB\", \"TOV\"]\n",
    "    columns_a = [column + \"_A\" for column in columns]\n",
    "    columns_b = [column + \"_B\" for column in columns]\n",
    "\n",
    "    n_games_df = load_past_n_games(all_games_df=all_games_df, columns=columns, n=20)\n",
    "    n_games_df = n_games_df.dropna()\n",
    "\n",
    "    if net_scores:\n",
    "        for column in columns:\n",
    "            n_games_df[f'{column}_NET'] = n_games_df[f'{column}_A'] - n_games_df[f'{column}_B']\n",
    "        x_columns = [column + \"_NET\" for column in columns]\n",
    "    else:\n",
    "        x_columns = columns_a + columns_b\n",
    "    y_column = \"WL_A\"\n",
    "\n",
    "    #normalize x_data\n",
    "    scaler = skp.StandardScaler()\n",
    "    n_games_df[x_columns] = scaler.fit_transform(n_games_df[x_columns])\n",
    "\n",
    "    # encode the y_output\n",
    "    le = skp.LabelEncoder()\n",
    "    n_games_df[y_column] = le.fit_transform(n_games_df[y_column])\n",
    "\n",
    "    from imblearn.over_sampling import SMOTE, ADASYN\n",
    "    # Split the data into training and testing sets\n",
    "    X_train, X_test, y_train, y_test = train_test_split(n_games_df[x_columns], n_games_df[y_column], test_size=0.2, random_state=42)\n",
    "\n",
    "    if resample_majority:\n",
    "        undersampler = SMOTE(random_state=42)\n",
    "        # Fit the undersampler to the   training data\n",
    "        X_train, y_train = undersampler.fit_resample(X_train, y_train)\n",
    "\n",
    "    print(n_games_df[x_columns].shape)\n",
    "    print(n_games_df[y_column].shape)\n",
    "    return X_train, X_test, y_train, y_test\n"
   ]
  },
  {
   "cell_type": "code",
   "execution_count": 213,
   "metadata": {},
   "outputs": [
    {
     "name": "stdout",
     "output_type": "stream",
     "text": [
      "(37945, 4)\n",
      "(37945,)\n",
      "Index(['GAME_ID', 'TEAM_ID_A', 'TEAM_ID_B', 'GAME_ID', 'WL_A', 'FG_PCT_A',\n",
      "       'FG3_PCT_A', 'FTM_A', 'OREB_A', 'DREB_A', 'REB_A', 'AST_A', 'STL_A',\n",
      "       'FG_PCT_B', 'FG3_PCT_B', 'FTM_B', 'OREB_B', 'DREB_B', 'REB_B', 'AST_B',\n",
      "       'STL_B'],\n",
      "      dtype='object')\n"
     ]
    }
   ],
   "source": [
    "X_train, X_test, y_train, y_test = data_prep(resample_majority=False, net_scores=True)\n"
   ]
  },
  {
   "cell_type": "code",
   "execution_count": 214,
   "metadata": {},
   "outputs": [
    {
     "name": "stdout",
     "output_type": "stream",
     "text": [
      "       FG_PCT_NET  FT_PCT_NET  OREB_NET   TOV_NET\n",
      "842     -0.371317    1.269936 -0.059484  1.301220\n",
      "6956    -0.023621    0.810422 -1.142863  0.585641\n",
      "38626   -1.141215    0.873083  0.843331 -1.382203\n",
      "27231    1.764529    1.520580  0.482205 -1.203308\n",
      "50494    0.311657   -1.020673 -0.962300 -0.666623\n",
      "...           ...         ...       ...       ...\n",
      "23675    1.491339   -1.918815 -0.601173  1.122325\n",
      "8671    -0.532747    0.072414 -0.240047 -0.129939\n",
      "15402   -0.085710   -0.944088  0.843331 -0.666623\n",
      "865      1.342327   -0.401025 -1.865115  0.406746\n",
      "22039    1.193314   -2.190346  0.843331  0.943431\n",
      "\n",
      "[30356 rows x 4 columns]\n"
     ]
    }
   ],
   "source": [
    "print(X_train)"
   ]
  },
  {
   "cell_type": "code",
   "execution_count": 100,
   "metadata": {},
   "outputs": [
    {
     "name": "stderr",
     "output_type": "stream",
     "text": [
      "/var/folders/yg/86tk2sbj33q27k386pfvdp5m0000gn/T/ipykernel_47542/3652672342.py:6: SettingWithCopyWarning: \n",
      "A value is trying to be set on a copy of a slice from a DataFrame.\n",
      "Try using .loc[row_indexer,col_indexer] = value instead\n",
      "\n",
      "See the caveats in the documentation: https://pandas.pydata.org/pandas-docs/stable/user_guide/indexing.html#returning-a-view-versus-a-copy\n",
      "  df[a_col.replace('_A', '')] = df[a_col] - df[b_col]\n",
      "/var/folders/yg/86tk2sbj33q27k386pfvdp5m0000gn/T/ipykernel_47542/3652672342.py:7: SettingWithCopyWarning: \n",
      "A value is trying to be set on a copy of a slice from a DataFrame\n",
      "\n",
      "See the caveats in the documentation: https://pandas.pydata.org/pandas-docs/stable/user_guide/indexing.html#returning-a-view-versus-a-copy\n",
      "  df.drop(columns=[a_col, b_col], inplace=True)\n",
      "/var/folders/yg/86tk2sbj33q27k386pfvdp5m0000gn/T/ipykernel_47542/3652672342.py:6: SettingWithCopyWarning: \n",
      "A value is trying to be set on a copy of a slice from a DataFrame.\n",
      "Try using .loc[row_indexer,col_indexer] = value instead\n",
      "\n",
      "See the caveats in the documentation: https://pandas.pydata.org/pandas-docs/stable/user_guide/indexing.html#returning-a-view-versus-a-copy\n",
      "  df[a_col.replace('_A', '')] = df[a_col] - df[b_col]\n",
      "/var/folders/yg/86tk2sbj33q27k386pfvdp5m0000gn/T/ipykernel_47542/3652672342.py:7: SettingWithCopyWarning: \n",
      "A value is trying to be set on a copy of a slice from a DataFrame\n",
      "\n",
      "See the caveats in the documentation: https://pandas.pydata.org/pandas-docs/stable/user_guide/indexing.html#returning-a-view-versus-a-copy\n",
      "  df.drop(columns=[a_col, b_col], inplace=True)\n",
      "/var/folders/yg/86tk2sbj33q27k386pfvdp5m0000gn/T/ipykernel_47542/3652672342.py:6: SettingWithCopyWarning: \n",
      "A value is trying to be set on a copy of a slice from a DataFrame.\n",
      "Try using .loc[row_indexer,col_indexer] = value instead\n",
      "\n",
      "See the caveats in the documentation: https://pandas.pydata.org/pandas-docs/stable/user_guide/indexing.html#returning-a-view-versus-a-copy\n",
      "  df[a_col.replace('_A', '')] = df[a_col] - df[b_col]\n",
      "/var/folders/yg/86tk2sbj33q27k386pfvdp5m0000gn/T/ipykernel_47542/3652672342.py:7: SettingWithCopyWarning: \n",
      "A value is trying to be set on a copy of a slice from a DataFrame\n",
      "\n",
      "See the caveats in the documentation: https://pandas.pydata.org/pandas-docs/stable/user_guide/indexing.html#returning-a-view-versus-a-copy\n",
      "  df.drop(columns=[a_col, b_col], inplace=True)\n",
      "/var/folders/yg/86tk2sbj33q27k386pfvdp5m0000gn/T/ipykernel_47542/3652672342.py:6: SettingWithCopyWarning: \n",
      "A value is trying to be set on a copy of a slice from a DataFrame.\n",
      "Try using .loc[row_indexer,col_indexer] = value instead\n",
      "\n",
      "See the caveats in the documentation: https://pandas.pydata.org/pandas-docs/stable/user_guide/indexing.html#returning-a-view-versus-a-copy\n",
      "  df[a_col.replace('_A', '')] = df[a_col] - df[b_col]\n",
      "/var/folders/yg/86tk2sbj33q27k386pfvdp5m0000gn/T/ipykernel_47542/3652672342.py:7: SettingWithCopyWarning: \n",
      "A value is trying to be set on a copy of a slice from a DataFrame\n",
      "\n",
      "See the caveats in the documentation: https://pandas.pydata.org/pandas-docs/stable/user_guide/indexing.html#returning-a-view-versus-a-copy\n",
      "  df.drop(columns=[a_col, b_col], inplace=True)\n",
      "/var/folders/yg/86tk2sbj33q27k386pfvdp5m0000gn/T/ipykernel_47542/3652672342.py:6: SettingWithCopyWarning: \n",
      "A value is trying to be set on a copy of a slice from a DataFrame.\n",
      "Try using .loc[row_indexer,col_indexer] = value instead\n",
      "\n",
      "See the caveats in the documentation: https://pandas.pydata.org/pandas-docs/stable/user_guide/indexing.html#returning-a-view-versus-a-copy\n",
      "  df[a_col.replace('_A', '')] = df[a_col] - df[b_col]\n",
      "/var/folders/yg/86tk2sbj33q27k386pfvdp5m0000gn/T/ipykernel_47542/3652672342.py:7: SettingWithCopyWarning: \n",
      "A value is trying to be set on a copy of a slice from a DataFrame\n",
      "\n",
      "See the caveats in the documentation: https://pandas.pydata.org/pandas-docs/stable/user_guide/indexing.html#returning-a-view-versus-a-copy\n",
      "  df.drop(columns=[a_col, b_col], inplace=True)\n",
      "/var/folders/yg/86tk2sbj33q27k386pfvdp5m0000gn/T/ipykernel_47542/3652672342.py:6: SettingWithCopyWarning: \n",
      "A value is trying to be set on a copy of a slice from a DataFrame.\n",
      "Try using .loc[row_indexer,col_indexer] = value instead\n",
      "\n",
      "See the caveats in the documentation: https://pandas.pydata.org/pandas-docs/stable/user_guide/indexing.html#returning-a-view-versus-a-copy\n",
      "  df[a_col.replace('_A', '')] = df[a_col] - df[b_col]\n",
      "/var/folders/yg/86tk2sbj33q27k386pfvdp5m0000gn/T/ipykernel_47542/3652672342.py:7: SettingWithCopyWarning: \n",
      "A value is trying to be set on a copy of a slice from a DataFrame\n",
      "\n",
      "See the caveats in the documentation: https://pandas.pydata.org/pandas-docs/stable/user_guide/indexing.html#returning-a-view-versus-a-copy\n",
      "  df.drop(columns=[a_col, b_col], inplace=True)\n",
      "/var/folders/yg/86tk2sbj33q27k386pfvdp5m0000gn/T/ipykernel_47542/3652672342.py:6: SettingWithCopyWarning: \n",
      "A value is trying to be set on a copy of a slice from a DataFrame.\n",
      "Try using .loc[row_indexer,col_indexer] = value instead\n",
      "\n",
      "See the caveats in the documentation: https://pandas.pydata.org/pandas-docs/stable/user_guide/indexing.html#returning-a-view-versus-a-copy\n",
      "  df[a_col.replace('_A', '')] = df[a_col] - df[b_col]\n",
      "/var/folders/yg/86tk2sbj33q27k386pfvdp5m0000gn/T/ipykernel_47542/3652672342.py:7: SettingWithCopyWarning: \n",
      "A value is trying to be set on a copy of a slice from a DataFrame\n",
      "\n",
      "See the caveats in the documentation: https://pandas.pydata.org/pandas-docs/stable/user_guide/indexing.html#returning-a-view-versus-a-copy\n",
      "  df.drop(columns=[a_col, b_col], inplace=True)\n",
      "/var/folders/yg/86tk2sbj33q27k386pfvdp5m0000gn/T/ipykernel_47542/3652672342.py:6: SettingWithCopyWarning: \n",
      "A value is trying to be set on a copy of a slice from a DataFrame.\n",
      "Try using .loc[row_indexer,col_indexer] = value instead\n",
      "\n",
      "See the caveats in the documentation: https://pandas.pydata.org/pandas-docs/stable/user_guide/indexing.html#returning-a-view-versus-a-copy\n",
      "  df[a_col.replace('_A', '')] = df[a_col] - df[b_col]\n",
      "/var/folders/yg/86tk2sbj33q27k386pfvdp5m0000gn/T/ipykernel_47542/3652672342.py:7: SettingWithCopyWarning: \n",
      "A value is trying to be set on a copy of a slice from a DataFrame\n",
      "\n",
      "See the caveats in the documentation: https://pandas.pydata.org/pandas-docs/stable/user_guide/indexing.html#returning-a-view-versus-a-copy\n",
      "  df.drop(columns=[a_col, b_col], inplace=True)\n",
      "/var/folders/yg/86tk2sbj33q27k386pfvdp5m0000gn/T/ipykernel_47542/3652672342.py:6: SettingWithCopyWarning: \n",
      "A value is trying to be set on a copy of a slice from a DataFrame.\n",
      "Try using .loc[row_indexer,col_indexer] = value instead\n",
      "\n",
      "See the caveats in the documentation: https://pandas.pydata.org/pandas-docs/stable/user_guide/indexing.html#returning-a-view-versus-a-copy\n",
      "  df[a_col.replace('_A', '')] = df[a_col] - df[b_col]\n",
      "/var/folders/yg/86tk2sbj33q27k386pfvdp5m0000gn/T/ipykernel_47542/3652672342.py:7: SettingWithCopyWarning: \n",
      "A value is trying to be set on a copy of a slice from a DataFrame\n",
      "\n",
      "See the caveats in the documentation: https://pandas.pydata.org/pandas-docs/stable/user_guide/indexing.html#returning-a-view-versus-a-copy\n",
      "  df.drop(columns=[a_col, b_col], inplace=True)\n",
      "/var/folders/yg/86tk2sbj33q27k386pfvdp5m0000gn/T/ipykernel_47542/3652672342.py:6: SettingWithCopyWarning: \n",
      "A value is trying to be set on a copy of a slice from a DataFrame.\n",
      "Try using .loc[row_indexer,col_indexer] = value instead\n",
      "\n",
      "See the caveats in the documentation: https://pandas.pydata.org/pandas-docs/stable/user_guide/indexing.html#returning-a-view-versus-a-copy\n",
      "  df[a_col.replace('_A', '')] = df[a_col] - df[b_col]\n",
      "/var/folders/yg/86tk2sbj33q27k386pfvdp5m0000gn/T/ipykernel_47542/3652672342.py:7: SettingWithCopyWarning: \n",
      "A value is trying to be set on a copy of a slice from a DataFrame\n",
      "\n",
      "See the caveats in the documentation: https://pandas.pydata.org/pandas-docs/stable/user_guide/indexing.html#returning-a-view-versus-a-copy\n",
      "  df.drop(columns=[a_col, b_col], inplace=True)\n",
      "/var/folders/yg/86tk2sbj33q27k386pfvdp5m0000gn/T/ipykernel_47542/3652672342.py:6: SettingWithCopyWarning: \n",
      "A value is trying to be set on a copy of a slice from a DataFrame.\n",
      "Try using .loc[row_indexer,col_indexer] = value instead\n",
      "\n",
      "See the caveats in the documentation: https://pandas.pydata.org/pandas-docs/stable/user_guide/indexing.html#returning-a-view-versus-a-copy\n",
      "  df[a_col.replace('_A', '')] = df[a_col] - df[b_col]\n",
      "/var/folders/yg/86tk2sbj33q27k386pfvdp5m0000gn/T/ipykernel_47542/3652672342.py:7: SettingWithCopyWarning: \n",
      "A value is trying to be set on a copy of a slice from a DataFrame\n",
      "\n",
      "See the caveats in the documentation: https://pandas.pydata.org/pandas-docs/stable/user_guide/indexing.html#returning-a-view-versus-a-copy\n",
      "  df.drop(columns=[a_col, b_col], inplace=True)\n",
      "/var/folders/yg/86tk2sbj33q27k386pfvdp5m0000gn/T/ipykernel_47542/3652672342.py:6: SettingWithCopyWarning: \n",
      "A value is trying to be set on a copy of a slice from a DataFrame.\n",
      "Try using .loc[row_indexer,col_indexer] = value instead\n",
      "\n",
      "See the caveats in the documentation: https://pandas.pydata.org/pandas-docs/stable/user_guide/indexing.html#returning-a-view-versus-a-copy\n",
      "  df[a_col.replace('_A', '')] = df[a_col] - df[b_col]\n",
      "/var/folders/yg/86tk2sbj33q27k386pfvdp5m0000gn/T/ipykernel_47542/3652672342.py:7: SettingWithCopyWarning: \n",
      "A value is trying to be set on a copy of a slice from a DataFrame\n",
      "\n",
      "See the caveats in the documentation: https://pandas.pydata.org/pandas-docs/stable/user_guide/indexing.html#returning-a-view-versus-a-copy\n",
      "  df.drop(columns=[a_col, b_col], inplace=True)\n",
      "/var/folders/yg/86tk2sbj33q27k386pfvdp5m0000gn/T/ipykernel_47542/3652672342.py:6: SettingWithCopyWarning: \n",
      "A value is trying to be set on a copy of a slice from a DataFrame.\n",
      "Try using .loc[row_indexer,col_indexer] = value instead\n",
      "\n",
      "See the caveats in the documentation: https://pandas.pydata.org/pandas-docs/stable/user_guide/indexing.html#returning-a-view-versus-a-copy\n",
      "  df[a_col.replace('_A', '')] = df[a_col] - df[b_col]\n",
      "/var/folders/yg/86tk2sbj33q27k386pfvdp5m0000gn/T/ipykernel_47542/3652672342.py:7: SettingWithCopyWarning: \n",
      "A value is trying to be set on a copy of a slice from a DataFrame\n",
      "\n",
      "See the caveats in the documentation: https://pandas.pydata.org/pandas-docs/stable/user_guide/indexing.html#returning-a-view-versus-a-copy\n",
      "  df.drop(columns=[a_col, b_col], inplace=True)\n",
      "/var/folders/yg/86tk2sbj33q27k386pfvdp5m0000gn/T/ipykernel_47542/3652672342.py:6: SettingWithCopyWarning: \n",
      "A value is trying to be set on a copy of a slice from a DataFrame.\n",
      "Try using .loc[row_indexer,col_indexer] = value instead\n",
      "\n",
      "See the caveats in the documentation: https://pandas.pydata.org/pandas-docs/stable/user_guide/indexing.html#returning-a-view-versus-a-copy\n",
      "  df[a_col.replace('_A', '')] = df[a_col] - df[b_col]\n",
      "/var/folders/yg/86tk2sbj33q27k386pfvdp5m0000gn/T/ipykernel_47542/3652672342.py:7: SettingWithCopyWarning: \n",
      "A value is trying to be set on a copy of a slice from a DataFrame\n",
      "\n",
      "See the caveats in the documentation: https://pandas.pydata.org/pandas-docs/stable/user_guide/indexing.html#returning-a-view-versus-a-copy\n",
      "  df.drop(columns=[a_col, b_col], inplace=True)\n",
      "/var/folders/yg/86tk2sbj33q27k386pfvdp5m0000gn/T/ipykernel_47542/3652672342.py:6: SettingWithCopyWarning: \n",
      "A value is trying to be set on a copy of a slice from a DataFrame.\n",
      "Try using .loc[row_indexer,col_indexer] = value instead\n",
      "\n",
      "See the caveats in the documentation: https://pandas.pydata.org/pandas-docs/stable/user_guide/indexing.html#returning-a-view-versus-a-copy\n",
      "  df[a_col.replace('_A', '')] = df[a_col] - df[b_col]\n",
      "/var/folders/yg/86tk2sbj33q27k386pfvdp5m0000gn/T/ipykernel_47542/3652672342.py:7: SettingWithCopyWarning: \n",
      "A value is trying to be set on a copy of a slice from a DataFrame\n",
      "\n",
      "See the caveats in the documentation: https://pandas.pydata.org/pandas-docs/stable/user_guide/indexing.html#returning-a-view-versus-a-copy\n",
      "  df.drop(columns=[a_col, b_col], inplace=True)\n",
      "/var/folders/yg/86tk2sbj33q27k386pfvdp5m0000gn/T/ipykernel_47542/3652672342.py:6: SettingWithCopyWarning: \n",
      "A value is trying to be set on a copy of a slice from a DataFrame.\n",
      "Try using .loc[row_indexer,col_indexer] = value instead\n",
      "\n",
      "See the caveats in the documentation: https://pandas.pydata.org/pandas-docs/stable/user_guide/indexing.html#returning-a-view-versus-a-copy\n",
      "  df[a_col.replace('_A', '')] = df[a_col] - df[b_col]\n",
      "/var/folders/yg/86tk2sbj33q27k386pfvdp5m0000gn/T/ipykernel_47542/3652672342.py:7: SettingWithCopyWarning: \n",
      "A value is trying to be set on a copy of a slice from a DataFrame\n",
      "\n",
      "See the caveats in the documentation: https://pandas.pydata.org/pandas-docs/stable/user_guide/indexing.html#returning-a-view-versus-a-copy\n",
      "  df.drop(columns=[a_col, b_col], inplace=True)\n",
      "/var/folders/yg/86tk2sbj33q27k386pfvdp5m0000gn/T/ipykernel_47542/3652672342.py:6: SettingWithCopyWarning: \n",
      "A value is trying to be set on a copy of a slice from a DataFrame.\n",
      "Try using .loc[row_indexer,col_indexer] = value instead\n",
      "\n",
      "See the caveats in the documentation: https://pandas.pydata.org/pandas-docs/stable/user_guide/indexing.html#returning-a-view-versus-a-copy\n",
      "  df[a_col.replace('_A', '')] = df[a_col] - df[b_col]\n",
      "/var/folders/yg/86tk2sbj33q27k386pfvdp5m0000gn/T/ipykernel_47542/3652672342.py:7: SettingWithCopyWarning: \n",
      "A value is trying to be set on a copy of a slice from a DataFrame\n",
      "\n",
      "See the caveats in the documentation: https://pandas.pydata.org/pandas-docs/stable/user_guide/indexing.html#returning-a-view-versus-a-copy\n",
      "  df.drop(columns=[a_col, b_col], inplace=True)\n",
      "/var/folders/yg/86tk2sbj33q27k386pfvdp5m0000gn/T/ipykernel_47542/3652672342.py:6: SettingWithCopyWarning: \n",
      "A value is trying to be set on a copy of a slice from a DataFrame.\n",
      "Try using .loc[row_indexer,col_indexer] = value instead\n",
      "\n",
      "See the caveats in the documentation: https://pandas.pydata.org/pandas-docs/stable/user_guide/indexing.html#returning-a-view-versus-a-copy\n",
      "  df[a_col.replace('_A', '')] = df[a_col] - df[b_col]\n",
      "/var/folders/yg/86tk2sbj33q27k386pfvdp5m0000gn/T/ipykernel_47542/3652672342.py:7: SettingWithCopyWarning: \n",
      "A value is trying to be set on a copy of a slice from a DataFrame\n",
      "\n",
      "See the caveats in the documentation: https://pandas.pydata.org/pandas-docs/stable/user_guide/indexing.html#returning-a-view-versus-a-copy\n",
      "  df.drop(columns=[a_col, b_col], inplace=True)\n",
      "/var/folders/yg/86tk2sbj33q27k386pfvdp5m0000gn/T/ipykernel_47542/3652672342.py:6: SettingWithCopyWarning: \n",
      "A value is trying to be set on a copy of a slice from a DataFrame.\n",
      "Try using .loc[row_indexer,col_indexer] = value instead\n",
      "\n",
      "See the caveats in the documentation: https://pandas.pydata.org/pandas-docs/stable/user_guide/indexing.html#returning-a-view-versus-a-copy\n",
      "  df[a_col.replace('_A', '')] = df[a_col] - df[b_col]\n",
      "/var/folders/yg/86tk2sbj33q27k386pfvdp5m0000gn/T/ipykernel_47542/3652672342.py:7: SettingWithCopyWarning: \n",
      "A value is trying to be set on a copy of a slice from a DataFrame\n",
      "\n",
      "See the caveats in the documentation: https://pandas.pydata.org/pandas-docs/stable/user_guide/indexing.html#returning-a-view-versus-a-copy\n",
      "  df.drop(columns=[a_col, b_col], inplace=True)\n"
     ]
    }
   ],
   "source": [
    "# make net scores\n",
    "def net_score(df):\n",
    "    a_columns = [col for col in df.columns if '_A' in col]\n",
    "    b_columns = [col for col in df.columns if '_B' in col]\n",
    "    for a_col, b_col in zip(a_columns, b_columns):\n",
    "        df[a_col.replace('_A', '')] = df[a_col] - df[b_col]\n",
    "        df.drop(columns=[a_col, b_col], inplace=True)\n",
    "    return df\n",
    "\n",
    "stat_cols = ['PTS_A', 'FGM_A', 'FGA_A', 'FG_PCT_A', 'FG3M_A', 'FG3A_A', 'FG3_PCT_A',\n",
    "       'FTM_A', 'FTA_A', 'FT_PCT_A', 'OREB_A', 'DREB_A', 'REB_A', 'AST_A',\n",
    "       'STL_A', 'BLK_A', 'TOV_A', 'PF_A', 'PLUS_MINUS_A', 'PTS_B', 'FGM_B',\n",
    "       'FGA_B', 'FG_PCT_B', 'FG3M_B', 'FG3A_B', 'FG3_PCT_B', 'FTM_B', 'FTA_B',\n",
    "       'FT_PCT_B', 'OREB_B', 'DREB_B', 'REB_B', 'AST_B', 'STL_B', 'BLK_B',\n",
    "       'TOV_B', 'PF_B', 'PLUS_MINUS_B']\n",
    "non_stat_cols = [col for col in all_games.columns if col not in stat_cols]\n",
    "non_stat_df = all_games[non_stat_cols]\n",
    "stat_df = all_games[stat_cols]\n",
    "stat_df = net_score(stat_df)\n"
   ]
  },
  {
   "cell_type": "markdown",
   "metadata": {},
   "source": [
    "## Making Estimators"
   ]
  },
  {
   "cell_type": "markdown",
   "metadata": {},
   "source": [
    "### Estimator 1: Logistic Regression"
   ]
  },
  {
   "cell_type": "code",
   "execution_count": 191,
   "metadata": {},
   "outputs": [
    {
     "name": "stdout",
     "output_type": "stream",
     "text": [
      "(37945, 8)\n",
      "(37945,)\n"
     ]
    }
   ],
   "source": [
    "X_train, X_test, y_train, y_test = data_prep(resample_majority=False)"
   ]
  },
  {
   "cell_type": "code",
   "execution_count": 192,
   "metadata": {},
   "outputs": [
    {
     "name": "stdout",
     "output_type": "stream",
     "text": [
      "Fitting 5 folds for each of 12 candidates, totalling 60 fits\n",
      "[CV] END ..........................C=0.05, class_weight=None; total time=   0.0s\n",
      "[CV] END ......................C=0.05, class_weight=balanced; total time=   0.0s\n",
      "[CV] END ......................C=0.05, class_weight=balanced; total time=   0.0s\n",
      "[CV] END ......................C=0.05, class_weight=balanced; total time=   0.0s\n",
      "[CV] END ......................C=0.05, class_weight=balanced; total time=   0.0s\n",
      "[CV] END ......................C=0.05, class_weight=balanced; total time=   0.0s\n",
      "[CV] END ..........................C=0.05, class_weight=None; total time=   0.0s\n",
      "[CV] END ..........................C=0.05, class_weight=None; total time=   0.0s\n",
      "[CV] END ..........................C=0.05, class_weight=None; total time=   0.0s\n",
      "[CV] END ..........................C=0.05, class_weight=None; total time=   0.0s\n",
      "[CV] END .......................C=0.1, class_weight=balanced; total time=   0.0s\n",
      "[CV] END .......................C=0.1, class_weight=balanced; total time=   0.0s\n",
      "[CV] END .......................C=0.1, class_weight=balanced; total time=   0.0s\n",
      "[CV] END .......................C=0.1, class_weight=balanced; total time=   0.0s\n",
      "[CV] END ...........................C=0.1, class_weight=None; total time=   0.0s\n",
      "[CV] END .......................C=0.1, class_weight=balanced; total time=   0.0s\n",
      "[CV] END ...........................C=0.1, class_weight=None; total time=   0.0s\n",
      "[CV] END ...........................C=0.1, class_weight=None; total time=   0.0s\n",
      "[CV] END ...........................C=0.1, class_weight=None; total time=   0.0s\n",
      "[CV] END ...........................C=0.1, class_weight=None; total time=   0.0s\n",
      "[CV] END .........................C=1, class_weight=balanced; total time=   0.0s\n",
      "[CV] END .........................C=1, class_weight=balanced; total time=   0.0s\n",
      "[CV] END .........................C=1, class_weight=balanced; total time=   0.0s\n",
      "[CV] END .........................C=1, class_weight=balanced; total time=   0.0s\n",
      "[CV] END .........................C=1, class_weight=balanced; total time=   0.0s\n",
      "[CV] END .............................C=1, class_weight=None; total time=   0.0s\n",
      "[CV] END .............................C=1, class_weight=None; total time=   0.0s\n",
      "[CV] END .............................C=1, class_weight=None; total time=   0.0s\n",
      "[CV] END .............................C=1, class_weight=None; total time=   0.0s\n",
      "[CV] END .............................C=1, class_weight=None; total time=   0.0s\n",
      "[CV] END ........................C=10, class_weight=balanced; total time=   0.0s\n",
      "[CV] END ........................C=10, class_weight=balanced; total time=   0.0s\n",
      "[CV] END ........................C=10, class_weight=balanced; total time=   0.0s\n",
      "[CV] END ........................C=10, class_weight=balanced; total time=   0.0s\n",
      "[CV] END ........................C=10, class_weight=balanced; total time=   0.0s\n",
      "[CV] END ............................C=10, class_weight=None; total time=   0.0s\n",
      "[CV] END ............................C=10, class_weight=None; total time=   0.0s\n",
      "[CV] END ............................C=10, class_weight=None; total time=   0.0s\n",
      "[CV] END ............................C=10, class_weight=None; total time=   0.0s\n",
      "[CV] END ............................C=10, class_weight=None; total time=   0.0s\n",
      "[CV] END .......................C=100, class_weight=balanced; total time=   0.0s\n",
      "[CV] END .......................C=100, class_weight=balanced; total time=   0.0s\n",
      "[CV] END .......................C=100, class_weight=balanced; total time=   0.0s\n",
      "[CV] END .......................C=100, class_weight=balanced; total time=   0.0s\n",
      "[CV] END .......................C=100, class_weight=balanced; total time=   0.0s\n",
      "[CV] END ...........................C=100, class_weight=None; total time=   0.0s\n",
      "[CV] END ...........................C=100, class_weight=None; total time=   0.0s\n",
      "[CV] END ...........................C=100, class_weight=None; total time=   0.0s\n",
      "[CV] END ...........................C=100, class_weight=None; total time=   0.0s\n",
      "[CV] END ...........................C=100, class_weight=None; total time=   0.0s\n",
      "[CV] END ......................C=1000, class_weight=balanced; total time=   0.0s\n",
      "[CV] END ......................C=1000, class_weight=balanced; total time=   0.0s\n",
      "[CV] END ......................C=1000, class_weight=balanced; total time=   0.0s\n",
      "[CV] END ......................C=1000, class_weight=balanced; total time=   0.0s\n",
      "[CV] END ..........................C=1000, class_weight=None; total time=   0.0s\n",
      "[CV] END ......................C=1000, class_weight=balanced; total time=   0.0s\n",
      "[CV] END ..........................C=1000, class_weight=None; total time=   0.0s\n",
      "[CV] END ..........................C=1000, class_weight=None; total time=   0.0s\n",
      "[CV] END ..........................C=1000, class_weight=None; total time=   0.0s\n",
      "[CV] END ..........................C=1000, class_weight=None; total time=   0.0s\n",
      "{'C': 0.05, 'class_weight': None}\n"
     ]
    }
   ],
   "source": [
    "\n",
    "# logistic_model\n",
    "lr_model = sklearn.linear_model.LogisticRegression()\n",
    "param_grid = {\n",
    "    'C': [0.05, 0.1, 1, 10, 100, 1000],\n",
    "    'class_weight': ['balanced', None]\n",
    "    }\n",
    "# grid search\n",
    "grid_search = GridSearchCV(estimator=lr_model, param_grid=param_grid, \n",
    "                           cv=5, n_jobs=-1, verbose=2, scoring='accuracy', refit=True)\n",
    "grid_search.fit(X_train, y_train)\n",
    "print(grid_search.best_params_)\n",
    "lr_model = grid_search.best_estimator_\n",
    "y_pred = lr_model.predict(X_test)"
   ]
  },
  {
   "cell_type": "code",
   "execution_count": 193,
   "metadata": {},
   "outputs": [
    {
     "name": "stdout",
     "output_type": "stream",
     "text": [
      "Classification Report:\n",
      "              precision    recall  f1-score   support\n",
      "\n",
      "           0       0.53      0.06      0.11      3067\n",
      "           1       0.60      0.97      0.74      4522\n",
      "\n",
      "    accuracy                           0.60      7589\n",
      "   macro avg       0.57      0.51      0.42      7589\n",
      "weighted avg       0.57      0.60      0.48      7589\n",
      "\n"
     ]
    },
    {
     "data": {
      "image/png": "[encoded data removed]",
      "text/plain": [
       "<Figure size 640x480 with 2 Axes>"
      ]
     },
     "metadata": {},
     "output_type": "display_data"
    }
   ],
   "source": [
    "report = metrics.classification_report(y_test, y_pred, zero_division=1)\n",
    "print(\"Classification Report:\")\n",
    "print(report)\n",
    "\n",
    "#confusion matrix\n",
    "confusionmatrix = metrics.confusion_matrix(y_test, y_pred)\n",
    "disp = metrics.ConfusionMatrixDisplay(confusion_matrix=confusionmatrix)\n",
    "disp.plot()\n",
    "plt.show()"
   ]
  },
  {
   "cell_type": "markdown",
   "metadata": {},
   "source": [
    "### Estimator 2: XGBoost"
   ]
  },
  {
   "cell_type": "code",
   "execution_count": 17,
   "metadata": {},
   "outputs": [
    {
     "ename": "AttributeError",
     "evalue": "module 'xgboost' has no attribute 'XGBClassifier'",
     "output_type": "error",
     "traceback": [
      "\u001b[0;31m---------------------------------------------------------------------------\u001b[0m",
      "\u001b[0;31mAttributeError\u001b[0m                            Traceback (most recent call last)",
      "Cell \u001b[0;32mIn[17], line 1\u001b[0m\n\u001b[0;32m----> 1\u001b[0m xgb_model \u001b[38;5;241m=\u001b[39m \u001b[43mxgb\u001b[49m\u001b[38;5;241;43m.\u001b[39;49m\u001b[43mXGBClassifier\u001b[49m(objective\u001b[38;5;241m=\u001b[39m\u001b[38;5;124m'\u001b[39m\u001b[38;5;124mreg:logistic\u001b[39m\u001b[38;5;124m'\u001b[39m, num_class\u001b[38;5;241m=\u001b[39m\u001b[38;5;241m3\u001b[39m)\n\u001b[1;32m      2\u001b[0m xgb_model\u001b[38;5;241m.\u001b[39mfit(X_train, y_train)\n\u001b[1;32m      3\u001b[0m y_pred \u001b[38;5;241m=\u001b[39m xgb_model\u001b[38;5;241m.\u001b[39mpredict(X_test)\n",
      "\u001b[0;31mAttributeError\u001b[0m: module 'xgboost' has no attribute 'XGBClassifier'"
     ]
    }
   ],
   "source": [
    "xgb_model = xgb.XGBClassifier(objective='reg:logistic', num_class=3)\n",
    "xgb_model.fit(X_train, y_train)\n",
    "y_pred = xgb_model.predict(X_test)\n",
    "\n",
    "report = metrics.classification_report(y_test, y_pred, zero_division=1)\n",
    "print(\"Classification Report:\")\n",
    "print(report)\n",
    "\n",
    "#confusion matrix\n",
    "confusionmatrix = metrics.confusion_matrix(y_test, y_pred)\n",
    "disp = metrics.ConfusionMatrixDisplay(confusion_matrix=confusionmatrix)\n",
    "disp.plot()\n",
    "plt.show()"
   ]
  },
  {
   "cell_type": "markdown",
   "metadata": {},
   "source": [
    "### Estimator 3: Nueral Network"
   ]
  },
  {
   "cell_type": "code",
   "execution_count": 161,
   "metadata": {},
   "outputs": [
    {
     "name": "stdout",
     "output_type": "stream",
     "text": [
      "(37945, 16)\n",
      "(37945,)\n"
     ]
    }
   ],
   "source": [
    "X_train, X_test, y_train, y_test = data_prep(resample_majority=True)\n"
   ]
  },
  {
   "cell_type": "code",
   "execution_count": 162,
   "metadata": {},
   "outputs": [
    {
     "name": "stderr",
     "output_type": "stream",
     "text": [
      "/Users/akaman150/Desktop/nba_predictor_development/.conda/lib/python3.10/site-packages/keras/src/layers/core/dense.py:87: UserWarning: Do not pass an `input_shape`/`input_dim` argument to a layer. When using Sequential models, prefer using an `Input(shape)` object as the first layer in the model instead.\n",
      "  super().__init__(activity_regularizer=activity_regularizer, **kwargs)\n"
     ]
    },
    {
     "name": "stdout",
     "output_type": "stream",
     "text": [
      "\u001b[1m238/238\u001b[0m \u001b[32m━━━━━━━━━━━━━━━━━━━━\u001b[0m\u001b[37m\u001b[0m \u001b[1m0s\u001b[0m 339us/step - binary_accuracy: 0.6085 - loss: 0.6766\n",
      "Test accuracy: 0.5946764945983887\n",
      "\u001b[1m238/238\u001b[0m \u001b[32m━━━━━━━━━━━━━━━━━━━━\u001b[0m\u001b[37m\u001b[0m \u001b[1m0s\u001b[0m 516us/step\n"
     ]
    }
   ],
   "source": [
    "\n",
    "# defining the model\n",
    "NN_model = Sequential([\n",
    "    Dense(64, input_shape=(16,), activation='relu'),  # Input layer with 12 features\n",
    "    Dropout(0.01),\n",
    "    BatchNormalization(),\n",
    "    Dense(64, activation='relu', kernel_regularizer=l2(0.02)),   # Hidden layer\n",
    "    Dropout(0.01),\n",
    "    BatchNormalization(),\n",
    "    Dense(64, activation='relu', kernel_regularizer=l2(0.02)),   # Hidden layer\n",
    "    Dropout(0.01),\n",
    "    BatchNormalization(),\n",
    "    Dense(32, activation='relu'),   # Hidden layer\n",
    "    Dropout(0.01),\n",
    "    BatchNormalization(),\n",
    "    # Dense(12, activation='relu', kernel_regularizer=l2(0.01)),   # Hidden layer\n",
    "    Dense(1, activation='sigmoid') # Output layer for binary classification\n",
    "])\n",
    "\n",
    "optimizer = tf.keras.optimizers.Adam(learning_rate=0.01)\n",
    "\n",
    "NN_model.compile(optimizer=optimizer, # optimizer for gradient descent\n",
    "              loss='binary_crossentropy', # loss function for binary classification\n",
    "              metrics=['binary_accuracy'])\n",
    "\n",
    "history = NN_model.fit(X_train, y_train, epochs=30, batch_size=40, validation_split=0.2, verbose=0)\n",
    "NN_model.estimator_type = \"classifier\"\n",
    "\n",
    "# Wrap the Keras model using KerasClassifier\n",
    "# this is because sklearn needs to be sure that the keras model is a classifier\n",
    "nn_model_classifier = KerasClassifier(model=NN_model, epochs=30, batch_size=5, validation_split=0.2, verbose=0)\n",
    "nn_model_classifier._estimator_type = \"classifier\"\n",
    "\n",
    "test_loss, test_accuracy = NN_model.evaluate(X_test, y_test)\n",
    "print('Test accuracy: {}'.format(test_accuracy))\n",
    "NN_y_pred = NN_model.predict(X_test)"
   ]
  },
  {
   "cell_type": "code",
   "execution_count": 163,
   "metadata": {},
   "outputs": [
    {
     "name": "stdout",
     "output_type": "stream",
     "text": [
      "\u001b[1m238/238\u001b[0m \u001b[32m━━━━━━━━━━━━━━━━━━━━\u001b[0m\u001b[37m\u001b[0m \u001b[1m0s\u001b[0m 340us/step\n",
      "Classification Report:\n",
      "              precision    recall  f1-score   support\n",
      "\n",
      "           0       0.44      0.62      0.52      3067\n",
      "           1       0.65      0.47      0.54      4522\n",
      "\n",
      "    accuracy                           0.53      7589\n",
      "   macro avg       0.54      0.54      0.53      7589\n",
      "weighted avg       0.56      0.53      0.53      7589\n",
      "\n"
     ]
    },
    {
     "data": {
      "image/png": "[encoded data removed]",
      "text/plain": [
       "<Figure size 640x480 with 2 Axes>"
      ]
     },
     "metadata": {},
     "output_type": "display_data"
    }
   ],
   "source": [
    "# plt.plot(history.history['binary_accuracy'])\n",
    "# plt.plot(history.history['val_binary_accuracy'])\n",
    "# plt.title('Model accuracy')\n",
    "# plt.ylabel('Accuracy')\n",
    "# plt.xlabel('Epoch')\n",
    "# plt.legend(['Train', 'Validation'], loc='upper left')\n",
    "# # plt.show()\n",
    "\n",
    "# plt.plot(history.history['loss'])\n",
    "# plt.plot(history.history['val_loss'])\n",
    "# plt.title('Model loss')\n",
    "# plt.ylabel('Loss')\n",
    "# plt.xlabel('Epoch')\n",
    "# plt.legend(['Train', 'Validation'], loc='upper left')\n",
    "# plt.show()\n",
    "\n",
    "# Set a threshold (e.g., 0.5) to convert probabilities to binary class labels\n",
    "NN_y_pred = NN_model.predict(X_test)\n",
    "threshold = 0.57\n",
    "NN_y_pred = (NN_y_pred >= threshold).astype(int)\n",
    "report = metrics.classification_report(y_test, NN_y_pred, zero_division=1)\n",
    "print(\"Classification Report:\")\n",
    "print(report)\n",
    "\n",
    "#confusion matrix\n",
    "confusionmatrix = metrics.confusion_matrix(y_test, NN_y_pred)\n",
    "disp = metrics.ConfusionMatrixDisplay(confusion_matrix=confusionmatrix)\n",
    "disp.plot()\n",
    "plt.show()"
   ]
  },
  {
   "cell_type": "markdown",
   "metadata": {},
   "source": [
    "### Estimator 4: "
   ]
  },
  {
   "cell_type": "code",
   "execution_count": 120,
   "metadata": {},
   "outputs": [
    {
     "name": "stdout",
     "output_type": "stream",
     "text": [
      "Classification Report:\n",
      "              precision    recall  f1-score   support\n",
      "\n",
      "           0       0.46      0.25      0.32      3067\n",
      "           1       0.61      0.80      0.69      4522\n",
      "\n",
      "    accuracy                           0.58      7589\n",
      "   macro avg       0.54      0.53      0.51      7589\n",
      "weighted avg       0.55      0.58      0.54      7589\n",
      "\n"
     ]
    },
    {
     "data": {
      "image/png": "[encoded data removed]",
      "text/plain": [
       "<Figure size 640x480 with 2 Axes>"
      ]
     },
     "metadata": {},
     "output_type": "display_data"
    }
   ],
   "source": [
    "# random forrest regressor\n",
    "\n",
    "\n",
    "# Create the parameter grid based on the results of random search\n",
    "# param_grid = {\n",
    "#     'max_depth': [80, 90, 100, 110],\n",
    "#     'max_features': [2, 3],\n",
    "#     'min_samples_leaf': [3, 4, 5],\n",
    "#     'n_estimators': [100, 200, 300, 1000]\n",
    "# }\n",
    "\n",
    "rf = RandomForestClassifier()\n",
    "\n",
    "# grid_search = GridSearchCV(estimator = rf, param_grid = param_grid, \n",
    "#                           cv = 3, n_jobs = -1, verbose = 2)\n",
    "\n",
    "# grid_search.fit(X_train, y_train)\n",
    "# print(grid_search.best_params_)\n",
    "# rf_model = grid_search.best_estimator_\n",
    "\n",
    "rf.fit(X_train, y_train)\n",
    "rf_y_pred = rf.predict_proba(X_test)[:, 1]\n",
    "\n",
    "# Set a threshold (e.g., 0.5) to convert probabilities to binary class labels\n",
    "threshold = 0.52\n",
    "rf_y_pred = (rf_y_pred >= threshold).astype(int)\n",
    "\n",
    "\n",
    "report = metrics.classification_report(y_test, rf_y_pred, zero_division=1)\n",
    "print(\"Classification Report:\")\n",
    "print(report)\n",
    "\n",
    "#confusion matrix\n",
    "confusionmatrix = metrics.confusion_matrix(y_test, rf_y_pred)\n",
    "disp = metrics.ConfusionMatrixDisplay(confusion_matrix=confusionmatrix)\n",
    "disp.plot()\n",
    "plt.show()"
   ]
  },
  {
   "cell_type": "code",
   "execution_count": 215,
   "metadata": {},
   "outputs": [
    {
     "name": "stdout",
     "output_type": "stream",
     "text": [
      "Fitting 3 folds for each of 3 candidates, totalling 9 fits\n",
      "[CV] END ................................var_smoothing=1e-10; total time=   0.0s\n",
      "[CV] END ................................var_smoothing=1e-10; total time=   0.0s\n",
      "[CV] END ................................var_smoothing=1e-11; total time=   0.0s\n",
      "[CV] END ................................var_smoothing=1e-09; total time=   0.0s\n",
      "[CV] END ................................var_smoothing=1e-10; total time=   0.0s\n",
      "[CV] END ................................var_smoothing=1e-09; total time=   0.0s\n",
      "[CV] END ................................var_smoothing=1e-11; total time=   0.0s\n",
      "[CV] END ................................var_smoothing=1e-11; total time=   0.0s\n",
      "[CV] END ................................var_smoothing=1e-09; total time=   0.0s\n",
      "{'var_smoothing': 1e-10}\n",
      "Classification Report:\n",
      "              precision    recall  f1-score   support\n",
      "\n",
      "           0       0.53      0.07      0.12      3067\n",
      "           1       0.60      0.96      0.74      4522\n",
      "\n",
      "    accuracy                           0.60      7589\n",
      "   macro avg       0.56      0.51      0.43      7589\n",
      "weighted avg       0.57      0.60      0.49      7589\n",
      "\n"
     ]
    },
    {
     "data": {
      "image/png": "[encoded data removed]",
      "text/plain": [
       "<Figure size 640x480 with 2 Axes>"
      ]
     },
     "metadata": {},
     "output_type": "display_data"
    }
   ],
   "source": [
    "# gaussian naive bayes\n",
    "gnb_model = GaussianNB()\n",
    "\n",
    "param_grid = {\n",
    "    'var_smoothing': [1e-10, 1e-11, 1e-9]\n",
    "}\n",
    "\n",
    "grid_search = GridSearchCV(estimator = gnb_model, param_grid = param_grid, \n",
    "                          cv = 3, n_jobs = -1, verbose = 2, scoring='accuracy', refit=True)\n",
    "grid_search.fit(X_train, y_train)\n",
    "print(grid_search.best_params_)\n",
    "gnb_model = grid_search.best_estimator_\n",
    "gnb_y_pred = gnb_model.predict(X_test)\n",
    "\n",
    "\n",
    "report = metrics.classification_report(y_test, gnb_y_pred, zero_division=1)\n",
    "print(\"Classification Report:\")\n",
    "print(report)\n",
    "\n",
    "#confusion matrix\n",
    "confusionmatrix = metrics.confusion_matrix(y_test, gnb_y_pred)\n",
    "disp = metrics.ConfusionMatrixDisplay(confusion_matrix=confusionmatrix)\n",
    "disp.plot()\n",
    "plt.show()"
   ]
  },
  {
   "cell_type": "code",
   "execution_count": 216,
   "metadata": {},
   "outputs": [],
   "source": [
    "import pickle\n",
    "filename = 'gnb_4f_20g_model.sav'\n",
    "pickle.dump(gnb_model, open(filename, 'wb')) "
   ]
  },
  {
   "cell_type": "code",
   "execution_count": 124,
   "metadata": {},
   "outputs": [
    {
     "name": "stdout",
     "output_type": "stream",
     "text": [
      "Classification Report:\n",
      "              precision    recall  f1-score   support\n",
      "\n",
      "           0       0.53      0.08      0.14      3067\n",
      "           1       0.60      0.95      0.74      4522\n",
      "\n",
      "    accuracy                           0.60      7589\n",
      "   macro avg       0.57      0.52      0.44      7589\n",
      "weighted avg       0.57      0.60      0.50      7589\n",
      "\n"
     ]
    },
    {
     "data": {
      "image/png": "[encoded data removed]",
      "text/plain": [
       "<Figure size 640x480 with 2 Axes>"
      ]
     },
     "metadata": {},
     "output_type": "display_data"
    }
   ],
   "source": [
    "# svm\n",
    "svm = SVC()\n",
    "svm.fit(X_train, y_train)\n",
    "svm_y_pred = svm.predict(X_test)\n",
    "\n",
    "report = metrics.classification_report(y_test, svm_y_pred, zero_division=1)\n",
    "print(\"Classification Report:\")\n",
    "print(report)\n",
    "\n",
    "#confusion matrix\n",
    "confusionmatrix = metrics.confusion_matrix(y_test, svm_y_pred)\n",
    "disp = metrics.ConfusionMatrixDisplay(confusion_matrix=confusionmatrix)\n",
    "disp.plot()\n",
    "plt.show()"
   ]
  },
  {
   "cell_type": "code",
   "execution_count": 205,
   "metadata": {},
   "outputs": [
    {
     "name": "stdout",
     "output_type": "stream",
     "text": [
      "{'n_neighbors': 45, 'p': 2, 'weights': 'uniform'}\n",
      "Classification Report:\n",
      "              precision    recall  f1-score   support\n",
      "\n",
      "           0       0.44      0.16      0.24      3067\n",
      "           1       0.60      0.86      0.71      4522\n",
      "\n",
      "    accuracy                           0.58      7589\n",
      "   macro avg       0.52      0.51      0.47      7589\n",
      "weighted avg       0.54      0.58      0.52      7589\n",
      "\n"
     ]
    },
    {
     "data": {
      "image/png": "[encoded data removed]",
      "text/plain": [
       "<Figure size 640x480 with 2 Axes>"
      ]
     },
     "metadata": {},
     "output_type": "display_data"
    }
   ],
   "source": [
    "# knn\n",
    "\n",
    "from sklearn.neighbors import KNeighborsClassifier\n",
    "knn_model = KNeighborsClassifier()\n",
    "param_grid = {\n",
    "    'n_neighbors': [19, 25, 30, 35, 40, 45, 50],\n",
    "    'p' : [1, 2],\n",
    "    'weights' : ['uniform', 'distance']\n",
    "\n",
    "}\n",
    "grid_search = GridSearchCV(estimator = knn_model, param_grid = param_grid, \n",
    "                          cv = 3, n_jobs = -1, verbose = 0, scoring='accuracy')\n",
    "\n",
    "grid_search.fit(X_train, y_train)\n",
    "print(grid_search.best_params_)\n",
    "knn_model = grid_search.best_estimator_\n",
    "\n",
    "knn_y_pred = knn_model.predict(X_test)\n",
    "\n",
    "# Set a threshold\n",
    "# threshold = 0.50\n",
    "# knn_y_pred = (knn_y_pred >= threshold).astype(int)\n",
    "\n",
    "report = metrics.classification_report(y_test, knn_y_pred, zero_division=1)\n",
    "print(\"Classification Report:\")\n",
    "print(report)\n",
    "\n",
    "#confusion matrix\n",
    "confusionmatrix = metrics.confusion_matrix(y_test, knn_y_pred)\n",
    "disp = metrics.ConfusionMatrixDisplay(confusion_matrix=confusionmatrix)\n",
    "disp.plot()\n",
    "plt.show()"
   ]
  },
  {
   "cell_type": "markdown",
   "metadata": {},
   "source": [
    "## Ensemble model"
   ]
  },
  {
   "cell_type": "code",
   "execution_count": 13,
   "metadata": {},
   "outputs": [
    {
     "name": "stdout",
     "output_type": "stream",
     "text": [
      "Classification Report:\n",
      "              precision    recall  f1-score   support\n",
      "\n",
      "           0       0.84      0.84      0.84      3098\n",
      "           1       0.84      0.85      0.84      3164\n",
      "\n",
      "    accuracy                           0.84      6262\n",
      "   macro avg       0.84      0.84      0.84      6262\n",
      "weighted avg       0.84      0.84      0.84      6262\n",
      "\n"
     ]
    },
    {
     "data": {
      "image/png": "[encoded data removed]",
      "text/plain": [
       "<Figure size 640x480 with 2 Axes>"
      ]
     },
     "metadata": {},
     "output_type": "display_data"
    }
   ],
   "source": [
    "# Using the sklearn Voting Classifier\n",
    "\n",
    "# logistic_model = sklearn.linear_model.LogisticRegression()\n",
    "# gnb = GaussianNB()\n",
    "# svm = SVC()\n",
    "# rf = RandomForestClassifier()\n",
    "\n",
    "# Create the Voting Classifier\n",
    "voting_clf = VotingClassifier(\n",
    "    estimators=[('ler', lr_model), ('gnb', gnb), ('rf', rf)],\n",
    "    voting='soft'  # Use 'soft' for probability-based voting\n",
    ")\n",
    "\n",
    "# voting_clf.fit(X_train, y_train)\n",
    "# voting_y_pred = voting_clf.predict(X_test)\n",
    "\n",
    "# Set a threshold (e.g., 0.5) to convert probabilities to binary class labels\n",
    "# threshold = 0.5\n",
    "# voting_y_pred = (voting_y_pred >= threshold).astype(int)\n",
    "# report = metrics.classification_report(y_test, voting_y_pred, zero_division=1)\n",
    "# print(\"Classification Report:\")\n",
    "# print(report)\n",
    "\n",
    "#confusion matrix\n",
    "# confusionmatrix = metrics.confusion_matrix(y_test, voting_y_pred)\n",
    "# disp = metrics.ConfusionMatrixDisplay(confusion_matrix=confusionmatrix)\n",
    "# disp.plot()\n",
    "# plt.show()"
   ]
  },
  {
   "cell_type": "code",
   "execution_count": 166,
   "metadata": {},
   "outputs": [
    {
     "name": "stdout",
     "output_type": "stream",
     "text": [
      "(37945, 16)\n",
      "(37945,)\n"
     ]
    }
   ],
   "source": [
    "# Using seperately trained models\n",
    "X_train, X_test, y_train, y_test = data_prep(resample_majority=False)\n"
   ]
  },
  {
   "cell_type": "code",
   "execution_count": 174,
   "metadata": {},
   "outputs": [
    {
     "name": "stdout",
     "output_type": "stream",
     "text": [
      "\u001b[1m238/238\u001b[0m \u001b[32m━━━━━━━━━━━━━━━━━━━━\u001b[0m\u001b[37m\u001b[0m \u001b[1m0s\u001b[0m 499us/step\n",
      "Classification Report:\n",
      "              precision    recall  f1-score   support\n",
      "\n",
      "           0       0.50      0.00      0.00      3067\n",
      "           1       0.60      1.00      0.75      4522\n",
      "\n",
      "    accuracy                           0.60      7589\n",
      "   macro avg       0.55      0.50      0.37      7589\n",
      "weighted avg       0.56      0.60      0.45      7589\n",
      "\n"
     ]
    },
    {
     "data": {
      "image/png": "[encoded data removed]",
      "text/plain": [
       "<Figure size 640x480 with 2 Axes>"
      ]
     },
     "metadata": {},
     "output_type": "display_data"
    }
   ],
   "source": [
    "# Predict probabilities\n",
    "lr_probs = lr_model.predict_proba(X_test)[:, 1]\n",
    "kn_probs = knn_model.predict_proba(X_test)[:, 1]\n",
    "nn_probs = NN_model.predict(X_test).flatten()\n",
    "\n",
    "# Define different thresholds\n",
    "lr_threshold = 0.2\n",
    "knn_threshold = 0.2\n",
    "nn_threshold = 0.2\n",
    "\n",
    "# Apply thresholds\n",
    "lr_pred = (lr_probs >= lr_threshold).astype(int)\n",
    "kn_pred = (kn_probs >= knn_threshold).astype(int)\n",
    "nn_pred = (nn_probs >= nn_threshold).astype(int)\n",
    "\n",
    "# Combine predictions using majority voting\n",
    "combined_pred = (lr_pred + knn_threshold + nn_pred) >= 2  # Majority voting\n",
    "\n",
    "# Evaluate the combined predictions\n",
    "report = metrics.classification_report(y_test, combined_pred, zero_division=1)\n",
    "print(\"Classification Report:\")\n",
    "print(report)\n",
    "\n",
    "#confusion matrix\n",
    "confusionmatrix = metrics.confusion_matrix(y_test, combined_pred)\n",
    "disp = metrics.ConfusionMatrixDisplay(confusion_matrix=confusionmatrix)\n",
    "disp.plot()\n",
    "plt.show()"
   ]
  }
 ],
 "metadata": {
  "kernelspec": {
   "display_name": ".venv",
   "language": "python",
   "name": "python3"
  },
  "language_info": {
   "codemirror_mode": {
    "name": "ipython",
    "version": 3
   },
   "file_extension": ".py",
   "mimetype": "text/x-python",
   "name": "python",
   "nbconvert_exporter": "python",
   "pygments_lexer": "ipython3",
   "version": "3.10.14"
  }
 },
 "nbformat": 4,
 "nbformat_minor": 2
}
