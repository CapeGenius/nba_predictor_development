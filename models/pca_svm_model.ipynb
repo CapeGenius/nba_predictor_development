{
 "cells": [
  {
   "cell_type": "code",
   "execution_count": 19,
   "metadata": {},
   "outputs": [],
   "source": [
    "%matplotlib inline\n",
    "%load_ext autoreload\n",
    "%autoreload 2"
   ]
  },
  {
   "cell_type": "markdown",
   "metadata": {},
   "source": [
    "# Principal Component Analysis"
   ]
  },
  {
   "cell_type": "code",
   "execution_count": 20,
   "metadata": {},
   "outputs": [],
   "source": [
    "import numpy as np\n",
    "from sklearn import preprocessing\n",
    "\n",
    "def pca(data_array,principal_components,k):\n",
    "\n",
    "    # calculate the covariance matrix\n",
    "    covariance_matrix = np.cov(np.transpose(data_array))\n",
    "    w, eigenvectors = np.linalg.eig(covariance_matrix)\n",
    "    eigenvectors = np.real_if_close(eigenvectors, tol=1)\n",
    "\n",
    "    # tranposes eigenvectors\n",
    "    new_eigenvectors = preprocessing.normalize(np.transpose(eigenvectors))\n",
    "\n",
    "    # gets each principal component\n",
    "    for i in range(k):\n",
    "        principal_components[i] = new_eigenvectors[i]\n",
    "\n",
    "    # projected NBA team data onto these principal components\n",
    "    projected_components = np.transpose(\n",
    "        (data_array @ np.transpose(principal_components))\n",
    "    )\n",
    "\n",
    "    return np.transpose(projected_components)"
   ]
  },
  {
   "cell_type": "markdown",
   "metadata": {},
   "source": [
    "# Cleaning Data"
   ]
  },
  {
   "cell_type": "code",
   "execution_count": 21,
   "metadata": {},
   "outputs": [
    {
     "name": "stderr",
     "output_type": "stream",
     "text": [
      "/tmp/ipykernel_28105/2598323231.py:12: FutureWarning: A value is trying to be set on a copy of a DataFrame or Series through chained assignment using an inplace method.\n",
      "The behavior will change in pandas 3.0. This inplace method will never work because the intermediate object on which we are setting values always behaves as a copy.\n",
      "\n",
      "For example, when doing 'df[col].method(value, inplace=True)', try using 'df.method({col: value}, inplace=True)' or df[col] = df[col].method(value) instead, to perform the operation inplace on the original object.\n",
      "\n",
      "\n",
      "  nba_dataframe[\"NBA_FINALS_APPEARANCE\"].fillna(0.0, inplace=True)\n",
      "/tmp/ipykernel_28105/2598323231.py:14: FutureWarning: Downcasting behavior in `replace` is deprecated and will be removed in a future version. To retain the old behavior, explicitly call `result.infer_objects(copy=False)`. To opt-in to the future behavior, set `pd.set_option('future.no_silent_downcasting', True)`\n",
      "  nba_dataframe[\"NBA_FINALS_APPEARANCE\"].replace(\"LEAGUE CHAMPION\", 1, inplace=True)\n"
     ]
    },
    {
     "data": {
      "text/html": [
       "<div>\n",
       "<style scoped>\n",
       "    .dataframe tbody tr th:only-of-type {\n",
       "        vertical-align: middle;\n",
       "    }\n",
       "\n",
       "    .dataframe tbody tr th {\n",
       "        vertical-align: top;\n",
       "    }\n",
       "\n",
       "    .dataframe thead th {\n",
       "        text-align: right;\n",
       "    }\n",
       "</style>\n",
       "<table border=\"1\" class=\"dataframe\">\n",
       "  <thead>\n",
       "    <tr style=\"text-align: right;\">\n",
       "      <th></th>\n",
       "      <th>TEAM_ID</th>\n",
       "      <th>YEAR</th>\n",
       "      <th>NBA_FINALS_APPEARANCE</th>\n",
       "      <th>FGM</th>\n",
       "      <th>FGA</th>\n",
       "      <th>FG_PCT</th>\n",
       "      <th>FG3A</th>\n",
       "      <th>FTM</th>\n",
       "      <th>OREB</th>\n",
       "      <th>DREB</th>\n",
       "      <th>REB</th>\n",
       "      <th>AST</th>\n",
       "      <th>PTS</th>\n",
       "    </tr>\n",
       "  </thead>\n",
       "  <tbody>\n",
       "    <tr>\n",
       "      <th>0</th>\n",
       "      <td>1610612738</td>\n",
       "      <td>1996</td>\n",
       "      <td>0.0</td>\n",
       "      <td>3066</td>\n",
       "      <td>6967</td>\n",
       "      <td>0.440</td>\n",
       "      <td>1331</td>\n",
       "      <td>1649</td>\n",
       "      <td>1095</td>\n",
       "      <td>2188</td>\n",
       "      <td>3283</td>\n",
       "      <td>1792</td>\n",
       "      <td>8248</td>\n",
       "    </tr>\n",
       "    <tr>\n",
       "      <th>1</th>\n",
       "      <td>1610612748</td>\n",
       "      <td>1996</td>\n",
       "      <td>0.0</td>\n",
       "      <td>2822</td>\n",
       "      <td>6235</td>\n",
       "      <td>0.453</td>\n",
       "      <td>1865</td>\n",
       "      <td>1454</td>\n",
       "      <td>957</td>\n",
       "      <td>2402</td>\n",
       "      <td>3359</td>\n",
       "      <td>1735</td>\n",
       "      <td>7776</td>\n",
       "    </tr>\n",
       "    <tr>\n",
       "      <th>2</th>\n",
       "      <td>1610612756</td>\n",
       "      <td>1996</td>\n",
       "      <td>0.0</td>\n",
       "      <td>3143</td>\n",
       "      <td>6705</td>\n",
       "      <td>0.469</td>\n",
       "      <td>1428</td>\n",
       "      <td>1618</td>\n",
       "      <td>916</td>\n",
       "      <td>2376</td>\n",
       "      <td>3292</td>\n",
       "      <td>2067</td>\n",
       "      <td>8431</td>\n",
       "    </tr>\n",
       "    <tr>\n",
       "      <th>3</th>\n",
       "      <td>1610612755</td>\n",
       "      <td>1996</td>\n",
       "      <td>0.0</td>\n",
       "      <td>3003</td>\n",
       "      <td>6850</td>\n",
       "      <td>0.438</td>\n",
       "      <td>1356</td>\n",
       "      <td>1776</td>\n",
       "      <td>1267</td>\n",
       "      <td>2355</td>\n",
       "      <td>3622</td>\n",
       "      <td>1695</td>\n",
       "      <td>8215</td>\n",
       "    </tr>\n",
       "    <tr>\n",
       "      <th>4</th>\n",
       "      <td>1610612745</td>\n",
       "      <td>1996</td>\n",
       "      <td>0.0</td>\n",
       "      <td>3037</td>\n",
       "      <td>6484</td>\n",
       "      <td>0.468</td>\n",
       "      <td>1839</td>\n",
       "      <td>1503</td>\n",
       "      <td>927</td>\n",
       "      <td>2565</td>\n",
       "      <td>3492</td>\n",
       "      <td>2013</td>\n",
       "      <td>8248</td>\n",
       "    </tr>\n",
       "    <tr>\n",
       "      <th>...</th>\n",
       "      <td>...</td>\n",
       "      <td>...</td>\n",
       "      <td>...</td>\n",
       "      <td>...</td>\n",
       "      <td>...</td>\n",
       "      <td>...</td>\n",
       "      <td>...</td>\n",
       "      <td>...</td>\n",
       "      <td>...</td>\n",
       "      <td>...</td>\n",
       "      <td>...</td>\n",
       "      <td>...</td>\n",
       "      <td>...</td>\n",
       "    </tr>\n",
       "    <tr>\n",
       "      <th>827</th>\n",
       "      <td>1610612765</td>\n",
       "      <td>2023</td>\n",
       "      <td>0.0</td>\n",
       "      <td>3353</td>\n",
       "      <td>7236</td>\n",
       "      <td>0.463</td>\n",
       "      <td>2602</td>\n",
       "      <td>1398</td>\n",
       "      <td>861</td>\n",
       "      <td>2692</td>\n",
       "      <td>3553</td>\n",
       "      <td>2088</td>\n",
       "      <td>9010</td>\n",
       "    </tr>\n",
       "    <tr>\n",
       "      <th>828</th>\n",
       "      <td>1610612756</td>\n",
       "      <td>2023</td>\n",
       "      <td>0.0</td>\n",
       "      <td>3482</td>\n",
       "      <td>7063</td>\n",
       "      <td>0.493</td>\n",
       "      <td>2671</td>\n",
       "      <td>1548</td>\n",
       "      <td>831</td>\n",
       "      <td>2783</td>\n",
       "      <td>3614</td>\n",
       "      <td>2218</td>\n",
       "      <td>9532</td>\n",
       "    </tr>\n",
       "    <tr>\n",
       "      <th>829</th>\n",
       "      <td>1610612740</td>\n",
       "      <td>2023</td>\n",
       "      <td>0.0</td>\n",
       "      <td>3484</td>\n",
       "      <td>7165</td>\n",
       "      <td>0.486</td>\n",
       "      <td>2673</td>\n",
       "      <td>1445</td>\n",
       "      <td>852</td>\n",
       "      <td>2753</td>\n",
       "      <td>3605</td>\n",
       "      <td>2210</td>\n",
       "      <td>9436</td>\n",
       "    </tr>\n",
       "    <tr>\n",
       "      <th>830</th>\n",
       "      <td>1610612764</td>\n",
       "      <td>2023</td>\n",
       "      <td>0.0</td>\n",
       "      <td>3523</td>\n",
       "      <td>7493</td>\n",
       "      <td>0.470</td>\n",
       "      <td>2915</td>\n",
       "      <td>1266</td>\n",
       "      <td>755</td>\n",
       "      <td>2613</td>\n",
       "      <td>3368</td>\n",
       "      <td>2288</td>\n",
       "      <td>9327</td>\n",
       "    </tr>\n",
       "    <tr>\n",
       "      <th>831</th>\n",
       "      <td>1610612766</td>\n",
       "      <td>2023</td>\n",
       "      <td>0.0</td>\n",
       "      <td>3281</td>\n",
       "      <td>7133</td>\n",
       "      <td>0.460</td>\n",
       "      <td>2788</td>\n",
       "      <td>1189</td>\n",
       "      <td>765</td>\n",
       "      <td>2538</td>\n",
       "      <td>3303</td>\n",
       "      <td>2033</td>\n",
       "      <td>8740</td>\n",
       "    </tr>\n",
       "  </tbody>\n",
       "</table>\n",
       "<p>832 rows × 13 columns</p>\n",
       "</div>"
      ],
      "text/plain": [
       "        TEAM_ID  YEAR  NBA_FINALS_APPEARANCE   FGM   FGA  FG_PCT  FG3A   FTM  \\\n",
       "0    1610612738  1996                    0.0  3066  6967   0.440  1331  1649   \n",
       "1    1610612748  1996                    0.0  2822  6235   0.453  1865  1454   \n",
       "2    1610612756  1996                    0.0  3143  6705   0.469  1428  1618   \n",
       "3    1610612755  1996                    0.0  3003  6850   0.438  1356  1776   \n",
       "4    1610612745  1996                    0.0  3037  6484   0.468  1839  1503   \n",
       "..          ...   ...                    ...   ...   ...     ...   ...   ...   \n",
       "827  1610612765  2023                    0.0  3353  7236   0.463  2602  1398   \n",
       "828  1610612756  2023                    0.0  3482  7063   0.493  2671  1548   \n",
       "829  1610612740  2023                    0.0  3484  7165   0.486  2673  1445   \n",
       "830  1610612764  2023                    0.0  3523  7493   0.470  2915  1266   \n",
       "831  1610612766  2023                    0.0  3281  7133   0.460  2788  1189   \n",
       "\n",
       "     OREB  DREB   REB   AST   PTS  \n",
       "0    1095  2188  3283  1792  8248  \n",
       "1     957  2402  3359  1735  7776  \n",
       "2     916  2376  3292  2067  8431  \n",
       "3    1267  2355  3622  1695  8215  \n",
       "4     927  2565  3492  2013  8248  \n",
       "..    ...   ...   ...   ...   ...  \n",
       "827   861  2692  3553  2088  9010  \n",
       "828   831  2783  3614  2218  9532  \n",
       "829   852  2753  3605  2210  9436  \n",
       "830   755  2613  3368  2288  9327  \n",
       "831   765  2538  3303  2033  8740  \n",
       "\n",
       "[832 rows x 13 columns]"
      ]
     },
     "execution_count": 21,
     "metadata": {},
     "output_type": "execute_result"
    }
   ],
   "source": [
    "from api_helpers.team_stats_helpers import load_dataframe\n",
    "import pandas as pd\n",
    "\n",
    "nba_dataframe = load_dataframe(['FGM', 'FGA', 'FG_PCT', 'FG3A', 'FTM', 'OREB', 'DREB', 'REB', 'AST','PTS'])\n",
    "nba_dataframe = nba_dataframe.drop(nba_dataframe[nba_dataframe[\"FGM\"] == 0].index)\n",
    "nba_dataframe.sort_values(by='YEAR')\n",
    "\n",
    "nba_dataframe['YEAR'] = nba_dataframe['YEAR'].str.split('-').str[0]\n",
    "nba_dataframe['YEAR'] = pd.to_numeric(nba_dataframe['YEAR'])\n",
    "nba_dataframe.sort_values(by=\"YEAR\",inplace=True)\n",
    "\n",
    "nba_dataframe[\"NBA_FINALS_APPEARANCE\"].fillna(0.0, inplace=True)\n",
    "nba_dataframe[\"NBA_FINALS_APPEARANCE\"].replace(\"FINALS APPEARANCE\", 0, inplace=True)\n",
    "nba_dataframe[\"NBA_FINALS_APPEARANCE\"].replace(\"LEAGUE CHAMPION\", 1, inplace=True)\n",
    "\n",
    "nba_dataframe = nba_dataframe[nba_dataframe['YEAR'] >= 1996]\n",
    "nba_dataframe = nba_dataframe.reset_index(drop=True)\n",
    "\n",
    "nba_dataframe"
   ]
  },
  {
   "cell_type": "markdown",
   "metadata": {},
   "source": [
    "# Use PCA to get Top-K Components"
   ]
  },
  {
   "cell_type": "code",
   "execution_count": 25,
   "metadata": {},
   "outputs": [
    {
     "name": "stdout",
     "output_type": "stream",
     "text": [
      "832\n"
     ]
    }
   ],
   "source": [
    "# use principal component analysis to find the top k eigenvectors\n",
    "from tabulate import tabulate\n",
    "import numpy as np\n",
    "\n",
    "k = 2\n",
    "columns_list = ['FGM', 'FGA', 'FG_PCT', 'FG3A', 'FTM', 'OREB', 'DREB', 'REB', 'AST','PTS','NBA_FINALS_APPEARANCE']\n",
    "\n",
    "all_teams_array = np.array(nba_dataframe[columns_list])\n",
    "\n",
    "championship_teams_index = nba_dataframe.index[nba_dataframe[\"NBA_FINALS_APPEARANCE\"] == 1].to_list()\n",
    "\n",
    "principal_components = [[0] * len(all_teams_array)] * k\n",
    "\n",
    "top_k_components = pca(all_teams_array,principal_components,k)\n",
    "print(len(top_k_components))"
   ]
  },
  {
   "cell_type": "code",
   "execution_count": 26,
   "metadata": {},
   "outputs": [
    {
     "name": "stdout",
     "output_type": "stream",
     "text": [
      "2\n"
     ]
    }
   ],
   "source": [
    "# select champion teams\n",
    "print(len(top_k_components[0]))\n",
    "champion_k_component_1 = [top_k_components[idx][0] for idx in championship_teams_index]\n",
    "champion_k_component_2 = [top_k_components[idx][1] for idx in championship_teams_index]"
   ]
  },
  {
   "cell_type": "markdown",
   "metadata": {},
   "source": [
    "# Scatter Plot of Primary Component vs Secondary Component"
   ]
  },
  {
   "cell_type": "code",
   "execution_count": 27,
   "metadata": {},
   "outputs": [
    {
     "data": {
      "image/png": "[encoded data removed]",
      "text/plain": [
       "<Figure size 640x480 with 1 Axes>"
      ]
     },
     "metadata": {},
     "output_type": "display_data"
    }
   ],
   "source": [
    "# plot data\n",
    "from matplotlib import pyplot as plt\n",
    "\n",
    "components = np.transpose(top_k_components)\n",
    "\n",
    "plt.scatter(components[0],components[1],s=10)\n",
    "plt.scatter(champion_k_component_1,champion_k_component_2,s=10)\n",
    "plt.title(\"Primary Component vs Secondary Component\")\n",
    "plt.xlabel(\"Primary Component\")\n",
    "plt.ylabel(\"Secondary Component\")\n",
    "plt.legend([\"Champion Teams\", \"Nonchampion Teams\", \"2023 Teams\"])\n",
    "plt.show()"
   ]
  },
  {
   "cell_type": "markdown",
   "metadata": {},
   "source": [
    "# Create test/train split"
   ]
  },
  {
   "cell_type": "code",
   "execution_count": 28,
   "metadata": {},
   "outputs": [],
   "source": [
    "from sklearn import svm\n",
    "from sklearn.model_selection import train_test_split\n",
    "from imblearn.over_sampling import SMOTE\n",
    "\n",
    "selected_features = \"PTS\",\"FGM\",\"FGA\",\"FG_PCT\",\"FG3M\",\"FG3A\",\"FG3_PCT\",\"FTM\",\"FTA\",\"FT_PCT\",\"OREB\",\"DREB\",\"REB\",\"AST\"\n",
    "\n",
    "X_train, X_test, y_train, y_test = train_test_split(top_k_components,np.array(nba_dataframe[\"NBA_FINALS_APPEARANCE\"]),test_size=0.25,random_state=10)\n",
    "\n",
    "sm2 = SMOTE(random_state=10, sampling_strategy=0.8)\n",
    "x_res, y_res = sm2.fit_resample(X_train, y_train)"
   ]
  },
  {
   "cell_type": "code",
   "execution_count": 29,
   "metadata": {},
   "outputs": [],
   "source": [
    "from sklearn.metrics import f1_score, make_scorer\n",
    "\n",
    "f1 = make_scorer(f1_score , average='macro')"
   ]
  },
  {
   "cell_type": "markdown",
   "metadata": {},
   "source": [
    "# Grid Search through SVM Model"
   ]
  },
  {
   "cell_type": "code",
   "execution_count": 30,
   "metadata": {},
   "outputs": [
    {
     "name": "stdout",
     "output_type": "stream",
     "text": [
      "Fitting 2 folds for each of 32 candidates, totalling 64 fits\n",
      "[CV] END ......................C=0.1, gamma=1, kernel=linear; total time=   0.2s\n",
      "[CV] END ......................C=0.1, gamma=1, kernel=linear; total time=   1.8s\n",
      "[CV] END .........................C=0.1, gamma=1, kernel=rbf; total time=   0.0s\n",
      "[CV] END .........................C=0.1, gamma=1, kernel=rbf; total time=   0.0s\n",
      "[CV] END ....................C=0.1, gamma=0.1, kernel=linear; total time=   0.2s\n",
      "[CV] END ....................C=0.1, gamma=0.1, kernel=linear; total time=   1.8s\n",
      "[CV] END .......................C=0.1, gamma=0.1, kernel=rbf; total time=   0.0s\n",
      "[CV] END .......................C=0.1, gamma=0.1, kernel=rbf; total time=   0.0s\n",
      "[CV] END ...................C=0.1, gamma=0.01, kernel=linear; total time=   0.2s\n",
      "[CV] END ...................C=0.1, gamma=0.01, kernel=linear; total time=   1.8s\n",
      "[CV] END ......................C=0.1, gamma=0.01, kernel=rbf; total time=   0.0s\n",
      "[CV] END ......................C=0.1, gamma=0.01, kernel=rbf; total time=   0.0s\n",
      "[CV] END ..................C=0.1, gamma=0.001, kernel=linear; total time=   0.2s\n",
      "[CV] END ..................C=0.1, gamma=0.001, kernel=linear; total time=   1.8s\n",
      "[CV] END .....................C=0.1, gamma=0.001, kernel=rbf; total time=   0.0s\n",
      "[CV] END .....................C=0.1, gamma=0.001, kernel=rbf; total time=   0.0s\n",
      "[CV] END ........................C=1, gamma=1, kernel=linear; total time=   0.3s\n",
      "[CV] END ........................C=1, gamma=1, kernel=linear; total time=   0.5s\n",
      "[CV] END ...........................C=1, gamma=1, kernel=rbf; total time=   0.0s\n",
      "[CV] END ...........................C=1, gamma=1, kernel=rbf; total time=   0.0s\n",
      "[CV] END ......................C=1, gamma=0.1, kernel=linear; total time=   0.3s\n",
      "[CV] END ......................C=1, gamma=0.1, kernel=linear; total time=   0.5s\n",
      "[CV] END .........................C=1, gamma=0.1, kernel=rbf; total time=   0.0s\n",
      "[CV] END .........................C=1, gamma=0.1, kernel=rbf; total time=   0.0s\n",
      "[CV] END .....................C=1, gamma=0.01, kernel=linear; total time=   0.3s\n",
      "[CV] END .....................C=1, gamma=0.01, kernel=linear; total time=   0.5s\n",
      "[CV] END ........................C=1, gamma=0.01, kernel=rbf; total time=   0.0s\n",
      "[CV] END ........................C=1, gamma=0.01, kernel=rbf; total time=   0.0s\n",
      "[CV] END ....................C=1, gamma=0.001, kernel=linear; total time=   0.3s\n",
      "[CV] END ....................C=1, gamma=0.001, kernel=linear; total time=   0.5s\n",
      "[CV] END .......................C=1, gamma=0.001, kernel=rbf; total time=   0.0s\n",
      "[CV] END .......................C=1, gamma=0.001, kernel=rbf; total time=   0.0s\n",
      "[CV] END .......................C=10, gamma=1, kernel=linear; total time=   0.8s\n",
      "[CV] END .......................C=10, gamma=1, kernel=linear; total time=   1.1s\n",
      "[CV] END ..........................C=10, gamma=1, kernel=rbf; total time=   0.0s\n",
      "[CV] END ..........................C=10, gamma=1, kernel=rbf; total time=   0.0s\n",
      "[CV] END .....................C=10, gamma=0.1, kernel=linear; total time=   0.8s\n",
      "[CV] END .....................C=10, gamma=0.1, kernel=linear; total time=   1.1s\n",
      "[CV] END ........................C=10, gamma=0.1, kernel=rbf; total time=   0.0s\n",
      "[CV] END ........................C=10, gamma=0.1, kernel=rbf; total time=   0.0s\n",
      "[CV] END ....................C=10, gamma=0.01, kernel=linear; total time=   0.8s\n",
      "[CV] END ....................C=10, gamma=0.01, kernel=linear; total time=   1.1s\n",
      "[CV] END .......................C=10, gamma=0.01, kernel=rbf; total time=   0.0s\n",
      "[CV] END .......................C=10, gamma=0.01, kernel=rbf; total time=   0.0s\n",
      "[CV] END ...................C=10, gamma=0.001, kernel=linear; total time=   0.8s\n",
      "[CV] END ...................C=10, gamma=0.001, kernel=linear; total time=   1.1s\n",
      "[CV] END ......................C=10, gamma=0.001, kernel=rbf; total time=   0.0s\n",
      "[CV] END ......................C=10, gamma=0.001, kernel=rbf; total time=   0.0s\n",
      "[CV] END ......................C=100, gamma=1, kernel=linear; total time=   0.3s\n",
      "[CV] END ......................C=100, gamma=1, kernel=linear; total time=   0.2s\n",
      "[CV] END .........................C=100, gamma=1, kernel=rbf; total time=   0.0s\n",
      "[CV] END .........................C=100, gamma=1, kernel=rbf; total time=   0.0s\n",
      "[CV] END ....................C=100, gamma=0.1, kernel=linear; total time=   0.3s\n",
      "[CV] END ....................C=100, gamma=0.1, kernel=linear; total time=   0.2s\n",
      "[CV] END .......................C=100, gamma=0.1, kernel=rbf; total time=   0.0s\n",
      "[CV] END .......................C=100, gamma=0.1, kernel=rbf; total time=   0.0s\n",
      "[CV] END ...................C=100, gamma=0.01, kernel=linear; total time=   0.3s\n",
      "[CV] END ...................C=100, gamma=0.01, kernel=linear; total time=   0.2s\n",
      "[CV] END ......................C=100, gamma=0.01, kernel=rbf; total time=   0.0s\n",
      "[CV] END ......................C=100, gamma=0.01, kernel=rbf; total time=   0.0s\n",
      "[CV] END ..................C=100, gamma=0.001, kernel=linear; total time=   0.3s\n",
      "[CV] END ..................C=100, gamma=0.001, kernel=linear; total time=   0.2s\n",
      "[CV] END .....................C=100, gamma=0.001, kernel=rbf; total time=   0.0s\n",
      "[CV] END .....................C=100, gamma=0.001, kernel=rbf; total time=   0.0s\n",
      "Best Parameters: {'C': 0.1, 'gamma': 1, 'kernel': 'linear'}\n",
      "Best Score: 0.0\n"
     ]
    }
   ],
   "source": [
    "from sklearn.model_selection import GridSearchCV\n",
    "from sklearn.svm import SVC\n",
    "from sklearn import datasets\n",
    "from sklearn.model_selection import RandomizedSearchCV\n",
    "\n",
    "from sklearn.metrics import make_scorer, precision_score, f1_score\n",
    "\n",
    "param_grid = {\n",
    "    'C': [0.1, 1, 10, 100],\n",
    "    'gamma': [1, 0.1, 0.01, 0.001],\n",
    "    'kernel': ['linear', 'rbf']\n",
    "}\n",
    "\n",
    "# Create an SVM model\n",
    "svm = SVC()\n",
    "\n",
    "# Choose the scoring method\n",
    "# For recall:\n",
    "scorer = make_scorer(f1_score,pos_label=1.0)\n",
    "\n",
    "# For F1 Score:\n",
    "# scorer = make_scorer(f1_score)\n",
    "\n",
    "# Create a GridSearchCV object\n",
    "grid_search = GridSearchCV(estimator=svm, param_grid=param_grid, scoring=scorer,cv=2,verbose=2)\n",
    "\n",
    "grid_search.fit(X_train, y_train)\n",
    "\n",
    "print(\"Best Parameters:\", grid_search.best_params_)\n",
    "print(\"Best Score:\", grid_search.best_score_)\n",
    "\n",
    "best_model = grid_search.best_estimator_\n",
    "y_pred = best_model.predict(X_test)"
   ]
  },
  {
   "cell_type": "markdown",
   "metadata": {},
   "source": [
    "# Develop SVM Model"
   ]
  },
  {
   "cell_type": "code",
   "execution_count": 31,
   "metadata": {},
   "outputs": [
    {
     "data": {
      "text/plain": [
       "0.5467160037002775"
      ]
     },
     "execution_count": 31,
     "metadata": {},
     "output_type": "execute_result"
    }
   ],
   "source": [
    "best_model.fit(x_res, y_res)\n",
    "best_model.score(x_res, y_res)"
   ]
  },
  {
   "cell_type": "markdown",
   "metadata": {},
   "source": [
    "# Test Prediction against Test"
   ]
  },
  {
   "cell_type": "code",
   "execution_count": 32,
   "metadata": {},
   "outputs": [
    {
     "data": {
      "text/html": [
       "<div>\n",
       "<style scoped>\n",
       "    .dataframe tbody tr th:only-of-type {\n",
       "        vertical-align: middle;\n",
       "    }\n",
       "\n",
       "    .dataframe tbody tr th {\n",
       "        vertical-align: top;\n",
       "    }\n",
       "\n",
       "    .dataframe thead th {\n",
       "        text-align: right;\n",
       "    }\n",
       "</style>\n",
       "<table border=\"1\" class=\"dataframe\">\n",
       "  <thead>\n",
       "    <tr style=\"text-align: right;\">\n",
       "      <th>col_0</th>\n",
       "      <th>0.0</th>\n",
       "      <th>1.0</th>\n",
       "    </tr>\n",
       "    <tr>\n",
       "      <th>row_0</th>\n",
       "      <th></th>\n",
       "      <th></th>\n",
       "    </tr>\n",
       "  </thead>\n",
       "  <tbody>\n",
       "    <tr>\n",
       "      <th>0.0</th>\n",
       "      <td>198</td>\n",
       "      <td>5</td>\n",
       "    </tr>\n",
       "    <tr>\n",
       "      <th>1.0</th>\n",
       "      <td>5</td>\n",
       "      <td>0</td>\n",
       "    </tr>\n",
       "  </tbody>\n",
       "</table>\n",
       "</div>"
      ],
      "text/plain": [
       "col_0  0.0  1.0\n",
       "row_0          \n",
       "0.0    198    5\n",
       "1.0      5    0"
      ]
     },
     "execution_count": 32,
     "metadata": {},
     "output_type": "execute_result"
    }
   ],
   "source": [
    "import pandas as pd\n",
    "\n",
    "# predict data and cross tab\n",
    "y_pred = best_model.predict(X_test)\n",
    "pd.crosstab(y_test, y_pred)"
   ]
  },
  {
   "cell_type": "markdown",
   "metadata": {},
   "source": [
    "# Print Metrics"
   ]
  },
  {
   "cell_type": "code",
   "execution_count": 33,
   "metadata": {},
   "outputs": [
    {
     "name": "stdout",
     "output_type": "stream",
     "text": [
      "accuracy is 0.9519230769230769\n",
      "mae is 0.04807692307692308\n",
      "recall is 0.9519230769230769\n",
      "precision is 0.9519230769230769\n",
      "r2 is -1.0492610837438425\n",
      "Classification Report:\n",
      "              precision    recall  f1-score   support\n",
      "\n",
      "         0.0       0.98      0.98      0.98       203\n",
      "         1.0       0.00      0.00      0.00         5\n",
      "\n",
      "    accuracy                           0.95       208\n",
      "   macro avg       0.49      0.49      0.49       208\n",
      "weighted avg       0.95      0.95      0.95       208\n",
      "\n"
     ]
    }
   ],
   "source": [
    "import sklearn.metrics as metrics\n",
    "print('accuracy is ' + str(metrics.accuracy_score(y_test, y_pred)))\n",
    "print('mae is ' + str(metrics.mean_absolute_error(y_test, y_pred)))\n",
    "print('recall is ' + str(metrics.recall_score(y_test, y_pred, average='weighted')))\n",
    "print('precision is ' + str(metrics.precision_score(y_test, y_pred, average='weighted')))\n",
    "print('r2 is ' + str(metrics.r2_score(y_test, y_pred)))\n",
    "\n",
    "\n",
    "report = metrics.classification_report(y_test, y_pred, zero_division=1)\n",
    "print(\"Classification Report:\")\n",
    "print(report)"
   ]
  },
  {
   "cell_type": "markdown",
   "metadata": {},
   "source": [
    "# Confusion Matrix"
   ]
  },
  {
   "cell_type": "code",
   "execution_count": 12,
   "metadata": {},
   "outputs": [
    {
     "data": {
      "image/png": "[encoded data removed]",
      "text/plain": [
       "<Figure size 640x480 with 2 Axes>"
      ]
     },
     "metadata": {},
     "output_type": "display_data"
    }
   ],
   "source": [
    "# show a confusion matrix\n",
    "confusion_matrix = metrics.confusion_matrix(y_test, y_pred)\n",
    "cm_display = metrics.ConfusionMatrixDisplay(\n",
    "    confusion_matrix=confusion_matrix, display_labels=[\"Nonchampions\", \"Champions\"]\n",
    ")\n",
    "cm_display.plot()\n",
    "plt.title(\"Confusion Matrix for SVM\")\n",
    "plt.show()"
   ]
  }
 ],
 "metadata": {
  "kernelspec": {
   "display_name": "Python 3",
   "language": "python",
   "name": "python3"
  },
  "language_info": {
   "codemirror_mode": {
    "name": "ipython",
    "version": 3
   },
   "file_extension": ".py",
   "mimetype": "text/x-python",
   "name": "python",
   "nbconvert_exporter": "python",
   "pygments_lexer": "ipython3",
   "version": "3.10.12"
  }
 },
 "nbformat": 4,
 "nbformat_minor": 2
}
